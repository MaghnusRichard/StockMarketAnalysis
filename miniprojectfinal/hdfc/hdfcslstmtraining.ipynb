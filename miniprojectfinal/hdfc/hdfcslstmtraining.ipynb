{
 "cells": [
  {
   "cell_type": "markdown",
   "metadata": {},
   "source": [
    "## Step 4: Training on the merged dataset\n",
    "\n",
    "**Objectives**\n",
    "\n",
    "- 4.1. Importing the dataset\n",
    "- 4.2. Creating a function to preprocess the dataset\n",
    "- 4.3. Preproccessing the dataset for LSTM\n",
    "- 4.4. Building the LSTM model\n",
    "- 4.5. Testing the model\n"
   ]
  },
  {
   "cell_type": "code",
   "execution_count": 2,
   "metadata": {},
   "outputs": [],
   "source": [
    "import pandas as pd\n",
    "import numpy as np\n",
    "from sklearn.preprocessing import MinMaxScaler\n",
    "from sklearn.metrics import mean_squared_error\n",
    "import matplotlib.pyplot as plt"
   ]
  },
  {
   "cell_type": "markdown",
   "metadata": {},
   "source": [
    "### 4.1. Importing the dataset\n"
   ]
  },
  {
   "cell_type": "code",
   "execution_count": 3,
   "metadata": {},
   "outputs": [],
   "source": [
    "#csvFilePath = 'hdfc_merged.csv'\n",
    "df = pd.read_csv('hdfc_merged.csv')\n"
   ]
  },
  {
   "cell_type": "markdown",
   "metadata": {},
   "source": [
    "### 4.2. Creating a function to preprocess the dataset\n",
    "\n",
    "The `createDataset` function is designed to prepare data for training a time-series prediction model. It takes the input features (`dataset`), the target variable (`target`), and an optional parameter `lookBack`, which determines how many past time steps the model should consider. The function then iterates through the dataset, creating pairs of input sequences (`dataX`) and corresponding target values (`dataY`). For each iteration, a window of time steps equal to `lookBack` is taken from the dataset, and this window becomes a sequence in `dataX`. The target value corresponding to the last time step in the window is added to `dataY`. The function returns two arrays suitable for training a model, where each row in `dataX` represents a sequence of past observations, and the corresponding element in `dataY` is the target value to be predicted. This kind of dataset preparation is particularly useful for training models like Long Short-Term Memory (LSTM) networks, which can capture temporal dependencies in sequential data.\n"
   ]
  },
  {
   "cell_type": "markdown",
   "metadata": {},
   "source": [
    "Absolutely! Let's walk through the first 3 iterations of the `createDataset` function with the provided information:\n",
    "\n",
    "**Inputs:**\n",
    "\n",
    "- `dataset`: List containing closing prices (assuming these are the values you provided):\n",
    "  ```\n",
    "  dataset = [633.47, 633.5, 632.5, 642.5, 650, 647.5, 650.5, 639.95, 645]\n",
    "  ```\n",
    "- `target`: Same list as `dataset` (assuming target values are also closing prices on the next day).\n",
    "- `lookBack`: We'll use 3 (considering past 3 opening prices for prediction).\n",
    "\n",
    "**Iteration 1 (i=0):**\n",
    "\n",
    "- `a = dataset[0:(0 + 3), :]`: This takes the first 3 elements from `dataset`: `a = [633.47, 633.5, 632.5]`.\n",
    "- `dataX.append(a)`: Adds this past data chunk to `dataX`: `dataX = [[633.47, 633.5, 632.5]]`.\n",
    "- `dataY.append(target[0 + 3])`: Retrieves the target value (4th element): `dataY.append(642.5)`.\n",
    "\n",
    "**Iteration 2 (i=1):**\n",
    "\n",
    "- `a = dataset[1:(1 + 3), :]`: Takes elements from index 1 to 3 (exclusive): `a = [633.5, 632.5, 642.5]`.\n",
    "- `dataX.append(a)`: Adds this past data chunk to `dataX`: `dataX = [[633.47, 633.5, 632.5], [633.5, 632.5, 642.5]]`.\n",
    "- `dataY.append(target[1 + 3])`: Retrieves the target value (5th element): `dataY.append(650)`.\n",
    "\n",
    "**Iteration 3 (i=2):**\n",
    "\n",
    "- `a = dataset[2:(2 + 3), :]`: Takes elements from index 2 to 4 (exclusive): `a = [632.5, 642.5, 650]`.\n",
    "- `dataX.append(a)`: Adds this past data chunk to `dataX`: `dataX = [[633.47, 633.5, 632.5], [633.5, 632.5, 642.5], [632.5, 642.5, 650]]`.\n",
    "- `dataY.append(target[2 + 3])`: Retrieves the target value (6th element): `dataY.append(647.5)`.\n",
    "\n",
    "**After 3 Iterations:**\n",
    "\n",
    "- `dataX`: List of lists containing past data chunks:\n",
    "  ```\n",
    "  dataX = [[633.47, 633.5, 632.5], [633.5, 632.5, 642.5], [632.5, 642.5, 650]]\n",
    "  ```\n",
    "- `dataY`: Single list containing target values (closing prices on the next day) corresponding to each chunk in `dataX`:\n",
    "  ```\n",
    "  dataY = [642.5, 650, 647.5]\n",
    "  ```\n",
    "\n",
    "**Note:** The loop would continue for all remaining elements in `dataset` following the same pattern. However, keep in mind that since `len(dataset)` (2714) is much larger than `lookBack` (3), the loop will iterate 2714 - 3 = 2711 times to create all the data chunks and target pairs.\n"
   ]
  },
  {
   "cell_type": "code",
   "execution_count": 4,
   "metadata": {},
   "outputs": [],
   "source": [
    "def createDataset(dataset, target, lookBack=1):\n",
    "    dataX, dataY = [], [] #datax with past values and datay with values to be predicted\n",
    "    for i in range(len(dataset) - lookBack):\n",
    "        a = dataset[i:(i + lookBack), :]\n",
    "        dataX.append(a)\n",
    "        dataY.append(target[i + lookBack])\n",
    "    return np.array(dataX), np.array(dataY)\n",
    "    \n",
    "#enddef"
   ]
  },
  {
   "cell_type": "markdown",
   "metadata": {},
   "source": [
    "### 4.3. Preproccessing the dataset for LSTM\n",
    "\n",
    "This section prepares data for training a LSTM network. It first extracts the features and the target variable (closing stock prices) from a DataFrame. Then it uses Min-Max scaling to normalize these features and the target variable, ensuring they fall within the range of 0 to 1. It utilizes the `createDataset` function, section 4.2, to structure the data into sequences suitable for training the LSTM model. The sequences represent past observations, and the corresponding targets are the next time step's closing prices to predict. Finally, the dataset gets divided into training and testing sets, and their dimensions are adjusted to fit the LSTM model's input requirements. The resulting `trainX`, `testX`, `trainY`, and `testY` are now ready for training and evaluating the LSTM model's performance in predicting future stock prices based on historical patterns.\n"
   ]
  },
  {
   "cell_type": "code",
   "execution_count": 6,
   "metadata": {},
   "outputs": [
    {
     "data": {
      "text/plain": [
       "\" when you access trainX.shape[0], you're getting the first dimension of the trainX array, which is the number of rows.\\n In the context of machine learning, each row typically represents a \\nseparate sample in your dataset, so trainX.shape[0] is the total number of samples/rows in your trainX dataset\\nlookback is the number of values in the stacked array trainX.shape[2] is the number of features in the dataset\\n\""
      ]
     },
     "execution_count": 6,
     "metadata": {},
     "output_type": "execute_result"
    }
   ],
   "source": [
    "features = df.drop(['Date', 'Open'], axis=1).values#axis =1means col drop this will have all columns except date and Open of all rows in array\n",
    "target = df['Open'].values  #all the open values in an array\n",
    "\n",
    "scalerFeatures = MinMaxScaler(feature_range=(0, 1))# This line creates a MinMaxScaler object.\n",
    "scalerTarget = MinMaxScaler(feature_range=(0, 1))\n",
    "\n",
    "featuresScaled = scalerFeatures.fit_transform(features)\n",
    "targetScaled = scalerTarget.fit_transform(target.reshape(-1, 1))#target.reshape(-1, 1): This reshapes the target variable into a 2D array with one column and as many rows as \n",
    "#necessary The -1 in the reshape function indicates that the number of rows should be inferred based on the length of the target variable.\n",
    "#print(target)\n",
    "'''why we are using reshape(-1,1) for target is because target is a 1d array and MinMaxScaler's fit_transform expects a 2d array \n",
    "by using (-1,1)means that we want numpy to calculate the correct number of rows for a new array that has exactly one column.\n",
    " The -1 is a placeholder that means \"whatever dimension is needed. it needs to be reshaped into a 2D array before being passed to fit_transform. \n",
    " That's why target.reshape(-1, 1) is used'''\n",
    "#print(featuresScaled[:5])\n",
    "\n",
    "lookBack = 3\n",
    "X, y = createDataset(featuresScaled, targetScaled, lookBack)\n",
    "\n",
    "\n",
    "trainSize = int(len(X) * 0.95) # len(X)is 2710 now its 90% training and 5% testing\n",
    "testSize = len(X) - trainSize\n",
    "trainX, testX = X[0:trainSize, :], X[trainSize:len(X), :]\n",
    "trainY, testY = y[0:trainSize], y[trainSize:len(y)]\n",
    "\n",
    "trainX = np.reshape(trainX, (trainX.shape[0], lookBack, trainX.shape[2]))#this is reshaping the trainX,trainY from 2d to 3d array\n",
    "testX = np.reshape(testX, (testX.shape[0], lookBack, testX.shape[2]))\n",
    "#trainX.shape[0] is the number of rows in the trainX array, lookBack is the number of columns, and trainX.shape[2] is the number of features in the dataset.\n",
    "''' when you access trainX.shape[0], you're getting the first dimension of the trainX array, which is the number of rows.\n",
    " In the context of machine learning, each row typically represents a \n",
    "separate sample in your dataset, so trainX.shape[0] is the total number of samples/rows in your trainX dataset\n",
    "lookback is the number of values in the stacked array trainX.shape[2] is the number of features in the dataset\n",
    "'''\n"
   ]
  },
  {
   "cell_type": "code",
   "execution_count": 20,
   "metadata": {},
   "outputs": [
    {
     "name": "stdout",
     "output_type": "stream",
     "text": [
      "(2710, 3, 10)\n"
     ]
    }
   ],
   "source": [
    "X_combined = np.concatenate((trainX,testX), axis=0)\n",
    "print(X_combined.shape)"
   ]
  },
  {
   "cell_type": "markdown",
   "metadata": {},
   "source": [
    "### 4.4. Building the LSTM model\n"
   ]
  },
  {
   "cell_type": "code",
   "execution_count": 7,
   "metadata": {},
   "outputs": [
    {
     "name": "stderr",
     "output_type": "stream",
     "text": [
      "c:\\Users\\tebym\\AppData\\Local\\Programs\\Python\\Python312\\Lib\\site-packages\\keras\\src\\layers\\rnn\\rnn.py:204: UserWarning: Do not pass an `input_shape`/`input_dim` argument to a layer. When using Sequential models, prefer using an `Input(shape)` object as the first layer in the model instead.\n",
      "  super().__init__(**kwargs)\n"
     ]
    },
    {
     "data": {
      "text/html": [
       "<pre style=\"white-space:pre;overflow-x:auto;line-height:normal;font-family:Menlo,'DejaVu Sans Mono',consolas,'Courier New',monospace\"><span style=\"font-weight: bold\">Model: \"sequential\"</span>\n",
       "</pre>\n"
      ],
      "text/plain": [
       "\u001b[1mModel: \"sequential\"\u001b[0m\n"
      ]
     },
     "metadata": {},
     "output_type": "display_data"
    },
    {
     "data": {
      "text/html": [
       "<pre style=\"white-space:pre;overflow-x:auto;line-height:normal;font-family:Menlo,'DejaVu Sans Mono',consolas,'Courier New',monospace\">┏━━━━━━━━━━━━━━━━━━━━━━━━━━━━━━━━━┳━━━━━━━━━━━━━━━━━━━━━━━━┳━━━━━━━━━━━━━━━┓\n",
       "┃<span style=\"font-weight: bold\"> Layer (type)                    </span>┃<span style=\"font-weight: bold\"> Output Shape           </span>┃<span style=\"font-weight: bold\">       Param # </span>┃\n",
       "┡━━━━━━━━━━━━━━━━━━━━━━━━━━━━━━━━━╇━━━━━━━━━━━━━━━━━━━━━━━━╇━━━━━━━━━━━━━━━┩\n",
       "│ lstm (<span style=\"color: #0087ff; text-decoration-color: #0087ff\">LSTM</span>)                     │ (<span style=\"color: #00d7ff; text-decoration-color: #00d7ff\">None</span>, <span style=\"color: #00af00; text-decoration-color: #00af00\">3</span>, <span style=\"color: #00af00; text-decoration-color: #00af00\">100</span>)         │        <span style=\"color: #00af00; text-decoration-color: #00af00\">44,400</span> │\n",
       "├─────────────────────────────────┼────────────────────────┼───────────────┤\n",
       "│ dropout (<span style=\"color: #0087ff; text-decoration-color: #0087ff\">Dropout</span>)               │ (<span style=\"color: #00d7ff; text-decoration-color: #00d7ff\">None</span>, <span style=\"color: #00af00; text-decoration-color: #00af00\">3</span>, <span style=\"color: #00af00; text-decoration-color: #00af00\">100</span>)         │             <span style=\"color: #00af00; text-decoration-color: #00af00\">0</span> │\n",
       "├─────────────────────────────────┼────────────────────────┼───────────────┤\n",
       "│ lstm_1 (<span style=\"color: #0087ff; text-decoration-color: #0087ff\">LSTM</span>)                   │ (<span style=\"color: #00d7ff; text-decoration-color: #00d7ff\">None</span>, <span style=\"color: #00af00; text-decoration-color: #00af00\">3</span>, <span style=\"color: #00af00; text-decoration-color: #00af00\">80</span>)          │        <span style=\"color: #00af00; text-decoration-color: #00af00\">57,920</span> │\n",
       "├─────────────────────────────────┼────────────────────────┼───────────────┤\n",
       "│ dropout_1 (<span style=\"color: #0087ff; text-decoration-color: #0087ff\">Dropout</span>)             │ (<span style=\"color: #00d7ff; text-decoration-color: #00d7ff\">None</span>, <span style=\"color: #00af00; text-decoration-color: #00af00\">3</span>, <span style=\"color: #00af00; text-decoration-color: #00af00\">80</span>)          │             <span style=\"color: #00af00; text-decoration-color: #00af00\">0</span> │\n",
       "├─────────────────────────────────┼────────────────────────┼───────────────┤\n",
       "│ lstm_2 (<span style=\"color: #0087ff; text-decoration-color: #0087ff\">LSTM</span>)                   │ (<span style=\"color: #00d7ff; text-decoration-color: #00d7ff\">None</span>, <span style=\"color: #00af00; text-decoration-color: #00af00\">3</span>, <span style=\"color: #00af00; text-decoration-color: #00af00\">50</span>)          │        <span style=\"color: #00af00; text-decoration-color: #00af00\">26,200</span> │\n",
       "├─────────────────────────────────┼────────────────────────┼───────────────┤\n",
       "│ dropout_2 (<span style=\"color: #0087ff; text-decoration-color: #0087ff\">Dropout</span>)             │ (<span style=\"color: #00d7ff; text-decoration-color: #00d7ff\">None</span>, <span style=\"color: #00af00; text-decoration-color: #00af00\">3</span>, <span style=\"color: #00af00; text-decoration-color: #00af00\">50</span>)          │             <span style=\"color: #00af00; text-decoration-color: #00af00\">0</span> │\n",
       "├─────────────────────────────────┼────────────────────────┼───────────────┤\n",
       "│ lstm_3 (<span style=\"color: #0087ff; text-decoration-color: #0087ff\">LSTM</span>)                   │ (<span style=\"color: #00d7ff; text-decoration-color: #00d7ff\">None</span>, <span style=\"color: #00af00; text-decoration-color: #00af00\">30</span>)             │         <span style=\"color: #00af00; text-decoration-color: #00af00\">9,720</span> │\n",
       "├─────────────────────────────────┼────────────────────────┼───────────────┤\n",
       "│ dropout_3 (<span style=\"color: #0087ff; text-decoration-color: #0087ff\">Dropout</span>)             │ (<span style=\"color: #00d7ff; text-decoration-color: #00d7ff\">None</span>, <span style=\"color: #00af00; text-decoration-color: #00af00\">30</span>)             │             <span style=\"color: #00af00; text-decoration-color: #00af00\">0</span> │\n",
       "├─────────────────────────────────┼────────────────────────┼───────────────┤\n",
       "│ dense (<span style=\"color: #0087ff; text-decoration-color: #0087ff\">Dense</span>)                   │ (<span style=\"color: #00d7ff; text-decoration-color: #00d7ff\">None</span>, <span style=\"color: #00af00; text-decoration-color: #00af00\">1</span>)              │            <span style=\"color: #00af00; text-decoration-color: #00af00\">31</span> │\n",
       "└─────────────────────────────────┴────────────────────────┴───────────────┘\n",
       "</pre>\n"
      ],
      "text/plain": [
       "┏━━━━━━━━━━━━━━━━━━━━━━━━━━━━━━━━━┳━━━━━━━━━━━━━━━━━━━━━━━━┳━━━━━━━━━━━━━━━┓\n",
       "┃\u001b[1m \u001b[0m\u001b[1mLayer (type)                   \u001b[0m\u001b[1m \u001b[0m┃\u001b[1m \u001b[0m\u001b[1mOutput Shape          \u001b[0m\u001b[1m \u001b[0m┃\u001b[1m \u001b[0m\u001b[1m      Param #\u001b[0m\u001b[1m \u001b[0m┃\n",
       "┡━━━━━━━━━━━━━━━━━━━━━━━━━━━━━━━━━╇━━━━━━━━━━━━━━━━━━━━━━━━╇━━━━━━━━━━━━━━━┩\n",
       "│ lstm (\u001b[38;5;33mLSTM\u001b[0m)                     │ (\u001b[38;5;45mNone\u001b[0m, \u001b[38;5;34m3\u001b[0m, \u001b[38;5;34m100\u001b[0m)         │        \u001b[38;5;34m44,400\u001b[0m │\n",
       "├─────────────────────────────────┼────────────────────────┼───────────────┤\n",
       "│ dropout (\u001b[38;5;33mDropout\u001b[0m)               │ (\u001b[38;5;45mNone\u001b[0m, \u001b[38;5;34m3\u001b[0m, \u001b[38;5;34m100\u001b[0m)         │             \u001b[38;5;34m0\u001b[0m │\n",
       "├─────────────────────────────────┼────────────────────────┼───────────────┤\n",
       "│ lstm_1 (\u001b[38;5;33mLSTM\u001b[0m)                   │ (\u001b[38;5;45mNone\u001b[0m, \u001b[38;5;34m3\u001b[0m, \u001b[38;5;34m80\u001b[0m)          │        \u001b[38;5;34m57,920\u001b[0m │\n",
       "├─────────────────────────────────┼────────────────────────┼───────────────┤\n",
       "│ dropout_1 (\u001b[38;5;33mDropout\u001b[0m)             │ (\u001b[38;5;45mNone\u001b[0m, \u001b[38;5;34m3\u001b[0m, \u001b[38;5;34m80\u001b[0m)          │             \u001b[38;5;34m0\u001b[0m │\n",
       "├─────────────────────────────────┼────────────────────────┼───────────────┤\n",
       "│ lstm_2 (\u001b[38;5;33mLSTM\u001b[0m)                   │ (\u001b[38;5;45mNone\u001b[0m, \u001b[38;5;34m3\u001b[0m, \u001b[38;5;34m50\u001b[0m)          │        \u001b[38;5;34m26,200\u001b[0m │\n",
       "├─────────────────────────────────┼────────────────────────┼───────────────┤\n",
       "│ dropout_2 (\u001b[38;5;33mDropout\u001b[0m)             │ (\u001b[38;5;45mNone\u001b[0m, \u001b[38;5;34m3\u001b[0m, \u001b[38;5;34m50\u001b[0m)          │             \u001b[38;5;34m0\u001b[0m │\n",
       "├─────────────────────────────────┼────────────────────────┼───────────────┤\n",
       "│ lstm_3 (\u001b[38;5;33mLSTM\u001b[0m)                   │ (\u001b[38;5;45mNone\u001b[0m, \u001b[38;5;34m30\u001b[0m)             │         \u001b[38;5;34m9,720\u001b[0m │\n",
       "├─────────────────────────────────┼────────────────────────┼───────────────┤\n",
       "│ dropout_3 (\u001b[38;5;33mDropout\u001b[0m)             │ (\u001b[38;5;45mNone\u001b[0m, \u001b[38;5;34m30\u001b[0m)             │             \u001b[38;5;34m0\u001b[0m │\n",
       "├─────────────────────────────────┼────────────────────────┼───────────────┤\n",
       "│ dense (\u001b[38;5;33mDense\u001b[0m)                   │ (\u001b[38;5;45mNone\u001b[0m, \u001b[38;5;34m1\u001b[0m)              │            \u001b[38;5;34m31\u001b[0m │\n",
       "└─────────────────────────────────┴────────────────────────┴───────────────┘\n"
      ]
     },
     "metadata": {},
     "output_type": "display_data"
    },
    {
     "data": {
      "text/html": [
       "<pre style=\"white-space:pre;overflow-x:auto;line-height:normal;font-family:Menlo,'DejaVu Sans Mono',consolas,'Courier New',monospace\"><span style=\"font-weight: bold\"> Total params: </span><span style=\"color: #00af00; text-decoration-color: #00af00\">138,271</span> (540.12 KB)\n",
       "</pre>\n"
      ],
      "text/plain": [
       "\u001b[1m Total params: \u001b[0m\u001b[38;5;34m138,271\u001b[0m (540.12 KB)\n"
      ]
     },
     "metadata": {},
     "output_type": "display_data"
    },
    {
     "data": {
      "text/html": [
       "<pre style=\"white-space:pre;overflow-x:auto;line-height:normal;font-family:Menlo,'DejaVu Sans Mono',consolas,'Courier New',monospace\"><span style=\"font-weight: bold\"> Trainable params: </span><span style=\"color: #00af00; text-decoration-color: #00af00\">138,271</span> (540.12 KB)\n",
       "</pre>\n"
      ],
      "text/plain": [
       "\u001b[1m Trainable params: \u001b[0m\u001b[38;5;34m138,271\u001b[0m (540.12 KB)\n"
      ]
     },
     "metadata": {},
     "output_type": "display_data"
    },
    {
     "data": {
      "text/html": [
       "<pre style=\"white-space:pre;overflow-x:auto;line-height:normal;font-family:Menlo,'DejaVu Sans Mono',consolas,'Courier New',monospace\"><span style=\"font-weight: bold\"> Non-trainable params: </span><span style=\"color: #00af00; text-decoration-color: #00af00\">0</span> (0.00 B)\n",
       "</pre>\n"
      ],
      "text/plain": [
       "\u001b[1m Non-trainable params: \u001b[0m\u001b[38;5;34m0\u001b[0m (0.00 B)\n"
      ]
     },
     "metadata": {},
     "output_type": "display_data"
    },
    {
     "name": "stdout",
     "output_type": "stream",
     "text": [
      "Epoch 1/25\n",
      "\u001b[1m65/65\u001b[0m \u001b[32m━━━━━━━━━━━━━━━━━━━━\u001b[0m\u001b[37m\u001b[0m \u001b[1m12s\u001b[0m 41ms/step - loss: 0.0924 - val_loss: 8.3098e-04\n",
      "Epoch 2/25\n",
      "\u001b[1m65/65\u001b[0m \u001b[32m━━━━━━━━━━━━━━━━━━━━\u001b[0m\u001b[37m\u001b[0m \u001b[1m2s\u001b[0m 26ms/step - loss: 0.0048 - val_loss: 0.0011\n",
      "Epoch 3/25\n",
      "\u001b[1m65/65\u001b[0m \u001b[32m━━━━━━━━━━━━━━━━━━━━\u001b[0m\u001b[37m\u001b[0m \u001b[1m2s\u001b[0m 27ms/step - loss: 0.0045 - val_loss: 0.0041\n",
      "Epoch 4/25\n",
      "\u001b[1m65/65\u001b[0m \u001b[32m━━━━━━━━━━━━━━━━━━━━\u001b[0m\u001b[37m\u001b[0m \u001b[1m2s\u001b[0m 28ms/step - loss: 0.0036 - val_loss: 0.0023\n",
      "Epoch 5/25\n",
      "\u001b[1m65/65\u001b[0m \u001b[32m━━━━━━━━━━━━━━━━━━━━\u001b[0m\u001b[37m\u001b[0m \u001b[1m2s\u001b[0m 29ms/step - loss: 0.0037 - val_loss: 9.2069e-04\n",
      "Epoch 6/25\n",
      "\u001b[1m65/65\u001b[0m \u001b[32m━━━━━━━━━━━━━━━━━━━━\u001b[0m\u001b[37m\u001b[0m \u001b[1m2s\u001b[0m 30ms/step - loss: 0.0036 - val_loss: 0.0018\n",
      "Epoch 7/25\n",
      "\u001b[1m65/65\u001b[0m \u001b[32m━━━━━━━━━━━━━━━━━━━━\u001b[0m\u001b[37m\u001b[0m \u001b[1m2s\u001b[0m 30ms/step - loss: 0.0032 - val_loss: 0.0013\n",
      "Epoch 8/25\n",
      "\u001b[1m65/65\u001b[0m \u001b[32m━━━━━━━━━━━━━━━━━━━━\u001b[0m\u001b[37m\u001b[0m \u001b[1m2s\u001b[0m 27ms/step - loss: 0.0030 - val_loss: 6.1247e-04\n",
      "Epoch 9/25\n",
      "\u001b[1m65/65\u001b[0m \u001b[32m━━━━━━━━━━━━━━━━━━━━\u001b[0m\u001b[37m\u001b[0m \u001b[1m2s\u001b[0m 29ms/step - loss: 0.0028 - val_loss: 7.7907e-04\n",
      "Epoch 10/25\n",
      "\u001b[1m65/65\u001b[0m \u001b[32m━━━━━━━━━━━━━━━━━━━━\u001b[0m\u001b[37m\u001b[0m \u001b[1m2s\u001b[0m 27ms/step - loss: 0.0025 - val_loss: 5.1443e-04\n",
      "Epoch 11/25\n",
      "\u001b[1m65/65\u001b[0m \u001b[32m━━━━━━━━━━━━━━━━━━━━\u001b[0m\u001b[37m\u001b[0m \u001b[1m2s\u001b[0m 26ms/step - loss: 0.0030 - val_loss: 0.0024\n",
      "Epoch 12/25\n",
      "\u001b[1m65/65\u001b[0m \u001b[32m━━━━━━━━━━━━━━━━━━━━\u001b[0m\u001b[37m\u001b[0m \u001b[1m2s\u001b[0m 29ms/step - loss: 0.0028 - val_loss: 0.0044\n",
      "Epoch 13/25\n",
      "\u001b[1m65/65\u001b[0m \u001b[32m━━━━━━━━━━━━━━━━━━━━\u001b[0m\u001b[37m\u001b[0m \u001b[1m2s\u001b[0m 26ms/step - loss: 0.0026 - val_loss: 7.8118e-04\n",
      "Epoch 14/25\n",
      "\u001b[1m65/65\u001b[0m \u001b[32m━━━━━━━━━━━━━━━━━━━━\u001b[0m\u001b[37m\u001b[0m \u001b[1m2s\u001b[0m 28ms/step - loss: 0.0028 - val_loss: 0.0026\n",
      "Epoch 15/25\n",
      "\u001b[1m65/65\u001b[0m \u001b[32m━━━━━━━━━━━━━━━━━━━━\u001b[0m\u001b[37m\u001b[0m \u001b[1m2s\u001b[0m 28ms/step - loss: 0.0025 - val_loss: 0.0014\n",
      "Epoch 16/25\n",
      "\u001b[1m65/65\u001b[0m \u001b[32m━━━━━━━━━━━━━━━━━━━━\u001b[0m\u001b[37m\u001b[0m \u001b[1m2s\u001b[0m 25ms/step - loss: 0.0027 - val_loss: 0.0021\n",
      "Epoch 17/25\n",
      "\u001b[1m65/65\u001b[0m \u001b[32m━━━━━━━━━━━━━━━━━━━━\u001b[0m\u001b[37m\u001b[0m \u001b[1m2s\u001b[0m 23ms/step - loss: 0.0022 - val_loss: 0.0014\n",
      "Epoch 18/25\n",
      "\u001b[1m65/65\u001b[0m \u001b[32m━━━━━━━━━━━━━━━━━━━━\u001b[0m\u001b[37m\u001b[0m \u001b[1m2s\u001b[0m 25ms/step - loss: 0.0025 - val_loss: 5.1946e-04\n",
      "Epoch 19/25\n",
      "\u001b[1m65/65\u001b[0m \u001b[32m━━━━━━━━━━━━━━━━━━━━\u001b[0m\u001b[37m\u001b[0m \u001b[1m2s\u001b[0m 27ms/step - loss: 0.0024 - val_loss: 0.0023\n",
      "Epoch 20/25\n",
      "\u001b[1m65/65\u001b[0m \u001b[32m━━━━━━━━━━━━━━━━━━━━\u001b[0m\u001b[37m\u001b[0m \u001b[1m2s\u001b[0m 26ms/step - loss: 0.0021 - val_loss: 0.0013\n",
      "Epoch 21/25\n",
      "\u001b[1m65/65\u001b[0m \u001b[32m━━━━━━━━━━━━━━━━━━━━\u001b[0m\u001b[37m\u001b[0m \u001b[1m2s\u001b[0m 26ms/step - loss: 0.0019 - val_loss: 5.4844e-04\n",
      "Epoch 22/25\n",
      "\u001b[1m65/65\u001b[0m \u001b[32m━━━━━━━━━━━━━━━━━━━━\u001b[0m\u001b[37m\u001b[0m \u001b[1m2s\u001b[0m 28ms/step - loss: 0.0020 - val_loss: 0.0034\n",
      "Epoch 23/25\n",
      "\u001b[1m65/65\u001b[0m \u001b[32m━━━━━━━━━━━━━━━━━━━━\u001b[0m\u001b[37m\u001b[0m \u001b[1m2s\u001b[0m 28ms/step - loss: 0.0022 - val_loss: 0.0013\n",
      "Epoch 24/25\n",
      "\u001b[1m65/65\u001b[0m \u001b[32m━━━━━━━━━━━━━━━━━━━━\u001b[0m\u001b[37m\u001b[0m \u001b[1m2s\u001b[0m 28ms/step - loss: 0.0017 - val_loss: 5.9421e-04\n",
      "Epoch 25/25\n",
      "\u001b[1m65/65\u001b[0m \u001b[32m━━━━━━━━━━━━━━━━━━━━\u001b[0m\u001b[37m\u001b[0m \u001b[1m2s\u001b[0m 27ms/step - loss: 0.0017 - val_loss: 5.5123e-04\n"
     ]
    },
    {
     "data": {
      "text/plain": [
       "<keras.src.callbacks.history.History at 0x1465151d130>"
      ]
     },
     "execution_count": 7,
     "metadata": {},
     "output_type": "execute_result"
    }
   ],
   "source": [
    "\n",
    "from keras.models import Sequential\n",
    "from keras.layers import LSTM, Dropout, Dense\n",
    "\n",
    "import tensorflow as tf\n",
    "\n",
    "# Hyperparameters\n",
    "\n",
    "np.random.seed(21)\n",
    "tf.random.set_seed(42)\n",
    "\n",
    "batchSize = 32\n",
    "epoch = 25\n",
    "\n",
    "neurons = [100, 80, 50, 30]  # LSTM units in each layer, matching code1\n",
    "\n",
    "# LSTM architecture\n",
    "model = Sequential()\n",
    "\n",
    "# First LSTM layer with Dropout regularisation\n",
    "model.add(LSTM(units=neurons[0], return_sequences=True, input_shape=(lookBack, features.shape[1])))\n",
    "model.add(Dropout(0.3))\n",
    "\n",
    "# Second LSTM layer with Dropout regularisation\n",
    "model.add(LSTM(units=neurons[1], return_sequences=True))\n",
    "model.add(Dropout(0.1))\n",
    "\n",
    "# Third LSTM layer with Dropout regularisation\n",
    "model.add(LSTM(units=neurons[2], return_sequences=True))\n",
    "model.add(Dropout(0.2))\n",
    "\n",
    "# Fourth LSTM layer with Dropout regularisation\n",
    "model.add(LSTM(units=neurons[3]))\n",
    "model.add(Dropout(0.3))\n",
    "\n",
    "# Output layer\n",
    "model.add(Dense(units=1))\n",
    "model.summary()\n",
    "\n",
    "# Compile the model\n",
    "model.compile(loss='mean_squared_error', optimizer='adam')\n",
    "from keras.callbacks import Callback\n",
    "\n",
    "\n",
    "class CustomEarlyStopping(Callback):\n",
    "    def __init__(self, baseline):\n",
    "        super(CustomEarlyStopping, self).__init__()\n",
    "        self.baseline = baseline\n",
    "\n",
    "    def on_epoch_end(self, epoch, logs=None):\n",
    "        current = logs.get('val_loss')\n",
    "        if np.less(current, self.baseline):\n",
    "            self.model.stop_training = True\n",
    "            print(f\"Epoch {epoch+1}: early stopping as val_loss has reached below baseline\")\n",
    "\n",
    "\n",
    "early_stop = CustomEarlyStopping(baseline=0.00049999)\n",
    "model.fit(trainX, trainY, epochs=epoch, batch_size=batchSize, verbose=1, validation_split=0.2, callbacks=[early_stop])\n",
    "#model.fit(trainX, trainY, epochs=epoch, batch_size=batchSize, verbose=1, validation_split=0.2)\n"
   ]
  },
  {
   "cell_type": "markdown",
   "metadata": {},
   "source": [
    "### 4.5. Testing the model\n",
    "\n",
    "- 4.5.1. Running prediction over the training set and testing set\n",
    "- 4.5.2. Calculating the score and accuracy of the model\n",
    "- 4.5.3. Visualizing the data\n"
   ]
  },
  {
   "cell_type": "markdown",
   "metadata": {},
   "source": [
    "#### 4.5.1. Running prediction over the training set and testing set\n"
   ]
  },
  {
   "cell_type": "code",
   "execution_count": 8,
   "metadata": {},
   "outputs": [
    {
     "name": "stdout",
     "output_type": "stream",
     "text": [
      "\u001b[1m81/81\u001b[0m \u001b[32m━━━━━━━━━━━━━━━━━━━━\u001b[0m\u001b[37m\u001b[0m \u001b[1m3s\u001b[0m 22ms/step\n",
      "\u001b[1m5/5\u001b[0m \u001b[32m━━━━━━━━━━━━━━━━━━━━\u001b[0m\u001b[37m\u001b[0m \u001b[1m0s\u001b[0m 10ms/step\n"
     ]
    },
    {
     "data": {
      "text/plain": [
       "'after this , trainPredictInv, trainYInv, testPredictInv, and testYInv will \\ncontain the predictions and actual values in their original scale,'"
      ]
     },
     "execution_count": 8,
     "metadata": {},
     "output_type": "execute_result"
    }
   ],
   "source": [
    "trainPredict = model.predict(trainX)#predicted values from your model for training data\n",
    "testPredict = model.predict(testX)#predicted values from your model for testing data\n",
    "\n",
    "trainPredictInv = scalerTarget.inverse_transform(trainPredict)#inverse transform to get the original values\n",
    "trainYInv = scalerTarget.inverse_transform(np.reshape(trainY, (trainY.shape[0], 1)))\n",
    "testPredictInv = scalerTarget.inverse_transform(testPredict)\n",
    "testYInv = scalerTarget.inverse_transform(np.reshape(testY, (testY.shape[0], 1)))\n",
    "\n",
    "'''after this , trainPredictInv, trainYInv, testPredictInv, and testYInv will \n",
    "contain the predictions and actual values in their original scale,'''"
   ]
  },
  {
   "cell_type": "markdown",
   "metadata": {},
   "source": [
    "The variables `trainYInv` and `testYInv` contain the original values that your model tried to predict. These are the actual values in their original scale.\n",
    "\n",
    "Here's a brief explanation of what each variable represents:\n",
    "\n",
    "- `trainPredict`: The predicted values from your model for the training data, in the scaled form.\n",
    "- `testPredict`: The predicted values from your model for the test data, in the scaled form.\n",
    "- `trainPredictInv`: The predicted values from your model for the training data, inverse transformed to get the original values.\n",
    "- `testPredictInv`: The predicted values from your model for the test data, inverse transformed to get the original values.\n",
    "- `trainYInv`: The actual values for the training data in their original scale. These are the values that your model tried to predict.\n",
    "- `testYInv`: The actual values for the test data in their original scale. These are the values that your model tried to predict.\n",
    "\n",
    "So, if you want to see the original values that your model tried to predict, you should look at `trainYInv` and `testYInv`.\n"
   ]
  },
  {
   "cell_type": "markdown",
   "metadata": {},
   "source": [
    "#### 4.5.2. Calculating the score and accuracy of the model\n"
   ]
  },
  {
   "cell_type": "code",
   "execution_count": 9,
   "metadata": {},
   "outputs": [
    {
     "name": "stdout",
     "output_type": "stream",
     "text": [
      "Training RMSE: 25.124961804107368\n",
      "Testing RMSE: 34.37822388621906\n",
      "Training Accuracy: 97.28%\n",
      "Testing Accuracy: 97.85%\n"
     ]
    }
   ],
   "source": [
    "trainScore = np.sqrt(mean_squared_error(trainYInv[:, 0], trainPredictInv[:, 0]))\n",
    "print(f'Training RMSE: {trainScore}')\n",
    "testScore = np.sqrt(mean_squared_error(testYInv[:, 0], testPredictInv[:, 0]))\n",
    "print(f'Testing RMSE: {testScore}')\n",
    "trainAccuracy = 100 - (trainScore / np.mean(trainYInv) * 100)\n",
    "testAccuracy = 100 - (testScore / np.mean(testYInv) * 100)\n",
    "print(f'Training Accuracy: {trainAccuracy:.2f}%')\n",
    "print(f'Testing Accuracy: {testAccuracy:.2f}%')"
   ]
  },
  {
   "cell_type": "markdown",
   "metadata": {},
   "source": [
    "#### 4.5.3. Visualizing the data\n",
    "\n",
    "- On the x-axis, the dates are displayed after every 30 days\n",
    "- Test set is appended to the training set to better visualize if the prediction looks good\n"
   ]
  },
  {
   "cell_type": "code",
   "execution_count": 10,
   "metadata": {},
   "outputs": [
    {
     "data": {
      "image/png": "[encoded data removed]",
      "text/plain": [
       "<Figure size 2000x1000 with 1 Axes>"
      ]
     },
     "metadata": {},
     "output_type": "display_data"
    }
   ],
   "source": [
    "dates = df['Date'].values\n",
    "sampleInterval = 60\n",
    "sampledDates = dates[::sampleInterval]\n",
    "\n",
    "plt.figure(figsize=(20, 10))\n",
    "plt.plot(dates[:len(trainY)], trainY, label='Actual Train')\n",
    "plt.plot(dates[:len(trainPredict)], trainPredict, label='Predicted Train')\n",
    "plt.plot(dates[len(trainY):len(trainY) + len(testY)], testY, label='Actual Test')\n",
    "plt.plot(dates[len(trainPredict):len(trainPredict) + len(testPredict)], testPredict, label='Predicted Test')\n",
    "\n",
    "plt.xticks(sampledDates, rotation=90)\n",
    "\n",
    "plt.legend()\n",
    "plt.show()"
   ]
  },
  {
   "cell_type": "code",
   "execution_count": 11,
   "metadata": {},
   "outputs": [
    {
     "data": {
      "application/vnd.plotly.v1+json": {
       "config": {
        "plotlyServerURL": "https://plot.ly"
       },
       "data": [
        {
         "hovertemplate": "Type=Actual Open Price<br>Date=%{x}<br>Price=%{y}<extra></extra>",
         "legendgroup": "Actual Open Price",
         "line": {
          "color": "green",
          "dash": "solid"
         },
         "marker": {
          "symbol": "circle"
         },
         "mode": "lines",
         "name": "Actual Open Price",
         "orientation": "v",
         "showlegend": true,
         "type": "scatter",
         "x": [
          "2023-06-13",
          "2023-06-14",
          "2023-06-15",
          "2023-06-16",
          "2023-06-19",
          "2023-06-20",
          "2023-06-21",
          "2023-06-22",
          "2023-06-23",
          "2023-06-26",
          "2023-06-27",
          "2023-06-28",
          "2023-06-30",
          "2023-07-03",
          "2023-07-04",
          "2023-07-05",
          "2023-07-06",
          "2023-07-07",
          "2023-07-10",
          "2023-07-11",
          "2023-07-12",
          "2023-07-13",
          "2023-07-14",
          "2023-07-17",
          "2023-07-18",
          "2023-07-19",
          "2023-07-20",
          "2023-07-21",
          "2023-07-24",
          "2023-07-25",
          "2023-07-26",
          "2023-07-27",
          "2023-07-28",
          "2023-07-31",
          "2023-08-01",
          "2023-08-02",
          "2023-08-03",
          "2023-08-04",
          "2023-08-07",
          "2023-08-08",
          "2023-08-09",
          "2023-08-10",
          "2023-08-11",
          "2023-08-14",
          "2023-08-16",
          "2023-08-17",
          "2023-08-18",
          "2023-08-21",
          "2023-08-22",
          "2023-08-23",
          "2023-08-24",
          "2023-08-25",
          "2023-08-28",
          "2023-08-29",
          "2023-08-30",
          "2023-08-31",
          "2023-09-01",
          "2023-09-04",
          "2023-09-05",
          "2023-09-06",
          "2023-09-07",
          "2023-09-08",
          "2023-09-11",
          "2023-09-12",
          "2023-09-13",
          "2023-09-14",
          "2023-09-15",
          "2023-09-18",
          "2023-09-20",
          "2023-09-21",
          "2023-09-22",
          "2023-09-25",
          "2023-09-26",
          "2023-09-27",
          "2023-09-28",
          "2023-09-29",
          "2023-10-03",
          "2023-10-04",
          "2023-10-05",
          "2023-10-06",
          "2023-10-09",
          "2023-10-10",
          "2023-10-11",
          "2023-10-12",
          "2023-10-13",
          "2023-10-16",
          "2023-10-17",
          "2023-10-18",
          "2023-10-19",
          "2023-10-20",
          "2023-10-23",
          "2023-10-25",
          "2023-10-26",
          "2023-10-27",
          "2023-10-30",
          "2023-10-31",
          "2023-11-01",
          "2023-11-02",
          "2023-11-03",
          "2023-11-06",
          "2023-11-07",
          "2023-11-08",
          "2023-11-09",
          "2023-11-10",
          "2023-11-13",
          "2023-11-15",
          "2023-11-16",
          "2023-11-17",
          "2023-11-20",
          "2023-11-21",
          "2023-11-22",
          "2023-11-23",
          "2023-11-24",
          "2023-11-28",
          "2023-11-29",
          "2023-11-30",
          "2023-12-01",
          "2023-12-04",
          "2023-12-05",
          "2023-12-06",
          "2023-12-07",
          "2023-12-08",
          "2023-12-11",
          "2023-12-12",
          "2023-12-13",
          "2023-12-14",
          "2023-12-15",
          "2023-12-18",
          "2023-12-19",
          "2023-12-20",
          "2023-12-21",
          "2023-12-22",
          "2023-12-26",
          "2023-12-27",
          "2023-12-28",
          "2023-12-29"
         ],
         "xaxis": "x",
         "y": [
          1590.0999755859375,
          1610.4499511718752,
          1604,
          1587.1500244140627,
          1610.9999999999998,
          1604.1500244140625,
          1616,
          1640,
          1637.550048828125,
          1645,
          1642.949951171875,
          1670,
          1704,
          1712.4999999999998,
          1723.449951171875,
          1716.2499999999998,
          1673,
          1665.0000000000002,
          1661,
          1663,
          1655.3499755859375,
          1656.699951171875,
          1653.5999755859373,
          1650.0000000000002,
          1698,
          1681.0999755859375,
          1681.1500244140623,
          1680,
          1678.5000000000002,
          1684.6500244140625,
          1699.5999755859375,
          1699.9000244140623,
          1661.5,
          1650.050048828125,
          1654.449951171875,
          1642,
          1640,
          1635.1500244140627,
          1663.0999755859375,
          1651.699951171875,
          1653.0000000000002,
          1647.050048828125,
          1638.4000244140625,
          1610.9999999999998,
          1583.0999755859375,
          1597.5999755859375,
          1587.550048828125,
          1600.4999999999998,
          1596.3499755859377,
          1580,
          1593.3000488281252,
          1574.5500488281252,
          1561.5,
          1589.699951171875,
          1603.949951171875,
          1579,
          1571,
          1589.9999999999998,
          1588.4000244140625,
          1576.8000488281252,
          1595.5,
          1608.300048828125,
          1628.9000244140625,
          1640,
          1631.300048828125,
          1644.25,
          1650.0000000000002,
          1653.7500000000002,
          1598.9999999999998,
          1553.0000000000002,
          1559,
          1525,
          1525,
          1523.0000000000002,
          1534,
          1523.699951171875,
          1527,
          1495,
          1535.050048828125,
          1544.0000000000002,
          1528,
          1520.5500488281248,
          1530.0999755859375,
          1536.0999755859375,
          1540,
          1531.5,
          1555.75,
          1541.199951171875,
          1505.4000244140625,
          1504.9999999999998,
          1523.5,
          1521,
          1491.25,
          1469.5,
          1463.25,
          1504,
          1462.2499999999998,
          1485,
          1488,
          1498,
          1494,
          1483.949951171875,
          1486,
          1480.0999755859375,
          1492.0999755859375,
          1504.0999755859373,
          1509.6999511718752,
          1489.9999999999998,
          1513,
          1519,
          1520.0000000000002,
          1508.5,
          1521.199951171875,
          1535.199951171875,
          1533.9000244140625,
          1569.1500244140623,
          1557.9000244140623,
          1588,
          1636.5000000000002,
          1638.449951171875,
          1625,
          1630.449951171875,
          1650.050048828125,
          1654.1999511718748,
          1632.449951171875,
          1646,
          1650.0000000000002,
          1660.699951171875,
          1650.0000000000002,
          1658,
          1657,
          1683.5999755859377,
          1673.2500000000002,
          1681.5,
          1709.300048828125,
          1697
         ],
         "yaxis": "y"
        },
        {
         "hovertemplate": "Type=Predicted Open Price<br>Date=%{x}<br>Price=%{y}<extra></extra>",
         "legendgroup": "Predicted Open Price",
         "line": {
          "color": "red",
          "dash": "solid"
         },
         "marker": {
          "symbol": "circle"
         },
         "mode": "lines",
         "name": "Predicted Open Price",
         "orientation": "v",
         "showlegend": true,
         "type": "scatter",
         "x": [
          "2023-06-13",
          "2023-06-14",
          "2023-06-15",
          "2023-06-16",
          "2023-06-19",
          "2023-06-20",
          "2023-06-21",
          "2023-06-22",
          "2023-06-23",
          "2023-06-26",
          "2023-06-27",
          "2023-06-28",
          "2023-06-30",
          "2023-07-03",
          "2023-07-04",
          "2023-07-05",
          "2023-07-06",
          "2023-07-07",
          "2023-07-10",
          "2023-07-11",
          "2023-07-12",
          "2023-07-13",
          "2023-07-14",
          "2023-07-17",
          "2023-07-18",
          "2023-07-19",
          "2023-07-20",
          "2023-07-21",
          "2023-07-24",
          "2023-07-25",
          "2023-07-26",
          "2023-07-27",
          "2023-07-28",
          "2023-07-31",
          "2023-08-01",
          "2023-08-02",
          "2023-08-03",
          "2023-08-04",
          "2023-08-07",
          "2023-08-08",
          "2023-08-09",
          "2023-08-10",
          "2023-08-11",
          "2023-08-14",
          "2023-08-16",
          "2023-08-17",
          "2023-08-18",
          "2023-08-21",
          "2023-08-22",
          "2023-08-23",
          "2023-08-24",
          "2023-08-25",
          "2023-08-28",
          "2023-08-29",
          "2023-08-30",
          "2023-08-31",
          "2023-09-01",
          "2023-09-04",
          "2023-09-05",
          "2023-09-06",
          "2023-09-07",
          "2023-09-08",
          "2023-09-11",
          "2023-09-12",
          "2023-09-13",
          "2023-09-14",
          "2023-09-15",
          "2023-09-18",
          "2023-09-20",
          "2023-09-21",
          "2023-09-22",
          "2023-09-25",
          "2023-09-26",
          "2023-09-27",
          "2023-09-28",
          "2023-09-29",
          "2023-10-03",
          "2023-10-04",
          "2023-10-05",
          "2023-10-06",
          "2023-10-09",
          "2023-10-10",
          "2023-10-11",
          "2023-10-12",
          "2023-10-13",
          "2023-10-16",
          "2023-10-17",
          "2023-10-18",
          "2023-10-19",
          "2023-10-20",
          "2023-10-23",
          "2023-10-25",
          "2023-10-26",
          "2023-10-27",
          "2023-10-30",
          "2023-10-31",
          "2023-11-01",
          "2023-11-02",
          "2023-11-03",
          "2023-11-06",
          "2023-11-07",
          "2023-11-08",
          "2023-11-09",
          "2023-11-10",
          "2023-11-13",
          "2023-11-15",
          "2023-11-16",
          "2023-11-17",
          "2023-11-20",
          "2023-11-21",
          "2023-11-22",
          "2023-11-23",
          "2023-11-24",
          "2023-11-28",
          "2023-11-29",
          "2023-11-30",
          "2023-12-01",
          "2023-12-04",
          "2023-12-05",
          "2023-12-06",
          "2023-12-07",
          "2023-12-08",
          "2023-12-11",
          "2023-12-12",
          "2023-12-13",
          "2023-12-14",
          "2023-12-15",
          "2023-12-18",
          "2023-12-19",
          "2023-12-20",
          "2023-12-21",
          "2023-12-22",
          "2023-12-26",
          "2023-12-27",
          "2023-12-28",
          "2023-12-29"
         ],
         "xaxis": "x",
         "y": [
          1593.208251953125,
          1592.09130859375,
          1585.060302734375,
          1582.9422607421875,
          1577.1353759765625,
          1577.166259765625,
          1583.3438720703125,
          1587.14990234375,
          1593.478515625,
          1608.3387451171875,
          1614.3046875,
          1612.3328857421875,
          1614.6251220703125,
          1628.409423828125,
          1641.3760986328125,
          1656.260498046875,
          1666.2908935546875,
          1658.613037109375,
          1637.1201171875,
          1631.369384765625,
          1625.11669921875,
          1619.1181640625,
          1618.7783203125,
          1613.990966796875,
          1617.68505859375,
          1624.457763671875,
          1640.9736328125,
          1642.1468505859375,
          1640.3681640625,
          1640.5101318359375,
          1637.016357421875,
          1640.0369873046875,
          1646.751953125,
          1642.3082275390625,
          1630.7550048828125,
          1619.3040771484375,
          1619.842041015625,
          1619.299560546875,
          1610.84912109375,
          1610.942138671875,
          1617.193603515625,
          1618.4874267578125,
          1616.4759521484375,
          1612.973876953125,
          1605.6444091796875,
          1594.77978515625,
          1587.579345703125,
          1583.575439453125,
          1580.712158203125,
          1575.69091796875,
          1574.9495849609375,
          1572.620361328125,
          1570.7733154296875,
          1566.4892578125,
          1561.13720703125,
          1568.58935546875,
          1573.7308349609375,
          1570.361328125,
          1566.5018310546875,
          1566.1234130859375,
          1570.7703857421875,
          1572.5943603515625,
          1582.9952392578125,
          1592.555908203125,
          1602.394775390625,
          1607.396484375,
          1609.8836669921875,
          1615.737548828125,
          1622.2691650390625,
          1623.87353515625,
          1592.685791015625,
          1561.8592529296875,
          1548.6123046875,
          1537.9608154296875,
          1533.4716796875,
          1532.9324951171875,
          1529.1805419921875,
          1528.625732421875,
          1526.0941162109375,
          1522.9501953125,
          1531.1881103515625,
          1536.01123046875,
          1529.98291015625,
          1524.54345703125,
          1532.0770263671875,
          1542.208251953125,
          1544.680419921875,
          1539.6400146484375,
          1533.00341796875,
          1535.365234375,
          1524.46142578125,
          1520.0802001953125,
          1519.3095703125,
          1511.1929931640625,
          1500.2137451171875,
          1485.5205078125,
          1487.6900634765625,
          1492.4444580078125,
          1491.6524658203125,
          1488.4891357421875,
          1493.116943359375,
          1497.5364990234375,
          1500.6217041015625,
          1498.27294921875,
          1498.4718017578125,
          1497.384765625,
          1500.202392578125,
          1504.9044189453125,
          1513.08544921875,
          1513.13623046875,
          1510.882080078125,
          1515.30908203125,
          1520.0140380859375,
          1519.4893798828125,
          1524.8536376953125,
          1532.113525390625,
          1539.281005859375,
          1551.964111328125,
          1556.5220947265625,
          1566.5308837890625,
          1592.220458984375,
          1602.2137451171875,
          1603.31884765625,
          1607.4207763671875,
          1616.43408203125,
          1614.9954833984375,
          1608.591064453125,
          1610.0653076171875,
          1622.5931396484375,
          1624.9095458984375,
          1620.008056640625,
          1620.8251953125,
          1627.427978515625,
          1635.7261962890625,
          1635.2005615234375,
          1641.061279296875
         ],
         "yaxis": "y"
        }
       ],
       "layout": {
        "font": {
         "color": "black",
         "size": 13
        },
        "legend": {
         "title": {
          "text": "Open Price"
         },
         "tracegroupgap": 0
        },
        "margin": {
         "t": 60
        },
        "plot_bgcolor": "white",
        "template": {
         "data": {
          "bar": [
           {
            "error_x": {
             "color": "#2a3f5f"
            },
            "error_y": {
             "color": "#2a3f5f"
            },
            "marker": {
             "line": {
              "color": "#E5ECF6",
              "width": 0.5
             },
             "pattern": {
              "fillmode": "overlay",
              "size": 10,
              "solidity": 0.2
             }
            },
            "type": "bar"
           }
          ],
          "barpolar": [
           {
            "marker": {
             "line": {
              "color": "#E5ECF6",
              "width": 0.5
             },
             "pattern": {
              "fillmode": "overlay",
              "size": 10,
              "solidity": 0.2
             }
            },
            "type": "barpolar"
           }
          ],
          "carpet": [
           {
            "aaxis": {
             "endlinecolor": "#2a3f5f",
             "gridcolor": "white",
             "linecolor": "white",
             "minorgridcolor": "white",
             "startlinecolor": "#2a3f5f"
            },
            "baxis": {
             "endlinecolor": "#2a3f5f",
             "gridcolor": "white",
             "linecolor": "white",
             "minorgridcolor": "white",
             "startlinecolor": "#2a3f5f"
            },
            "type": "carpet"
           }
          ],
          "choropleth": [
           {
            "colorbar": {
             "outlinewidth": 0,
             "ticks": ""
            },
            "type": "choropleth"
           }
          ],
          "contour": [
           {
            "colorbar": {
             "outlinewidth": 0,
             "ticks": ""
            },
            "colorscale": [
             [
              0,
              "#0d0887"
             ],
             [
              0.1111111111111111,
              "#46039f"
             ],
             [
              0.2222222222222222,
              "#7201a8"
             ],
             [
              0.3333333333333333,
              "#9c179e"
             ],
             [
              0.4444444444444444,
              "#bd3786"
             ],
             [
              0.5555555555555556,
              "#d8576b"
             ],
             [
              0.6666666666666666,
              "#ed7953"
             ],
             [
              0.7777777777777778,
              "#fb9f3a"
             ],
             [
              0.8888888888888888,
              "#fdca26"
             ],
             [
              1,
              "#f0f921"
             ]
            ],
            "type": "contour"
           }
          ],
          "contourcarpet": [
           {
            "colorbar": {
             "outlinewidth": 0,
             "ticks": ""
            },
            "type": "contourcarpet"
           }
          ],
          "heatmap": [
           {
            "colorbar": {
             "outlinewidth": 0,
             "ticks": ""
            },
            "colorscale": [
             [
              0,
              "#0d0887"
             ],
             [
              0.1111111111111111,
              "#46039f"
             ],
             [
              0.2222222222222222,
              "#7201a8"
             ],
             [
              0.3333333333333333,
              "#9c179e"
             ],
             [
              0.4444444444444444,
              "#bd3786"
             ],
             [
              0.5555555555555556,
              "#d8576b"
             ],
             [
              0.6666666666666666,
              "#ed7953"
             ],
             [
              0.7777777777777778,
              "#fb9f3a"
             ],
             [
              0.8888888888888888,
              "#fdca26"
             ],
             [
              1,
              "#f0f921"
             ]
            ],
            "type": "heatmap"
           }
          ],
          "heatmapgl": [
           {
            "colorbar": {
             "outlinewidth": 0,
             "ticks": ""
            },
            "colorscale": [
             [
              0,
              "#0d0887"
             ],
             [
              0.1111111111111111,
              "#46039f"
             ],
             [
              0.2222222222222222,
              "#7201a8"
             ],
             [
              0.3333333333333333,
              "#9c179e"
             ],
             [
              0.4444444444444444,
              "#bd3786"
             ],
             [
              0.5555555555555556,
              "#d8576b"
             ],
             [
              0.6666666666666666,
              "#ed7953"
             ],
             [
              0.7777777777777778,
              "#fb9f3a"
             ],
             [
              0.8888888888888888,
              "#fdca26"
             ],
             [
              1,
              "#f0f921"
             ]
            ],
            "type": "heatmapgl"
           }
          ],
          "histogram": [
           {
            "marker": {
             "pattern": {
              "fillmode": "overlay",
              "size": 10,
              "solidity": 0.2
             }
            },
            "type": "histogram"
           }
          ],
          "histogram2d": [
           {
            "colorbar": {
             "outlinewidth": 0,
             "ticks": ""
            },
            "colorscale": [
             [
              0,
              "#0d0887"
             ],
             [
              0.1111111111111111,
              "#46039f"
             ],
             [
              0.2222222222222222,
              "#7201a8"
             ],
             [
              0.3333333333333333,
              "#9c179e"
             ],
             [
              0.4444444444444444,
              "#bd3786"
             ],
             [
              0.5555555555555556,
              "#d8576b"
             ],
             [
              0.6666666666666666,
              "#ed7953"
             ],
             [
              0.7777777777777778,
              "#fb9f3a"
             ],
             [
              0.8888888888888888,
              "#fdca26"
             ],
             [
              1,
              "#f0f921"
             ]
            ],
            "type": "histogram2d"
           }
          ],
          "histogram2dcontour": [
           {
            "colorbar": {
             "outlinewidth": 0,
             "ticks": ""
            },
            "colorscale": [
             [
              0,
              "#0d0887"
             ],
             [
              0.1111111111111111,
              "#46039f"
             ],
             [
              0.2222222222222222,
              "#7201a8"
             ],
             [
              0.3333333333333333,
              "#9c179e"
             ],
             [
              0.4444444444444444,
              "#bd3786"
             ],
             [
              0.5555555555555556,
              "#d8576b"
             ],
             [
              0.6666666666666666,
              "#ed7953"
             ],
             [
              0.7777777777777778,
              "#fb9f3a"
             ],
             [
              0.8888888888888888,
              "#fdca26"
             ],
             [
              1,
              "#f0f921"
             ]
            ],
            "type": "histogram2dcontour"
           }
          ],
          "mesh3d": [
           {
            "colorbar": {
             "outlinewidth": 0,
             "ticks": ""
            },
            "type": "mesh3d"
           }
          ],
          "parcoords": [
           {
            "line": {
             "colorbar": {
              "outlinewidth": 0,
              "ticks": ""
             }
            },
            "type": "parcoords"
           }
          ],
          "pie": [
           {
            "automargin": true,
            "type": "pie"
           }
          ],
          "scatter": [
           {
            "fillpattern": {
             "fillmode": "overlay",
             "size": 10,
             "solidity": 0.2
            },
            "type": "scatter"
           }
          ],
          "scatter3d": [
           {
            "line": {
             "colorbar": {
              "outlinewidth": 0,
              "ticks": ""
             }
            },
            "marker": {
             "colorbar": {
              "outlinewidth": 0,
              "ticks": ""
             }
            },
            "type": "scatter3d"
           }
          ],
          "scattercarpet": [
           {
            "marker": {
             "colorbar": {
              "outlinewidth": 0,
              "ticks": ""
             }
            },
            "type": "scattercarpet"
           }
          ],
          "scattergeo": [
           {
            "marker": {
             "colorbar": {
              "outlinewidth": 0,
              "ticks": ""
             }
            },
            "type": "scattergeo"
           }
          ],
          "scattergl": [
           {
            "marker": {
             "colorbar": {
              "outlinewidth": 0,
              "ticks": ""
             }
            },
            "type": "scattergl"
           }
          ],
          "scattermapbox": [
           {
            "marker": {
             "colorbar": {
              "outlinewidth": 0,
              "ticks": ""
             }
            },
            "type": "scattermapbox"
           }
          ],
          "scatterpolar": [
           {
            "marker": {
             "colorbar": {
              "outlinewidth": 0,
              "ticks": ""
             }
            },
            "type": "scatterpolar"
           }
          ],
          "scatterpolargl": [
           {
            "marker": {
             "colorbar": {
              "outlinewidth": 0,
              "ticks": ""
             }
            },
            "type": "scatterpolargl"
           }
          ],
          "scatterternary": [
           {
            "marker": {
             "colorbar": {
              "outlinewidth": 0,
              "ticks": ""
             }
            },
            "type": "scatterternary"
           }
          ],
          "surface": [
           {
            "colorbar": {
             "outlinewidth": 0,
             "ticks": ""
            },
            "colorscale": [
             [
              0,
              "#0d0887"
             ],
             [
              0.1111111111111111,
              "#46039f"
             ],
             [
              0.2222222222222222,
              "#7201a8"
             ],
             [
              0.3333333333333333,
              "#9c179e"
             ],
             [
              0.4444444444444444,
              "#bd3786"
             ],
             [
              0.5555555555555556,
              "#d8576b"
             ],
             [
              0.6666666666666666,
              "#ed7953"
             ],
             [
              0.7777777777777778,
              "#fb9f3a"
             ],
             [
              0.8888888888888888,
              "#fdca26"
             ],
             [
              1,
              "#f0f921"
             ]
            ],
            "type": "surface"
           }
          ],
          "table": [
           {
            "cells": {
             "fill": {
              "color": "#EBF0F8"
             },
             "line": {
              "color": "white"
             }
            },
            "header": {
             "fill": {
              "color": "#C8D4E3"
             },
             "line": {
              "color": "white"
             }
            },
            "type": "table"
           }
          ]
         },
         "layout": {
          "annotationdefaults": {
           "arrowcolor": "#2a3f5f",
           "arrowhead": 0,
           "arrowwidth": 1
          },
          "autotypenumbers": "strict",
          "coloraxis": {
           "colorbar": {
            "outlinewidth": 0,
            "ticks": ""
           }
          },
          "colorscale": {
           "diverging": [
            [
             0,
             "#8e0152"
            ],
            [
             0.1,
             "#c51b7d"
            ],
            [
             0.2,
             "#de77ae"
            ],
            [
             0.3,
             "#f1b6da"
            ],
            [
             0.4,
             "#fde0ef"
            ],
            [
             0.5,
             "#f7f7f7"
            ],
            [
             0.6,
             "#e6f5d0"
            ],
            [
             0.7,
             "#b8e186"
            ],
            [
             0.8,
             "#7fbc41"
            ],
            [
             0.9,
             "#4d9221"
            ],
            [
             1,
             "#276419"
            ]
           ],
           "sequential": [
            [
             0,
             "#0d0887"
            ],
            [
             0.1111111111111111,
             "#46039f"
            ],
            [
             0.2222222222222222,
             "#7201a8"
            ],
            [
             0.3333333333333333,
             "#9c179e"
            ],
            [
             0.4444444444444444,
             "#bd3786"
            ],
            [
             0.5555555555555556,
             "#d8576b"
            ],
            [
             0.6666666666666666,
             "#ed7953"
            ],
            [
             0.7777777777777778,
             "#fb9f3a"
            ],
            [
             0.8888888888888888,
             "#fdca26"
            ],
            [
             1,
             "#f0f921"
            ]
           ],
           "sequentialminus": [
            [
             0,
             "#0d0887"
            ],
            [
             0.1111111111111111,
             "#46039f"
            ],
            [
             0.2222222222222222,
             "#7201a8"
            ],
            [
             0.3333333333333333,
             "#9c179e"
            ],
            [
             0.4444444444444444,
             "#bd3786"
            ],
            [
             0.5555555555555556,
             "#d8576b"
            ],
            [
             0.6666666666666666,
             "#ed7953"
            ],
            [
             0.7777777777777778,
             "#fb9f3a"
            ],
            [
             0.8888888888888888,
             "#fdca26"
            ],
            [
             1,
             "#f0f921"
            ]
           ]
          },
          "colorway": [
           "#636efa",
           "#EF553B",
           "#00cc96",
           "#ab63fa",
           "#FFA15A",
           "#19d3f3",
           "#FF6692",
           "#B6E880",
           "#FF97FF",
           "#FECB52"
          ],
          "font": {
           "color": "#2a3f5f"
          },
          "geo": {
           "bgcolor": "white",
           "lakecolor": "white",
           "landcolor": "#E5ECF6",
           "showlakes": true,
           "showland": true,
           "subunitcolor": "white"
          },
          "hoverlabel": {
           "align": "left"
          },
          "hovermode": "closest",
          "mapbox": {
           "style": "light"
          },
          "paper_bgcolor": "white",
          "plot_bgcolor": "#E5ECF6",
          "polar": {
           "angularaxis": {
            "gridcolor": "white",
            "linecolor": "white",
            "ticks": ""
           },
           "bgcolor": "#E5ECF6",
           "radialaxis": {
            "gridcolor": "white",
            "linecolor": "white",
            "ticks": ""
           }
          },
          "scene": {
           "xaxis": {
            "backgroundcolor": "#E5ECF6",
            "gridcolor": "white",
            "gridwidth": 2,
            "linecolor": "white",
            "showbackground": true,
            "ticks": "",
            "zerolinecolor": "white"
           },
           "yaxis": {
            "backgroundcolor": "#E5ECF6",
            "gridcolor": "white",
            "gridwidth": 2,
            "linecolor": "white",
            "showbackground": true,
            "ticks": "",
            "zerolinecolor": "white"
           },
           "zaxis": {
            "backgroundcolor": "#E5ECF6",
            "gridcolor": "white",
            "gridwidth": 2,
            "linecolor": "white",
            "showbackground": true,
            "ticks": "",
            "zerolinecolor": "white"
           }
          },
          "shapedefaults": {
           "line": {
            "color": "#2a3f5f"
           }
          },
          "ternary": {
           "aaxis": {
            "gridcolor": "white",
            "linecolor": "white",
            "ticks": ""
           },
           "baxis": {
            "gridcolor": "white",
            "linecolor": "white",
            "ticks": ""
           },
           "bgcolor": "#E5ECF6",
           "caxis": {
            "gridcolor": "white",
            "linecolor": "white",
            "ticks": ""
           }
          },
          "title": {
           "x": 0.05
          },
          "xaxis": {
           "automargin": true,
           "gridcolor": "white",
           "linecolor": "white",
           "ticks": "",
           "title": {
            "standoff": 15
           },
           "zerolinecolor": "white",
           "zerolinewidth": 2
          },
          "yaxis": {
           "automargin": true,
           "gridcolor": "white",
           "linecolor": "white",
           "ticks": "",
           "title": {
            "standoff": 15
           },
           "zerolinecolor": "white",
           "zerolinewidth": 2
          }
         }
        },
        "title": {
         "text": "Comparison between original open price vs predicted open price"
        },
        "xaxis": {
         "anchor": "y",
         "domain": [
          0,
          1
         ],
         "title": {
          "text": "Date"
         }
        },
        "yaxis": {
         "anchor": "x",
         "domain": [
          0,
          1
         ],
         "title": {
          "text": "Price"
         }
        }
       }
      }
     },
     "metadata": {},
     "output_type": "display_data"
    }
   ],
   "source": [
    "import plotly.express as px\n",
    "# Filter the dates\n",
    "start_date = '2023-06-13'\n",
    "df_filtered = df[df['Date'] >= start_date]\n",
    "dates_col = df_filtered['Date'].values\n",
    "\n",
    "# Flatten the arrays\n",
    "testY_flat = testYInv.flatten()\n",
    "testPredict_flat = testPredictInv.flatten()\n",
    "\n",
    "# Create a DataFrame that contains the necessary data\n",
    "df_plot = pd.DataFrame({\n",
    "    'Date': dates_col,\n",
    "    'Actual Open Price': testY_flat,\n",
    "    'Predicted Open Price': testPredict_flat\n",
    "})\n",
    "\n",
    "# Melt the DataFrame to have 'Actual Open Price' and 'Predicted Open Price' in the same column\n",
    "df_plot_melt = df_plot.melt(id_vars='Date', value_vars=['Actual Open Price', 'Predicted Open Price'], var_name='Type', value_name='Price')\n",
    "\n",
    "# Create the line plots\n",
    "fig = px.line(df_plot_melt, x='Date', y='Price', color='Type', \n",
    "              color_discrete_map={'Actual Open Price':'green', 'Predicted Open Price':'red'})\n",
    "\n",
    "fig.update_layout(title_text='Comparison between original open price vs predicted open price',\n",
    "                  plot_bgcolor='white', font_size=13, font_color='black', legend_title_text='Open Price')\n",
    "\n",
    "# Show the plot\n",
    "fig.show()"
   ]
  },
  {
   "cell_type": "code",
   "execution_count": 12,
   "metadata": {},
   "outputs": [
    {
     "name": "stdout",
     "output_type": "stream",
     "text": [
      "136\n",
      "136\n",
      "136\n",
      "          dates    Actual_Open_price     Predicted_Open_price\n",
      "0    2023-06-13          1590.099976              1593.208252\n",
      "1    2023-06-14          1610.449951              1592.091309\n",
      "2    2023-06-15          1604.000000              1585.060303\n",
      "3    2023-06-16          1587.150024              1582.942261\n",
      "4    2023-06-19          1611.000000              1577.135376\n",
      "5    2023-06-20          1604.150024              1577.166260\n",
      "6    2023-06-21          1616.000000              1583.343872\n",
      "7    2023-06-22          1640.000000              1587.149902\n",
      "8    2023-06-23          1637.550049              1593.478516\n",
      "9    2023-06-26          1645.000000              1608.338745\n",
      "10   2023-06-27          1642.949951              1614.304688\n",
      "11   2023-06-28          1670.000000              1612.332886\n",
      "12   2023-06-30          1704.000000              1614.625122\n",
      "13   2023-07-03          1712.500000              1628.409424\n",
      "14   2023-07-04          1723.449951              1641.376099\n",
      "15   2023-07-05          1716.250000              1656.260498\n",
      "16   2023-07-06          1673.000000              1666.290894\n",
      "17   2023-07-07          1665.000000              1658.613037\n",
      "18   2023-07-10          1661.000000              1637.120117\n",
      "19   2023-07-11          1663.000000              1631.369385\n",
      "20   2023-07-12          1655.349976              1625.116699\n",
      "21   2023-07-13          1656.699951              1619.118164\n",
      "22   2023-07-14          1653.599976              1618.778320\n",
      "23   2023-07-17          1650.000000              1613.990967\n",
      "24   2023-07-18          1698.000000              1617.685059\n",
      "25   2023-07-19          1681.099976              1624.457764\n",
      "26   2023-07-20          1681.150024              1640.973633\n",
      "27   2023-07-21          1680.000000              1642.146851\n",
      "28   2023-07-24          1678.500000              1640.368164\n",
      "29   2023-07-25          1684.650024              1640.510132\n",
      "30   2023-07-26          1699.599976              1637.016357\n",
      "31   2023-07-27          1699.900024              1640.036987\n",
      "32   2023-07-28          1661.500000              1646.751953\n",
      "33   2023-07-31          1650.050049              1642.308228\n",
      "34   2023-08-01          1654.449951              1630.755005\n",
      "35   2023-08-02          1642.000000              1619.304077\n",
      "36   2023-08-03          1640.000000              1619.842041\n",
      "37   2023-08-04          1635.150024              1619.299561\n",
      "38   2023-08-07          1663.099976              1610.849121\n",
      "39   2023-08-08          1651.699951              1610.942139\n",
      "40   2023-08-09          1653.000000              1617.193604\n",
      "41   2023-08-10          1647.050049              1618.487427\n",
      "42   2023-08-11          1638.400024              1616.475952\n",
      "43   2023-08-14          1611.000000              1612.973877\n",
      "44   2023-08-16          1583.099976              1605.644409\n",
      "45   2023-08-17          1597.599976              1594.779785\n",
      "46   2023-08-18          1587.550049              1587.579346\n",
      "47   2023-08-21          1600.500000              1583.575439\n",
      "48   2023-08-22          1596.349976              1580.712158\n",
      "49   2023-08-23          1580.000000              1575.690918\n",
      "50   2023-08-24          1593.300049              1574.949585\n",
      "51   2023-08-25          1574.550049              1572.620361\n",
      "52   2023-08-28          1561.500000              1570.773315\n",
      "53   2023-08-29          1589.699951              1566.489258\n",
      "54   2023-08-30          1603.949951              1561.137207\n",
      "55   2023-08-31          1579.000000              1568.589355\n",
      "56   2023-09-01          1571.000000              1573.730835\n",
      "57   2023-09-04          1590.000000              1570.361328\n",
      "58   2023-09-05          1588.400024              1566.501831\n",
      "59   2023-09-06          1576.800049              1566.123413\n",
      "60   2023-09-07          1595.500000              1570.770386\n",
      "61   2023-09-08          1608.300049              1572.594360\n",
      "62   2023-09-11          1628.900024              1582.995239\n",
      "63   2023-09-12          1640.000000              1592.555908\n",
      "64   2023-09-13          1631.300049              1602.394775\n",
      "65   2023-09-14          1644.250000              1607.396484\n",
      "66   2023-09-15          1650.000000              1609.883667\n",
      "67   2023-09-18          1653.750000              1615.737549\n",
      "68   2023-09-20          1599.000000              1622.269165\n",
      "69   2023-09-21          1553.000000              1623.873535\n",
      "70   2023-09-22          1559.000000              1592.685791\n",
      "71   2023-09-25          1525.000000              1561.859253\n",
      "72   2023-09-26          1525.000000              1548.612305\n",
      "73   2023-09-27          1523.000000              1537.960815\n",
      "74   2023-09-28          1534.000000              1533.471680\n",
      "75   2023-09-29          1523.699951              1532.932495\n",
      "76   2023-10-03          1527.000000              1529.180542\n",
      "77   2023-10-04          1495.000000              1528.625732\n",
      "78   2023-10-05          1535.050049              1526.094116\n",
      "79   2023-10-06          1544.000000              1522.950195\n",
      "80   2023-10-09          1528.000000              1531.188110\n",
      "81   2023-10-10          1520.550049              1536.011230\n",
      "82   2023-10-11          1530.099976              1529.982910\n",
      "83   2023-10-12          1536.099976              1524.543457\n",
      "84   2023-10-13          1540.000000              1532.077026\n",
      "85   2023-10-16          1531.500000              1542.208252\n",
      "86   2023-10-17          1555.750000              1544.680420\n",
      "87   2023-10-18          1541.199951              1539.640015\n",
      "88   2023-10-19          1505.400024              1533.003418\n",
      "89   2023-10-20          1505.000000              1535.365234\n",
      "90   2023-10-23          1523.500000              1524.461426\n",
      "91   2023-10-25          1521.000000              1520.080200\n",
      "92   2023-10-26          1491.250000              1519.309570\n",
      "93   2023-10-27          1469.500000              1511.192993\n",
      "94   2023-10-30          1463.250000              1500.213745\n",
      "95   2023-10-31          1504.000000              1485.520508\n",
      "96   2023-11-01          1462.250000              1487.690063\n",
      "97   2023-11-02          1485.000000              1492.444458\n",
      "98   2023-11-03          1488.000000              1491.652466\n",
      "99   2023-11-06          1498.000000              1488.489136\n",
      "100  2023-11-07          1494.000000              1493.116943\n",
      "101  2023-11-08          1483.949951              1497.536499\n",
      "102  2023-11-09          1486.000000              1500.621704\n",
      "103  2023-11-10          1480.099976              1498.272949\n",
      "104  2023-11-13          1492.099976              1498.471802\n",
      "105  2023-11-15          1504.099976              1497.384766\n",
      "106  2023-11-16          1509.699951              1500.202393\n",
      "107  2023-11-17          1490.000000              1504.904419\n",
      "108  2023-11-20          1513.000000              1513.085449\n",
      "109  2023-11-21          1519.000000              1513.136230\n",
      "110  2023-11-22          1520.000000              1510.882080\n",
      "111  2023-11-23          1508.500000              1515.309082\n",
      "112  2023-11-24          1521.199951              1520.014038\n",
      "113  2023-11-28          1535.199951              1519.489380\n",
      "114  2023-11-29          1533.900024              1524.853638\n",
      "115  2023-11-30          1569.150024              1532.113525\n",
      "116  2023-12-01          1557.900024              1539.281006\n",
      "117  2023-12-04          1588.000000              1551.964111\n",
      "118  2023-12-05          1636.500000              1556.522095\n",
      "119  2023-12-06          1638.449951              1566.530884\n",
      "120  2023-12-07          1625.000000              1592.220459\n",
      "121  2023-12-08          1630.449951              1602.213745\n",
      "122  2023-12-11          1650.050049              1603.318848\n",
      "123  2023-12-12          1654.199951              1607.420776\n",
      "124  2023-12-13          1632.449951              1616.434082\n",
      "125  2023-12-14          1646.000000              1614.995483\n",
      "126  2023-12-15          1650.000000              1608.591064\n",
      "127  2023-12-18          1660.699951              1610.065308\n",
      "128  2023-12-19          1650.000000              1622.593140\n",
      "129  2023-12-20          1658.000000              1624.909546\n",
      "130  2023-12-21          1657.000000              1620.008057\n",
      "131  2023-12-22          1683.599976              1620.825195\n",
      "132  2023-12-26          1673.250000              1627.427979\n",
      "133  2023-12-27          1681.500000              1635.726196\n",
      "134  2023-12-28          1709.300049              1635.200562\n",
      "135  2023-12-29          1697.000000              1641.061279\n"
     ]
    }
   ],
   "source": [
    "testyinvflat=testYInv.flatten()\n",
    "\n",
    "print(len(testyinvflat))\n",
    "print(len(testPredictInv))\n",
    "start_date = '2023-06-13'\n",
    "df_filtered = df[df['Date'] >= start_date]\n",
    "dates_col = df_filtered['Date'].values\n",
    "print(len(dates_col))\n",
    "# Create a DataFrame with actual and predicted values\n",
    "df_result = pd.DataFrame({\n",
    "    'dates': dates_col,\n",
    "    '  Actual_Open_price': testyinvflat,\n",
    "    '   Predicted_Open_price': testPredictInv.flatten()\n",
    "})\n",
    "pd.set_option('display.max_rows', None)#so full table gets displayed instead of truncated\n",
    "print(df_result)"
   ]
  }
 ],
 "metadata": {
  "kernelspec": {
   "display_name": "Python 3",
   "language": "python",
   "name": "python3"
  },
  "language_info": {
   "codemirror_mode": {
    "name": "ipython",
    "version": 3
   },
   "file_extension": ".py",
   "mimetype": "text/x-python",
   "name": "python",
   "nbconvert_exporter": "python",
   "pygments_lexer": "ipython3",
   "version": "3.12.0"
  }
 },
 "nbformat": 4,
 "nbformat_minor": 2
}
