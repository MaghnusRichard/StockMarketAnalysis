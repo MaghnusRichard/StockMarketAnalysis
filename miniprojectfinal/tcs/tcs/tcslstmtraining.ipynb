{
 "cells": [
  {
   "cell_type": "markdown",
   "metadata": {},
   "source": [
    "## Step 3: Training on the merged dataset\n",
    "\n",
    "**Objectives**\n",
    "\n",
    "- 4.1. Importing the dataset\n",
    "- 4.2. Creating a function to preprocess the dataset\n",
    "- 4.3. Preproccessing the dataset for LSTM\n",
    "- 4.4. Building the LSTM model\n",
    "- 4.5. Testing the model\n"
   ]
  },
  {
   "cell_type": "code",
   "execution_count": 1,
   "metadata": {},
   "outputs": [],
   "source": [
    "import pandas as pd\n",
    "import numpy as np\n",
    "from sklearn.preprocessing import MinMaxScaler\n",
    "from sklearn.metrics import mean_squared_error\n",
    "import matplotlib.pyplot as plt"
   ]
  },
  {
   "cell_type": "markdown",
   "metadata": {},
   "source": [
    "### 4.1. Importing the dataset\n"
   ]
  },
  {
   "cell_type": "code",
   "execution_count": 2,
   "metadata": {},
   "outputs": [],
   "source": [
    "#csvFilePath = 'tcs_feat.csv'\n",
    "df = pd.read_csv('tcs_merged.csv')\n"
   ]
  },
  {
   "cell_type": "markdown",
   "metadata": {},
   "source": [
    "### 4.2. Creating a function to preprocess the dataset\n",
    "\n",
    "The `createDataset` function is designed to prepare data for training a time-series prediction model. It takes the input features (`dataset`), the target variable (`target`), and an optional parameter `lookBack`, which determines how many past time steps the model should consider. The function then iterates through the dataset, creating pairs of input sequences (`dataX`) and corresponding target values (`dataY`). For each iteration, a window of time steps equal to `lookBack` is taken from the dataset, and this window becomes a sequence in `dataX`. The target value corresponding to the last time step in the window is added to `dataY`. The function returns two arrays suitable for training a model, where each row in `dataX` represents a sequence of past observations, and the corresponding element in `dataY` is the target value to be predicted. This kind of dataset preparation is particularly useful for training models like Long Short-Term Memory (LSTM) networks, which can capture temporal dependencies in sequential data.\n"
   ]
  },
  {
   "cell_type": "markdown",
   "metadata": {},
   "source": [
    "Absolutely! Let's walk through the first 3 iterations of the `createDataset` function with the provided information:\n",
    "\n",
    "**Inputs:**\n",
    "\n",
    "- `dataset`: List containing closing prices (assuming these are the values you provided):\n",
    "  ```\n",
    "  dataset = [633.47, 633.5, 632.5, 642.5, 650, 647.5, 650.5, 639.95, 645]\n",
    "  ```\n",
    "- `target`: Same list as `dataset` (assuming target values are also closing prices on the next day).\n",
    "- `lookBack`: We'll use 3 (considering past 3 opening prices for prediction).\n",
    "\n",
    "**Iteration 1 (i=0):**\n",
    "\n",
    "- `a = dataset[0:(0 + 3), :]`: This takes the first 3 elements from `dataset`: `a = [633.47, 633.5, 632.5]`.\n",
    "- `dataX.append(a)`: Adds this past data chunk to `dataX`: `dataX = [[633.47, 633.5, 632.5]]`.\n",
    "- `dataY.append(target[0 + 3])`: Retrieves the target value (4th element): `dataY.append(642.5)`.\n",
    "\n",
    "**Iteration 2 (i=1):**\n",
    "\n",
    "- `a = dataset[1:(1 + 3), :]`: Takes elements from index 1 to 3 (exclusive): `a = [633.5, 632.5, 642.5]`.\n",
    "- `dataX.append(a)`: Adds this past data chunk to `dataX`: `dataX = [[633.47, 633.5, 632.5], [633.5, 632.5, 642.5]]`.\n",
    "- `dataY.append(target[1 + 3])`: Retrieves the target value (5th element): `dataY.append(650)`.\n",
    "\n",
    "**Iteration 3 (i=2):**\n",
    "\n",
    "- `a = dataset[2:(2 + 3), :]`: Takes elements from index 2 to 4 (exclusive): `a = [632.5, 642.5, 650]`.\n",
    "- `dataX.append(a)`: Adds this past data chunk to `dataX`: `dataX = [[633.47, 633.5, 632.5], [633.5, 632.5, 642.5], [632.5, 642.5, 650]]`.\n",
    "- `dataY.append(target[2 + 3])`: Retrieves the target value (6th element): `dataY.append(647.5)`.\n",
    "\n",
    "**After 3 Iterations:**\n",
    "\n",
    "- `dataX`: List of lists containing past data chunks:\n",
    "  ```\n",
    "  dataX = [[633.47, 633.5, 632.5], [633.5, 632.5, 642.5], [632.5, 642.5, 650]]\n",
    "  ```\n",
    "- `dataY`: Single list containing target values (closing prices on the next day) corresponding to each chunk in `dataX`:\n",
    "  ```\n",
    "  dataY = [642.5, 650, 647.5]\n",
    "  ```\n",
    "\n",
    "**Note:** The loop would continue for all remaining elements in `dataset` following the same pattern. However, keep in mind that since `len(dataset)` (2714) is much larger than `lookBack` (3), the loop will iterate 2714 - 3 = 2711 times to create all the data chunks and target pairs.\n"
   ]
  },
  {
   "cell_type": "code",
   "execution_count": 3,
   "metadata": {},
   "outputs": [],
   "source": [
    "def createDataset(dataset, target, lookBack=1):\n",
    "    dataX, dataY = [], [] #datax with past values and datay with values to be predicted\n",
    "    for i in range(len(dataset) - lookBack):\n",
    "        a = dataset[i:(i + lookBack), :]\n",
    "        dataX.append(a)\n",
    "        dataY.append(target[i + lookBack])\n",
    "    return np.array(dataX), np.array(dataY)\n",
    "    \n",
    "#enddef"
   ]
  },
  {
   "cell_type": "markdown",
   "metadata": {},
   "source": [
    "### 4.3. Preproccessing the dataset for LSTM\n",
    "\n",
    "This section prepares data for training a LSTM network. It first extracts the features and the target variable (closing stock prices) from a DataFrame. Then it uses Min-Max scaling to normalize these features and the target variable, ensuring they fall within the range of 0 to 1. It utilizes the `createDataset` function, section 4.2, to structure the data into sequences suitable for training the LSTM model. The sequences represent past observations, and the corresponding targets are the next time step's closing prices to predict. Finally, the dataset gets divided into training and testing sets, and their dimensions are adjusted to fit the LSTM model's input requirements. The resulting `trainX`, `testX`, `trainY`, and `testY` are now ready for training and evaluating the LSTM model's performance in predicting future stock prices based on historical patterns.\n"
   ]
  },
  {
   "cell_type": "code",
   "execution_count": 4,
   "metadata": {},
   "outputs": [
    {
     "name": "stdout",
     "output_type": "stream",
     "text": [
      "[[[0.00000000e+00 7.00993513e-04 8.48095132e-04 5.78626624e-03\n",
      "   0.00000000e+00 0.00000000e+00 0.00000000e+00 0.00000000e+00\n",
      "   0.00000000e+00]\n",
      "  [6.60007922e-04 3.72872764e-05 7.22728148e-04 2.13501392e-02\n",
      "   0.00000000e+00 0.00000000e+00 0.00000000e+00 0.00000000e+00\n",
      "   0.00000000e+00]\n",
      "  [2.36135810e-03 6.93528775e-04 3.27437748e-03 2.99218253e-02\n",
      "   0.00000000e+00 0.00000000e+00 0.00000000e+00 0.00000000e+00\n",
      "   0.00000000e+00]]\n",
      "\n",
      " [[6.60007922e-04 3.72872764e-05 7.22728148e-04 2.13501392e-02\n",
      "   0.00000000e+00 0.00000000e+00 0.00000000e+00 0.00000000e+00\n",
      "   0.00000000e+00]\n",
      "  [2.36135810e-03 6.93528775e-04 3.27437748e-03 2.99218253e-02\n",
      "   0.00000000e+00 0.00000000e+00 0.00000000e+00 0.00000000e+00\n",
      "   0.00000000e+00]\n",
      "  [4.85472136e-03 3.81821346e-03 6.01777727e-03 5.93724194e-02\n",
      "   9.66561505e-02 1.66314783e-01 2.83054425e-01 7.33374705e-01\n",
      "   4.80598015e-01]]]\n",
      "bellow\n",
      "[[[0.00000000e+00 7.00993513e-04 8.48095132e-04 5.78626624e-03\n",
      "   0.00000000e+00 0.00000000e+00 0.00000000e+00 0.00000000e+00\n",
      "   0.00000000e+00]\n",
      "  [6.60007922e-04 3.72872764e-05 7.22728148e-04 2.13501392e-02\n",
      "   0.00000000e+00 0.00000000e+00 0.00000000e+00 0.00000000e+00\n",
      "   0.00000000e+00]\n",
      "  [2.36135810e-03 6.93528775e-04 3.27437748e-03 2.99218253e-02\n",
      "   0.00000000e+00 0.00000000e+00 0.00000000e+00 0.00000000e+00\n",
      "   0.00000000e+00]]\n",
      "\n",
      " [[6.60007922e-04 3.72872764e-05 7.22728148e-04 2.13501392e-02\n",
      "   0.00000000e+00 0.00000000e+00 0.00000000e+00 0.00000000e+00\n",
      "   0.00000000e+00]\n",
      "  [2.36135810e-03 6.93528775e-04 3.27437748e-03 2.99218253e-02\n",
      "   0.00000000e+00 0.00000000e+00 0.00000000e+00 0.00000000e+00\n",
      "   0.00000000e+00]\n",
      "  [4.85472136e-03 3.81821346e-03 6.01777727e-03 5.93724194e-02\n",
      "   9.66561505e-02 1.66314783e-01 2.83054425e-01 7.33374705e-01\n",
      "   4.80598015e-01]]\n",
      "\n",
      " [[2.36135810e-03 6.93528775e-04 3.27437748e-03 2.99218253e-02\n",
      "   0.00000000e+00 0.00000000e+00 0.00000000e+00 0.00000000e+00\n",
      "   0.00000000e+00]\n",
      "  [4.85472136e-03 3.81821346e-03 6.01777727e-03 5.93724194e-02\n",
      "   9.66561505e-02 1.66314783e-01 2.83054425e-01 7.33374705e-01\n",
      "   4.80598015e-01]\n",
      "  [5.29472664e-03 5.21275395e-03 5.37617846e-03 2.06745866e-02\n",
      "   4.42232076e-01 8.79866301e-01 5.95687680e-01 2.24464858e-01\n",
      "   5.25297387e-02]]]\n"
     ]
    }
   ],
   "source": [
    "features = df.drop(['Date', 'Open'], axis=1).values#axis =1means col drop this will have all columns except date and Open of all rows in array\n",
    "target = df['Open'].values  #all the open values in an array\n",
    "\n",
    "scalerFeatures = MinMaxScaler(feature_range=(0, 1))# This line creates a MinMaxScaler object.\n",
    "scalerTarget = MinMaxScaler(feature_range=(0, 1))\n",
    "\n",
    "featuresScaled = scalerFeatures.fit_transform(features)\n",
    "targetScaled = scalerTarget.fit_transform(target.reshape(-1, 1))#target.reshape(-1, 1): This reshapes the target variable into a 2D array with one column and as many rows as \n",
    "#necessary The -1 in the reshape function indicates that the number of rows should be inferred based on the length of the target variable.\n",
    "#print(target)\n",
    "'''why we are using reshape(-1,1) for target is because target is a 1d array and MinMaxScaler's fit_transform expects a 2d array \n",
    "by using (-1,1)means that we want numpy to calculate the correct number of rows for a new array that has exactly one column.\n",
    " The -1 is a placeholder that means \"whatever dimension is needed. it needs to be reshaped into a 2D array before being passed to fit_transform. \n",
    " That's why target.reshape(-1, 1) is used'''\n",
    "#print(featuresScaled[:5])\n",
    "\n",
    "lookBack = 3\n",
    "X, y = createDataset(featuresScaled, targetScaled, lookBack)\n",
    "\n",
    "#featuresInverse = scalerFeatures.inverse_transform(featuresScaled)\n",
    "#print(featuresInverse[:5])# to check if the values  scaled are correctly or not, here in code its verified its correct!!!\n",
    "#np.set_printoptions(suppress=False)#to prevent e values\n",
    "\n",
    "print(X[:2])\n",
    "#print(\"y below\")\n",
    "#print(y[:2])\n",
    "\n",
    "trainSize = int(len(X) * 0.95) # len(X)is 2710 now its 90% training and 5% testing\n",
    "testSize = len(X) - trainSize\n",
    "trainX, testX = X[0:trainSize, :], X[trainSize:len(X), :]\n",
    "trainY, testY = y[0:trainSize], y[trainSize:len(y)]\n",
    "\n",
    "trainX = np.reshape(trainX, (trainX.shape[0], lookBack, trainX.shape[2]))#this is reshaping the trainX,trainY from 2d to 3d array\n",
    "testX = np.reshape(testX, (testX.shape[0], lookBack, testX.shape[2]))\n",
    "#trainX.shape[0] is the number of rows in the trainX array, lookBack is the number of columns, and trainX.shape[2] is the number of features in the dataset.\n",
    "'''when you access trainX.shape[0], you're getting the first dimension of the trainX array, which is the number of rows.\n",
    " In the context of machine learning, each row typically represents a \n",
    "separate sample in your dataset, so trainX.shape[0] is the total number of samples/rows in your trainX dataset\n",
    "lookback is the number of values in the stacked array trainX.shape[2] is the number of features in the dataset'''\n",
    "print(\"bellow\")\n",
    "print(trainX[:3])"
   ]
  },
  {
   "cell_type": "code",
   "execution_count": 5,
   "metadata": {},
   "outputs": [
    {
     "name": "stdout",
     "output_type": "stream",
     "text": [
      "(2710, 3, 9)\n"
     ]
    }
   ],
   "source": [
    "X_combined = np.concatenate((trainX,testX), axis=0)\n",
    "print(X_combined.shape)"
   ]
  },
  {
   "cell_type": "markdown",
   "metadata": {},
   "source": [
    "### 4.4. Building the LSTM model\n"
   ]
  },
  {
   "cell_type": "code",
   "execution_count": 15,
   "metadata": {},
   "outputs": [
    {
     "name": "stderr",
     "output_type": "stream",
     "text": [
      "c:\\Users\\tebym\\AppData\\Local\\Programs\\Python\\Python312\\Lib\\site-packages\\keras\\src\\layers\\rnn\\rnn.py:204: UserWarning:\n",
      "\n",
      "Do not pass an `input_shape`/`input_dim` argument to a layer. When using Sequential models, prefer using an `Input(shape)` object as the first layer in the model instead.\n",
      "\n"
     ]
    },
    {
     "data": {
      "text/html": [
       "<pre style=\"white-space:pre;overflow-x:auto;line-height:normal;font-family:Menlo,'DejaVu Sans Mono',consolas,'Courier New',monospace\"><span style=\"font-weight: bold\">Model: \"sequential_1\"</span>\n",
       "</pre>\n"
      ],
      "text/plain": [
       "\u001b[1mModel: \"sequential_1\"\u001b[0m\n"
      ]
     },
     "metadata": {},
     "output_type": "display_data"
    },
    {
     "data": {
      "text/html": [
       "<pre style=\"white-space:pre;overflow-x:auto;line-height:normal;font-family:Menlo,'DejaVu Sans Mono',consolas,'Courier New',monospace\">┏━━━━━━━━━━━━━━━━━━━━━━━━━━━━━━━━━┳━━━━━━━━━━━━━━━━━━━━━━━━┳━━━━━━━━━━━━━━━┓\n",
       "┃<span style=\"font-weight: bold\"> Layer (type)                    </span>┃<span style=\"font-weight: bold\"> Output Shape           </span>┃<span style=\"font-weight: bold\">       Param # </span>┃\n",
       "┡━━━━━━━━━━━━━━━━━━━━━━━━━━━━━━━━━╇━━━━━━━━━━━━━━━━━━━━━━━━╇━━━━━━━━━━━━━━━┩\n",
       "│ lstm_4 (<span style=\"color: #0087ff; text-decoration-color: #0087ff\">LSTM</span>)                   │ (<span style=\"color: #00d7ff; text-decoration-color: #00d7ff\">None</span>, <span style=\"color: #00af00; text-decoration-color: #00af00\">3</span>, <span style=\"color: #00af00; text-decoration-color: #00af00\">100</span>)         │        <span style=\"color: #00af00; text-decoration-color: #00af00\">44,000</span> │\n",
       "├─────────────────────────────────┼────────────────────────┼───────────────┤\n",
       "│ dropout_4 (<span style=\"color: #0087ff; text-decoration-color: #0087ff\">Dropout</span>)             │ (<span style=\"color: #00d7ff; text-decoration-color: #00d7ff\">None</span>, <span style=\"color: #00af00; text-decoration-color: #00af00\">3</span>, <span style=\"color: #00af00; text-decoration-color: #00af00\">100</span>)         │             <span style=\"color: #00af00; text-decoration-color: #00af00\">0</span> │\n",
       "├─────────────────────────────────┼────────────────────────┼───────────────┤\n",
       "│ lstm_5 (<span style=\"color: #0087ff; text-decoration-color: #0087ff\">LSTM</span>)                   │ (<span style=\"color: #00d7ff; text-decoration-color: #00d7ff\">None</span>, <span style=\"color: #00af00; text-decoration-color: #00af00\">3</span>, <span style=\"color: #00af00; text-decoration-color: #00af00\">80</span>)          │        <span style=\"color: #00af00; text-decoration-color: #00af00\">57,920</span> │\n",
       "├─────────────────────────────────┼────────────────────────┼───────────────┤\n",
       "│ dropout_5 (<span style=\"color: #0087ff; text-decoration-color: #0087ff\">Dropout</span>)             │ (<span style=\"color: #00d7ff; text-decoration-color: #00d7ff\">None</span>, <span style=\"color: #00af00; text-decoration-color: #00af00\">3</span>, <span style=\"color: #00af00; text-decoration-color: #00af00\">80</span>)          │             <span style=\"color: #00af00; text-decoration-color: #00af00\">0</span> │\n",
       "├─────────────────────────────────┼────────────────────────┼───────────────┤\n",
       "│ lstm_6 (<span style=\"color: #0087ff; text-decoration-color: #0087ff\">LSTM</span>)                   │ (<span style=\"color: #00d7ff; text-decoration-color: #00d7ff\">None</span>, <span style=\"color: #00af00; text-decoration-color: #00af00\">3</span>, <span style=\"color: #00af00; text-decoration-color: #00af00\">50</span>)          │        <span style=\"color: #00af00; text-decoration-color: #00af00\">26,200</span> │\n",
       "├─────────────────────────────────┼────────────────────────┼───────────────┤\n",
       "│ dropout_6 (<span style=\"color: #0087ff; text-decoration-color: #0087ff\">Dropout</span>)             │ (<span style=\"color: #00d7ff; text-decoration-color: #00d7ff\">None</span>, <span style=\"color: #00af00; text-decoration-color: #00af00\">3</span>, <span style=\"color: #00af00; text-decoration-color: #00af00\">50</span>)          │             <span style=\"color: #00af00; text-decoration-color: #00af00\">0</span> │\n",
       "├─────────────────────────────────┼────────────────────────┼───────────────┤\n",
       "│ lstm_7 (<span style=\"color: #0087ff; text-decoration-color: #0087ff\">LSTM</span>)                   │ (<span style=\"color: #00d7ff; text-decoration-color: #00d7ff\">None</span>, <span style=\"color: #00af00; text-decoration-color: #00af00\">30</span>)             │         <span style=\"color: #00af00; text-decoration-color: #00af00\">9,720</span> │\n",
       "├─────────────────────────────────┼────────────────────────┼───────────────┤\n",
       "│ dropout_7 (<span style=\"color: #0087ff; text-decoration-color: #0087ff\">Dropout</span>)             │ (<span style=\"color: #00d7ff; text-decoration-color: #00d7ff\">None</span>, <span style=\"color: #00af00; text-decoration-color: #00af00\">30</span>)             │             <span style=\"color: #00af00; text-decoration-color: #00af00\">0</span> │\n",
       "├─────────────────────────────────┼────────────────────────┼───────────────┤\n",
       "│ dense_1 (<span style=\"color: #0087ff; text-decoration-color: #0087ff\">Dense</span>)                 │ (<span style=\"color: #00d7ff; text-decoration-color: #00d7ff\">None</span>, <span style=\"color: #00af00; text-decoration-color: #00af00\">1</span>)              │            <span style=\"color: #00af00; text-decoration-color: #00af00\">31</span> │\n",
       "└─────────────────────────────────┴────────────────────────┴───────────────┘\n",
       "</pre>\n"
      ],
      "text/plain": [
       "┏━━━━━━━━━━━━━━━━━━━━━━━━━━━━━━━━━┳━━━━━━━━━━━━━━━━━━━━━━━━┳━━━━━━━━━━━━━━━┓\n",
       "┃\u001b[1m \u001b[0m\u001b[1mLayer (type)                   \u001b[0m\u001b[1m \u001b[0m┃\u001b[1m \u001b[0m\u001b[1mOutput Shape          \u001b[0m\u001b[1m \u001b[0m┃\u001b[1m \u001b[0m\u001b[1m      Param #\u001b[0m\u001b[1m \u001b[0m┃\n",
       "┡━━━━━━━━━━━━━━━━━━━━━━━━━━━━━━━━━╇━━━━━━━━━━━━━━━━━━━━━━━━╇━━━━━━━━━━━━━━━┩\n",
       "│ lstm_4 (\u001b[38;5;33mLSTM\u001b[0m)                   │ (\u001b[38;5;45mNone\u001b[0m, \u001b[38;5;34m3\u001b[0m, \u001b[38;5;34m100\u001b[0m)         │        \u001b[38;5;34m44,000\u001b[0m │\n",
       "├─────────────────────────────────┼────────────────────────┼───────────────┤\n",
       "│ dropout_4 (\u001b[38;5;33mDropout\u001b[0m)             │ (\u001b[38;5;45mNone\u001b[0m, \u001b[38;5;34m3\u001b[0m, \u001b[38;5;34m100\u001b[0m)         │             \u001b[38;5;34m0\u001b[0m │\n",
       "├─────────────────────────────────┼────────────────────────┼───────────────┤\n",
       "│ lstm_5 (\u001b[38;5;33mLSTM\u001b[0m)                   │ (\u001b[38;5;45mNone\u001b[0m, \u001b[38;5;34m3\u001b[0m, \u001b[38;5;34m80\u001b[0m)          │        \u001b[38;5;34m57,920\u001b[0m │\n",
       "├─────────────────────────────────┼────────────────────────┼───────────────┤\n",
       "│ dropout_5 (\u001b[38;5;33mDropout\u001b[0m)             │ (\u001b[38;5;45mNone\u001b[0m, \u001b[38;5;34m3\u001b[0m, \u001b[38;5;34m80\u001b[0m)          │             \u001b[38;5;34m0\u001b[0m │\n",
       "├─────────────────────────────────┼────────────────────────┼───────────────┤\n",
       "│ lstm_6 (\u001b[38;5;33mLSTM\u001b[0m)                   │ (\u001b[38;5;45mNone\u001b[0m, \u001b[38;5;34m3\u001b[0m, \u001b[38;5;34m50\u001b[0m)          │        \u001b[38;5;34m26,200\u001b[0m │\n",
       "├─────────────────────────────────┼────────────────────────┼───────────────┤\n",
       "│ dropout_6 (\u001b[38;5;33mDropout\u001b[0m)             │ (\u001b[38;5;45mNone\u001b[0m, \u001b[38;5;34m3\u001b[0m, \u001b[38;5;34m50\u001b[0m)          │             \u001b[38;5;34m0\u001b[0m │\n",
       "├─────────────────────────────────┼────────────────────────┼───────────────┤\n",
       "│ lstm_7 (\u001b[38;5;33mLSTM\u001b[0m)                   │ (\u001b[38;5;45mNone\u001b[0m, \u001b[38;5;34m30\u001b[0m)             │         \u001b[38;5;34m9,720\u001b[0m │\n",
       "├─────────────────────────────────┼────────────────────────┼───────────────┤\n",
       "│ dropout_7 (\u001b[38;5;33mDropout\u001b[0m)             │ (\u001b[38;5;45mNone\u001b[0m, \u001b[38;5;34m30\u001b[0m)             │             \u001b[38;5;34m0\u001b[0m │\n",
       "├─────────────────────────────────┼────────────────────────┼───────────────┤\n",
       "│ dense_1 (\u001b[38;5;33mDense\u001b[0m)                 │ (\u001b[38;5;45mNone\u001b[0m, \u001b[38;5;34m1\u001b[0m)              │            \u001b[38;5;34m31\u001b[0m │\n",
       "└─────────────────────────────────┴────────────────────────┴───────────────┘\n"
      ]
     },
     "metadata": {},
     "output_type": "display_data"
    },
    {
     "data": {
      "text/html": [
       "<pre style=\"white-space:pre;overflow-x:auto;line-height:normal;font-family:Menlo,'DejaVu Sans Mono',consolas,'Courier New',monospace\"><span style=\"font-weight: bold\"> Total params: </span><span style=\"color: #00af00; text-decoration-color: #00af00\">137,871</span> (538.56 KB)\n",
       "</pre>\n"
      ],
      "text/plain": [
       "\u001b[1m Total params: \u001b[0m\u001b[38;5;34m137,871\u001b[0m (538.56 KB)\n"
      ]
     },
     "metadata": {},
     "output_type": "display_data"
    },
    {
     "data": {
      "text/html": [
       "<pre style=\"white-space:pre;overflow-x:auto;line-height:normal;font-family:Menlo,'DejaVu Sans Mono',consolas,'Courier New',monospace\"><span style=\"font-weight: bold\"> Trainable params: </span><span style=\"color: #00af00; text-decoration-color: #00af00\">137,871</span> (538.56 KB)\n",
       "</pre>\n"
      ],
      "text/plain": [
       "\u001b[1m Trainable params: \u001b[0m\u001b[38;5;34m137,871\u001b[0m (538.56 KB)\n"
      ]
     },
     "metadata": {},
     "output_type": "display_data"
    },
    {
     "data": {
      "text/html": [
       "<pre style=\"white-space:pre;overflow-x:auto;line-height:normal;font-family:Menlo,'DejaVu Sans Mono',consolas,'Courier New',monospace\"><span style=\"font-weight: bold\"> Non-trainable params: </span><span style=\"color: #00af00; text-decoration-color: #00af00\">0</span> (0.00 B)\n",
       "</pre>\n"
      ],
      "text/plain": [
       "\u001b[1m Non-trainable params: \u001b[0m\u001b[38;5;34m0\u001b[0m (0.00 B)\n"
      ]
     },
     "metadata": {},
     "output_type": "display_data"
    },
    {
     "name": "stdout",
     "output_type": "stream",
     "text": [
      "Epoch 1/25\n",
      "\u001b[1m65/65\u001b[0m \u001b[32m━━━━━━━━━━━━━━━━━━━━\u001b[0m\u001b[37m\u001b[0m \u001b[1m10s\u001b[0m 41ms/step - loss: 0.0550 - val_loss: 9.0311e-04\n",
      "Epoch 2/25\n",
      "\u001b[1m64/65\u001b[0m \u001b[32m━━━━━━━━━━━━━━━━━━━\u001b[0m\u001b[37m━\u001b[0m \u001b[1m0s\u001b[0m 27ms/step - loss: 0.0039Epoch 2: early stopping as val_loss has reached below baseline\n",
      "\u001b[1m65/65\u001b[0m \u001b[32m━━━━━━━━━━━━━━━━━━━━\u001b[0m\u001b[37m\u001b[0m \u001b[1m2s\u001b[0m 30ms/step - loss: 0.0039 - val_loss: 3.1793e-04\n"
     ]
    },
    {
     "data": {
      "text/plain": [
       "<keras.src.callbacks.history.History at 0x226dcdaf9b0>"
      ]
     },
     "execution_count": 15,
     "metadata": {},
     "output_type": "execute_result"
    }
   ],
   "source": [
    "\n",
    "from keras.models import Sequential\n",
    "from keras.layers import LSTM, Dropout, Dense\n",
    "import tensorflow as tf\n",
    "\n",
    "# Hyperparameters\n",
    "\n",
    "np.random.seed(21)\n",
    "tf.random.set_seed(42)\n",
    "\n",
    "batchSize = 32\n",
    "epoch = 25\n",
    "\n",
    "neurons = [100, 80, 50, 30]  # LSTM units in each layer, matching code1\n",
    "\n",
    "# LSTM architecture\n",
    "model = Sequential()\n",
    "\n",
    "# First LSTM layer with Dropout regularisation\n",
    "model.add(LSTM(units=neurons[0], return_sequences=True, input_shape=(lookBack, features.shape[1])))\n",
    "model.add(Dropout(0.3))\n",
    "\n",
    "# Second LSTM layer with Dropout regularisation\n",
    "model.add(LSTM(units=neurons[1], return_sequences=True))\n",
    "model.add(Dropout(0.1))\n",
    "\n",
    "# Third LSTM layer with Dropout regularisation\n",
    "model.add(LSTM(units=neurons[2], return_sequences=True))\n",
    "model.add(Dropout(0.2))\n",
    "\n",
    "# Fourth LSTM layer with Dropout regularisation\n",
    "model.add(LSTM(units=neurons[3]))\n",
    "model.add(Dropout(0.3))\n",
    "\n",
    "# Output layer\n",
    "model.add(Dense(units=1))\n",
    "model.summary()\n",
    "\n",
    "# Compile the model\n",
    "model.compile(loss='mean_squared_error', optimizer='adam')\n",
    "from keras.callbacks import Callback\n",
    "\n",
    "\n",
    "class CustomEarlyStopping(Callback):\n",
    "    def __init__(self, baseline):\n",
    "        super(CustomEarlyStopping, self).__init__()\n",
    "        self.baseline = baseline\n",
    "\n",
    "    def on_epoch_end(self, epoch, logs=None):\n",
    "        current = logs.get('val_loss')\n",
    "        if np.less(current, self.baseline):\n",
    "            self.model.stop_training = True\n",
    "            print(f\"Epoch {epoch+1}: early stopping as val_loss has reached below baseline\")\n",
    "\n",
    "\n",
    "early_stop = CustomEarlyStopping(baseline=0.00069999)\n",
    "model.fit(trainX, trainY, epochs=epoch, batch_size=batchSize, verbose=1, validation_split=0.2, callbacks=[early_stop])\n",
    "#model.fit(trainX, trainY, epochs=epoch, batch_size=batchSize, verbose=1, validation_split=0.2)\n"
   ]
  },
  {
   "cell_type": "markdown",
   "metadata": {},
   "source": [
    "Epoch 1/2\n",
    "976/976 ━━━━━━━━━━━━━━━━━━━━ 10s 6ms/step - loss: 0.0077 - val_loss: 0.0115\n",
    "\n",
    "Epoch 2/2\n",
    "976/976 ━━━━━━━━━━━━━━━━━━━━ 5s 5ms/step - loss: 0.0016 - val_loss: 0.0246\n",
    "\n",
    "# how to intepret the above\n",
    "\n",
    "The output you're seeing is the training progress of your LSTM model for each epoch.\n",
    "An epoch is one complete pass through the entire training dataset. Here's a breakdown of what each line means:\n",
    "\n",
    "Epoch 1/2: This indicates that the model is in its first pass (or epoch)\n",
    "through the entire training dataset. You have specified 2 epochs in total, so this is the first of two complete passes.\n",
    "\n",
    "976/976: This shows the number of batches processed out of the total number of batches. In your case, the batch size is 2,\n",
    "so the total number of batches is the size of your training data divided by 2. The model has processed all 976 batches in this epoch.\n",
    "\n",
    "10s 6ms/step: This shows the total time taken for this epoch (10 seconds) and the average time taken per batch (6 milliseconds).\n",
    "\n",
    "loss: 0.0077: This is the average loss on the training data during this epoch. The loss is a measure of how well the model is performing, with lower values being better.\n",
    "The specific loss function you're using is Mean Squared Error (MSE), which is commonly used for regression problems.\n",
    "\n",
    "val_loss: 0.0115: This is the average loss on the validation data during this epoch.\n",
    "The validation data is a subset of the training data that the model does not learn from, and is\n",
    "used to monitor the model's performance on unseen data during training.\n",
    "\n",
    "The second line Epoch 2/2 shows the same information for the second pass through the training data. You can see that the loss on the training data has decreased, which is a good sign as it means the model is learning. However, the loss on the validation data has increased, which could be a sign of overfitting. Overfitting is when the model learns the training data too well and performs poorly on unseen data.\n"
   ]
  },
  {
   "cell_type": "markdown",
   "metadata": {},
   "source": [
    "### 4.5. Testing the model\n",
    "\n",
    "- 4.5.1. Running prediction over the training set and testing set\n",
    "- 4.5.2. Calculating the score and accuracy of the model\n",
    "- 4.5.3. Visualizing the data\n"
   ]
  },
  {
   "cell_type": "markdown",
   "metadata": {},
   "source": [
    "#### 4.5.1. Running prediction over the training set and testing set\n"
   ]
  },
  {
   "cell_type": "code",
   "execution_count": 16,
   "metadata": {},
   "outputs": [
    {
     "name": "stdout",
     "output_type": "stream",
     "text": [
      "\u001b[1m81/81\u001b[0m \u001b[32m━━━━━━━━━━━━━━━━━━━━\u001b[0m\u001b[37m\u001b[0m \u001b[1m2s\u001b[0m 16ms/step\n",
      "\u001b[1m5/5\u001b[0m \u001b[32m━━━━━━━━━━━━━━━━━━━━\u001b[0m\u001b[37m\u001b[0m \u001b[1m0s\u001b[0m 7ms/step \n",
      "[[642.5       ]\n",
      " [650.        ]\n",
      " [647.5       ]\n",
      " [650.5       ]\n",
      " [639.95001221]]\n",
      "[[3260.        ]\n",
      " [3243.69995117]\n",
      " [3245.30004883]\n",
      " [3197.        ]\n",
      " [3190.        ]]\n"
     ]
    },
    {
     "data": {
      "text/plain": [
       "'after this , trainPredictInv, trainYInv, testPredictInv, and testYInv will \\ncontain the predictions and actual values in their original scale,'"
      ]
     },
     "execution_count": 16,
     "metadata": {},
     "output_type": "execute_result"
    }
   ],
   "source": [
    "trainPredict = model.predict(trainX)#predicted values from your model for training data\n",
    "testPredict = model.predict(testX)#predicted values from your model for testing data\n",
    "\n",
    "trainPredictInv = scalerTarget.inverse_transform(trainPredict)#inverse transform to get the original values\n",
    "trainYInv = scalerTarget.inverse_transform(np.reshape(trainY, (trainY.shape[0], 1)))\n",
    "testPredictInv = scalerTarget.inverse_transform(testPredict)\n",
    "testYInv = scalerTarget.inverse_transform(np.reshape(testY, (testY.shape[0], 1)))\n",
    "print(trainYInv[:5])\n",
    "print(testYInv[:5])\n",
    "dates = df.index.values\n",
    "trainDates = dates[:trainSize]\n",
    "testDates = dates[trainSize:]\n",
    "\n",
    "'''after this , trainPredictInv, trainYInv, testPredictInv, and testYInv will \n",
    "contain the predictions and actual values in their original scale,'''"
   ]
  },
  {
   "cell_type": "markdown",
   "metadata": {},
   "source": [
    "The variables `trainYInv` and `testYInv` contain the original values that your model tried to predict. These are the actual values in their original scale.\n",
    "\n",
    "Here's a brief explanation of what each variable represents:\n",
    "\n",
    "- `trainPredict`: The predicted values from your model for the training data, in the scaled form.\n",
    "- `testPredict`: The predicted values from your model for the test data, in the scaled form.\n",
    "- `trainPredictInv`: The predicted values from your model for the training data, inverse transformed to get the original values.\n",
    "- `testPredictInv`: The predicted values from your model for the test data, inverse transformed to get the original values.\n",
    "- `trainYInv`: The actual values for the training data in their original scale. These are the values that your model tried to predict.\n",
    "- `testYInv`: The actual values for the test data in their original scale. These are the values that your model tried to predict.\n",
    "\n",
    "So, if you want to see the original values that your model tried to predict, you should look at `trainYInv` and `testYInv`.\n"
   ]
  },
  {
   "cell_type": "markdown",
   "metadata": {},
   "source": [
    "#### 4.5.2. Calculating the score and accuracy of the model\n"
   ]
  },
  {
   "cell_type": "code",
   "execution_count": 17,
   "metadata": {},
   "outputs": [
    {
     "name": "stdout",
     "output_type": "stream",
     "text": [
      "Training RMSE: 75.87306529898824\n",
      "Testing RMSE: 52.3024271834049\n",
      "Training Accuracy: 96.07%\n",
      "Testing Accuracy: 98.49%\n"
     ]
    }
   ],
   "source": [
    "trainScore = np.sqrt(mean_squared_error(trainYInv[:, 0], trainPredictInv[:, 0]))\n",
    "print(f'Training RMSE: {trainScore}')\n",
    "testScore = np.sqrt(mean_squared_error(testYInv[:, 0], testPredictInv[:, 0]))\n",
    "print(f'Testing RMSE: {testScore}')\n",
    "trainAccuracy = 100 - (trainScore / np.mean(trainYInv) * 100)\n",
    "testAccuracy = 100 - (testScore / np.mean(testYInv) * 100)\n",
    "print(f'Training Accuracy: {trainAccuracy:.2f}%')\n",
    "print(f'Testing Accuracy: {testAccuracy:.2f}%')"
   ]
  },
  {
   "cell_type": "markdown",
   "metadata": {},
   "source": [
    "#### 4.5.3. Visualizing the data\n",
    "\n",
    "- On the x-axis, the dates are displayed after every 30 days\n",
    "- Test set is appended to the training set to better visualize if the prediction looks good\n"
   ]
  },
  {
   "cell_type": "code",
   "execution_count": 18,
   "metadata": {},
   "outputs": [
    {
     "data": {
      "image/png": "[encoded data removed]",
      "text/plain": [
       "<Figure size 2000x1000 with 1 Axes>"
      ]
     },
     "metadata": {},
     "output_type": "display_data"
    }
   ],
   "source": [
    "dates = df['Date'].values\n",
    "sampleInterval = 60\n",
    "sampledDates = dates[::sampleInterval]\n",
    "\n",
    "plt.figure(figsize=(20, 10))\n",
    "plt.plot(dates[:len(trainY)], trainY, label='Actual Train')\n",
    "plt.plot(dates[:len(trainPredict)], trainPredict, label='Predicted Train')\n",
    "plt.plot(dates[len(trainY):len(trainY) + len(testY)], testY, label='Actual Test')\n",
    "plt.plot(dates[len(trainPredict):len(trainPredict) + len(testPredict)], testPredict, label='Predicted Test')\n",
    "\n",
    "plt.xticks(sampledDates, rotation=90)\n",
    "\n",
    "plt.legend()\n",
    "plt.show()"
   ]
  },
  {
   "cell_type": "code",
   "execution_count": 19,
   "metadata": {},
   "outputs": [
    {
     "data": {
      "application/vnd.plotly.v1+json": {
       "config": {
        "plotlyServerURL": "https://plot.ly"
       },
       "data": [
        {
         "hovertemplate": "Type=Actual Open Price<br>Date=%{x}<br>Price=%{y}<extra></extra>",
         "legendgroup": "Actual Open Price",
         "line": {
          "color": "green",
          "dash": "solid"
         },
         "marker": {
          "symbol": "circle"
         },
         "mode": "lines",
         "name": "Actual Open Price",
         "orientation": "v",
         "showlegend": true,
         "type": "scatter",
         "x": [
          "2023-06-13",
          "2023-06-14",
          "2023-06-15",
          "2023-06-16",
          "2023-06-19",
          "2023-06-20",
          "2023-06-21",
          "2023-06-22",
          "2023-06-23",
          "2023-06-26",
          "2023-06-27",
          "2023-06-28",
          "2023-06-30",
          "2023-07-03",
          "2023-07-04",
          "2023-07-05",
          "2023-07-06",
          "2023-07-07",
          "2023-07-10",
          "2023-07-11",
          "2023-07-12",
          "2023-07-13",
          "2023-07-14",
          "2023-07-17",
          "2023-07-18",
          "2023-07-19",
          "2023-07-20",
          "2023-07-21",
          "2023-07-24",
          "2023-07-25",
          "2023-07-26",
          "2023-07-27",
          "2023-07-28",
          "2023-07-31",
          "2023-08-01",
          "2023-08-02",
          "2023-08-03",
          "2023-08-04",
          "2023-08-07",
          "2023-08-08",
          "2023-08-09",
          "2023-08-10",
          "2023-08-11",
          "2023-08-14",
          "2023-08-16",
          "2023-08-17",
          "2023-08-18",
          "2023-08-21",
          "2023-08-22",
          "2023-08-23",
          "2023-08-24",
          "2023-08-25",
          "2023-08-28",
          "2023-08-29",
          "2023-08-30",
          "2023-08-31",
          "2023-09-01",
          "2023-09-04",
          "2023-09-05",
          "2023-09-06",
          "2023-09-07",
          "2023-09-08",
          "2023-09-11",
          "2023-09-12",
          "2023-09-13",
          "2023-09-14",
          "2023-09-15",
          "2023-09-18",
          "2023-09-20",
          "2023-09-21",
          "2023-09-22",
          "2023-09-25",
          "2023-09-26",
          "2023-09-27",
          "2023-09-28",
          "2023-09-29",
          "2023-10-03",
          "2023-10-04",
          "2023-10-05",
          "2023-10-06",
          "2023-10-09",
          "2023-10-10",
          "2023-10-11",
          "2023-10-12",
          "2023-10-13",
          "2023-10-16",
          "2023-10-17",
          "2023-10-18",
          "2023-10-19",
          "2023-10-20",
          "2023-10-23",
          "2023-10-25",
          "2023-10-26",
          "2023-10-27",
          "2023-10-30",
          "2023-10-31",
          "2023-11-01",
          "2023-11-02",
          "2023-11-03",
          "2023-11-06",
          "2023-11-07",
          "2023-11-08",
          "2023-11-09",
          "2023-11-10",
          "2023-11-13",
          "2023-11-15",
          "2023-11-16",
          "2023-11-17",
          "2023-11-20",
          "2023-11-21",
          "2023-11-22",
          "2023-11-23",
          "2023-11-24",
          "2023-11-28",
          "2023-11-29",
          "2023-11-30",
          "2023-12-01",
          "2023-12-04",
          "2023-12-05",
          "2023-12-06",
          "2023-12-07",
          "2023-12-08",
          "2023-12-11",
          "2023-12-12",
          "2023-12-13",
          "2023-12-14",
          "2023-12-15",
          "2023-12-18",
          "2023-12-19",
          "2023-12-20",
          "2023-12-21",
          "2023-12-22",
          "2023-12-26",
          "2023-12-27",
          "2023-12-28",
          "2023-12-29"
         ],
         "xaxis": "x",
         "y": [
          3260,
          3243.699951171875,
          3245.300048828125,
          3197,
          3190,
          3214,
          3250,
          3260,
          3237.300048828125,
          3205,
          3202,
          3208,
          3220,
          3314.300048828125,
          3290,
          3320,
          3306.550048828125,
          3302,
          3324.75,
          3295,
          3280.949951171875,
          3284,
          3365,
          3510,
          3476,
          3499.9999999999995,
          3453.1000976562495,
          3404.0500488281245,
          3381,
          3397.5,
          3400.35009765625,
          3394.949951171875,
          3385,
          3364.39990234375,
          3415,
          3434.949951171875,
          3420,
          3401.25,
          3453.949951171875,
          3484.050048828125,
          3464.89990234375,
          3450.0000000000005,
          3438.10009765625,
          3440.699951171875,
          3450.0000000000005,
          3454.9999999999995,
          3409.9999999999995,
          3375,
          3400,
          3388,
          3408,
          3375,
          3394,
          3381.050048828125,
          3398,
          3401,
          3366,
          3378,
          3420,
          3434.0000000000005,
          3430.800048828125,
          3455.2499999999995,
          3462.0000000000005,
          3492,
          3571.1000976562505,
          3570.050048828125,
          3567.85009765625,
          3580.050048828125,
          3580,
          3588.5500488281245,
          3583.9999999999995,
          3602.5,
          3567.60009765625,
          3590.0000000000005,
          3599.9999999999995,
          3537.199951171875,
          3534.1999511718745,
          3486.300048828125,
          3554,
          3591,
          3645.0500488281255,
          3640.0500488281255,
          3650,
          3575,
          3530,
          3566,
          3530,
          3510.9999999999995,
          3469.5,
          3450.3999023437495,
          3473.0000000000005,
          3390.5,
          3368.050048828125,
          3350,
          3350,
          3399,
          3355,
          3343.199951171875,
          3382,
          3375,
          3378,
          3371.449951171875,
          3390.10009765625,
          3338,
          3356,
          3383.10009765625,
          3430.050048828125,
          3497.8500976562495,
          3491.25,
          3519.6000976562495,
          3499.9999999999995,
          3530,
          3494.2499999999995,
          3457.10009765625,
          3481,
          3499.449951171875,
          3499.9999999999995,
          3544.64990234375,
          3538,
          3532.6000976562505,
          3605,
          3633,
          3622.89990234375,
          3638.949951171875,
          3643.550048828125,
          3630,
          3666.699951171875,
          3858.10009765625,
          3845,
          3827.25,
          3756.25,
          3800,
          3819.85009765625,
          3799,
          3823.9999999999995,
          3792.0000000000005
         ],
         "yaxis": "y"
        },
        {
         "hovertemplate": "Type=Predicted Open Price<br>Date=%{x}<br>Price=%{y}<extra></extra>",
         "legendgroup": "Predicted Open Price",
         "line": {
          "color": "red",
          "dash": "solid"
         },
         "marker": {
          "symbol": "circle"
         },
         "mode": "lines",
         "name": "Predicted Open Price",
         "orientation": "v",
         "showlegend": true,
         "type": "scatter",
         "x": [
          "2023-06-13",
          "2023-06-14",
          "2023-06-15",
          "2023-06-16",
          "2023-06-19",
          "2023-06-20",
          "2023-06-21",
          "2023-06-22",
          "2023-06-23",
          "2023-06-26",
          "2023-06-27",
          "2023-06-28",
          "2023-06-30",
          "2023-07-03",
          "2023-07-04",
          "2023-07-05",
          "2023-07-06",
          "2023-07-07",
          "2023-07-10",
          "2023-07-11",
          "2023-07-12",
          "2023-07-13",
          "2023-07-14",
          "2023-07-17",
          "2023-07-18",
          "2023-07-19",
          "2023-07-20",
          "2023-07-21",
          "2023-07-24",
          "2023-07-25",
          "2023-07-26",
          "2023-07-27",
          "2023-07-28",
          "2023-07-31",
          "2023-08-01",
          "2023-08-02",
          "2023-08-03",
          "2023-08-04",
          "2023-08-07",
          "2023-08-08",
          "2023-08-09",
          "2023-08-10",
          "2023-08-11",
          "2023-08-14",
          "2023-08-16",
          "2023-08-17",
          "2023-08-18",
          "2023-08-21",
          "2023-08-22",
          "2023-08-23",
          "2023-08-24",
          "2023-08-25",
          "2023-08-28",
          "2023-08-29",
          "2023-08-30",
          "2023-08-31",
          "2023-09-01",
          "2023-09-04",
          "2023-09-05",
          "2023-09-06",
          "2023-09-07",
          "2023-09-08",
          "2023-09-11",
          "2023-09-12",
          "2023-09-13",
          "2023-09-14",
          "2023-09-15",
          "2023-09-18",
          "2023-09-20",
          "2023-09-21",
          "2023-09-22",
          "2023-09-25",
          "2023-09-26",
          "2023-09-27",
          "2023-09-28",
          "2023-09-29",
          "2023-10-03",
          "2023-10-04",
          "2023-10-05",
          "2023-10-06",
          "2023-10-09",
          "2023-10-10",
          "2023-10-11",
          "2023-10-12",
          "2023-10-13",
          "2023-10-16",
          "2023-10-17",
          "2023-10-18",
          "2023-10-19",
          "2023-10-20",
          "2023-10-23",
          "2023-10-25",
          "2023-10-26",
          "2023-10-27",
          "2023-10-30",
          "2023-10-31",
          "2023-11-01",
          "2023-11-02",
          "2023-11-03",
          "2023-11-06",
          "2023-11-07",
          "2023-11-08",
          "2023-11-09",
          "2023-11-10",
          "2023-11-13",
          "2023-11-15",
          "2023-11-16",
          "2023-11-17",
          "2023-11-20",
          "2023-11-21",
          "2023-11-22",
          "2023-11-23",
          "2023-11-24",
          "2023-11-28",
          "2023-11-29",
          "2023-11-30",
          "2023-12-01",
          "2023-12-04",
          "2023-12-05",
          "2023-12-06",
          "2023-12-07",
          "2023-12-08",
          "2023-12-11",
          "2023-12-12",
          "2023-12-13",
          "2023-12-14",
          "2023-12-15",
          "2023-12-18",
          "2023-12-19",
          "2023-12-20",
          "2023-12-21",
          "2023-12-22",
          "2023-12-26",
          "2023-12-27",
          "2023-12-28",
          "2023-12-29"
         ],
         "xaxis": "x",
         "y": [
          3254.078369140625,
          3255.633544921875,
          3251.609375,
          3246.900634765625,
          3246.8017578125,
          3225.837158203125,
          3167.328369140625,
          3207.80712890625,
          3229.82958984375,
          3245.683837890625,
          3251.33154296875,
          3243.37060546875,
          3212.5546875,
          3205.6689453125,
          3236.399658203125,
          3281.34619140625,
          3295.794189453125,
          3310.079345703125,
          3322.96142578125,
          3322.7880859375,
          3316.402587890625,
          3299.728271484375,
          3323.2919921875,
          3340.134521484375,
          3391.074462890625,
          3484.30615234375,
          3525.35595703125,
          3528.848388671875,
          3493.68115234375,
          3441.5791015625,
          3396.415771484375,
          3400.514892578125,
          3402.750244140625,
          3401.902587890625,
          3394.051025390625,
          3384.348388671875,
          3422.8671875,
          3443.890869140625,
          3431.42626953125,
          3422.949462890625,
          3457.296142578125,
          3477.523681640625,
          3472.18505859375,
          3456.33056640625,
          3466.101318359375,
          3478.05078125,
          3463.7080078125,
          3450.378662109375,
          3423.630859375,
          3389.377685546875,
          3397.703369140625,
          3394.17919921875,
          3396.985595703125,
          3391.6689453125,
          3379.1865234375,
          3383.615966796875,
          3387.83447265625,
          3393.201904296875,
          3381.873046875,
          3393.890380859375,
          3420.089599609375,
          3434.3525390625,
          3438.781982421875,
          3455.56298828125,
          3469.659423828125,
          3508.544921875,
          3564.26171875,
          3577.42333984375,
          3584.803466796875,
          3601.26171875,
          3606.514892578125,
          3601.88818359375,
          3588.3984375,
          3601.268310546875,
          3588.748046875,
          3582.1123046875,
          3581.309814453125,
          3554.155029296875,
          3534.041259765625,
          3525.97998046875,
          3553.96240234375,
          3606.689208984375,
          3630.48583984375,
          3649.0537109375,
          3643.148193359375,
          3639.336669921875,
          3579.399169921875,
          3557.44384765625,
          3537.6865234375,
          3514.716796875,
          3494.357421875,
          3471.9658203125,
          3465.784912109375,
          3420.909912109375,
          3385.338134765625,
          3354.112060546875,
          3360.68505859375,
          3369.56103515625,
          3366.419189453125,
          3350.286376953125,
          3366.6884765625,
          3372.5341796875,
          3384.219970703125,
          3385.9150390625,
          3379.640380859375,
          3356.513671875,
          3344.548828125,
          3369.61669921875,
          3431.830810546875,
          3497.54443359375,
          3518.096435546875,
          3523.42626953125,
          3524.5595703125,
          3520.40771484375,
          3508.99169921875,
          3478.7255859375,
          3483.25244140625,
          3508.95068359375,
          3508.90576171875,
          3519.294677734375,
          3533.029541015625,
          3554.03662109375,
          3599.268798828125,
          3624.94091796875,
          3637.91015625,
          3649.879638671875,
          3654.97509765625,
          3640.594970703125,
          3720.288818359375,
          3823.77783203125,
          3850.807861328125,
          3815.348876953125,
          3803.981689453125,
          3790.075439453125,
          3807.734375,
          3804.675048828125
         ],
         "yaxis": "y"
        }
       ],
       "layout": {
        "font": {
         "color": "black",
         "size": 13
        },
        "legend": {
         "title": {
          "text": "Open Price"
         },
         "tracegroupgap": 0
        },
        "margin": {
         "t": 60
        },
        "plot_bgcolor": "white",
        "template": {
         "data": {
          "bar": [
           {
            "error_x": {
             "color": "#2a3f5f"
            },
            "error_y": {
             "color": "#2a3f5f"
            },
            "marker": {
             "line": {
              "color": "#E5ECF6",
              "width": 0.5
             },
             "pattern": {
              "fillmode": "overlay",
              "size": 10,
              "solidity": 0.2
             }
            },
            "type": "bar"
           }
          ],
          "barpolar": [
           {
            "marker": {
             "line": {
              "color": "#E5ECF6",
              "width": 0.5
             },
             "pattern": {
              "fillmode": "overlay",
              "size": 10,
              "solidity": 0.2
             }
            },
            "type": "barpolar"
           }
          ],
          "carpet": [
           {
            "aaxis": {
             "endlinecolor": "#2a3f5f",
             "gridcolor": "white",
             "linecolor": "white",
             "minorgridcolor": "white",
             "startlinecolor": "#2a3f5f"
            },
            "baxis": {
             "endlinecolor": "#2a3f5f",
             "gridcolor": "white",
             "linecolor": "white",
             "minorgridcolor": "white",
             "startlinecolor": "#2a3f5f"
            },
            "type": "carpet"
           }
          ],
          "choropleth": [
           {
            "colorbar": {
             "outlinewidth": 0,
             "ticks": ""
            },
            "type": "choropleth"
           }
          ],
          "contour": [
           {
            "colorbar": {
             "outlinewidth": 0,
             "ticks": ""
            },
            "colorscale": [
             [
              0,
              "#0d0887"
             ],
             [
              0.1111111111111111,
              "#46039f"
             ],
             [
              0.2222222222222222,
              "#7201a8"
             ],
             [
              0.3333333333333333,
              "#9c179e"
             ],
             [
              0.4444444444444444,
              "#bd3786"
             ],
             [
              0.5555555555555556,
              "#d8576b"
             ],
             [
              0.6666666666666666,
              "#ed7953"
             ],
             [
              0.7777777777777778,
              "#fb9f3a"
             ],
             [
              0.8888888888888888,
              "#fdca26"
             ],
             [
              1,
              "#f0f921"
             ]
            ],
            "type": "contour"
           }
          ],
          "contourcarpet": [
           {
            "colorbar": {
             "outlinewidth": 0,
             "ticks": ""
            },
            "type": "contourcarpet"
           }
          ],
          "heatmap": [
           {
            "colorbar": {
             "outlinewidth": 0,
             "ticks": ""
            },
            "colorscale": [
             [
              0,
              "#0d0887"
             ],
             [
              0.1111111111111111,
              "#46039f"
             ],
             [
              0.2222222222222222,
              "#7201a8"
             ],
             [
              0.3333333333333333,
              "#9c179e"
             ],
             [
              0.4444444444444444,
              "#bd3786"
             ],
             [
              0.5555555555555556,
              "#d8576b"
             ],
             [
              0.6666666666666666,
              "#ed7953"
             ],
             [
              0.7777777777777778,
              "#fb9f3a"
             ],
             [
              0.8888888888888888,
              "#fdca26"
             ],
             [
              1,
              "#f0f921"
             ]
            ],
            "type": "heatmap"
           }
          ],
          "heatmapgl": [
           {
            "colorbar": {
             "outlinewidth": 0,
             "ticks": ""
            },
            "colorscale": [
             [
              0,
              "#0d0887"
             ],
             [
              0.1111111111111111,
              "#46039f"
             ],
             [
              0.2222222222222222,
              "#7201a8"
             ],
             [
              0.3333333333333333,
              "#9c179e"
             ],
             [
              0.4444444444444444,
              "#bd3786"
             ],
             [
              0.5555555555555556,
              "#d8576b"
             ],
             [
              0.6666666666666666,
              "#ed7953"
             ],
             [
              0.7777777777777778,
              "#fb9f3a"
             ],
             [
              0.8888888888888888,
              "#fdca26"
             ],
             [
              1,
              "#f0f921"
             ]
            ],
            "type": "heatmapgl"
           }
          ],
          "histogram": [
           {
            "marker": {
             "pattern": {
              "fillmode": "overlay",
              "size": 10,
              "solidity": 0.2
             }
            },
            "type": "histogram"
           }
          ],
          "histogram2d": [
           {
            "colorbar": {
             "outlinewidth": 0,
             "ticks": ""
            },
            "colorscale": [
             [
              0,
              "#0d0887"
             ],
             [
              0.1111111111111111,
              "#46039f"
             ],
             [
              0.2222222222222222,
              "#7201a8"
             ],
             [
              0.3333333333333333,
              "#9c179e"
             ],
             [
              0.4444444444444444,
              "#bd3786"
             ],
             [
              0.5555555555555556,
              "#d8576b"
             ],
             [
              0.6666666666666666,
              "#ed7953"
             ],
             [
              0.7777777777777778,
              "#fb9f3a"
             ],
             [
              0.8888888888888888,
              "#fdca26"
             ],
             [
              1,
              "#f0f921"
             ]
            ],
            "type": "histogram2d"
           }
          ],
          "histogram2dcontour": [
           {
            "colorbar": {
             "outlinewidth": 0,
             "ticks": ""
            },
            "colorscale": [
             [
              0,
              "#0d0887"
             ],
             [
              0.1111111111111111,
              "#46039f"
             ],
             [
              0.2222222222222222,
              "#7201a8"
             ],
             [
              0.3333333333333333,
              "#9c179e"
             ],
             [
              0.4444444444444444,
              "#bd3786"
             ],
             [
              0.5555555555555556,
              "#d8576b"
             ],
             [
              0.6666666666666666,
              "#ed7953"
             ],
             [
              0.7777777777777778,
              "#fb9f3a"
             ],
             [
              0.8888888888888888,
              "#fdca26"
             ],
             [
              1,
              "#f0f921"
             ]
            ],
            "type": "histogram2dcontour"
           }
          ],
          "mesh3d": [
           {
            "colorbar": {
             "outlinewidth": 0,
             "ticks": ""
            },
            "type": "mesh3d"
           }
          ],
          "parcoords": [
           {
            "line": {
             "colorbar": {
              "outlinewidth": 0,
              "ticks": ""
             }
            },
            "type": "parcoords"
           }
          ],
          "pie": [
           {
            "automargin": true,
            "type": "pie"
           }
          ],
          "scatter": [
           {
            "fillpattern": {
             "fillmode": "overlay",
             "size": 10,
             "solidity": 0.2
            },
            "type": "scatter"
           }
          ],
          "scatter3d": [
           {
            "line": {
             "colorbar": {
              "outlinewidth": 0,
              "ticks": ""
             }
            },
            "marker": {
             "colorbar": {
              "outlinewidth": 0,
              "ticks": ""
             }
            },
            "type": "scatter3d"
           }
          ],
          "scattercarpet": [
           {
            "marker": {
             "colorbar": {
              "outlinewidth": 0,
              "ticks": ""
             }
            },
            "type": "scattercarpet"
           }
          ],
          "scattergeo": [
           {
            "marker": {
             "colorbar": {
              "outlinewidth": 0,
              "ticks": ""
             }
            },
            "type": "scattergeo"
           }
          ],
          "scattergl": [
           {
            "marker": {
             "colorbar": {
              "outlinewidth": 0,
              "ticks": ""
             }
            },
            "type": "scattergl"
           }
          ],
          "scattermapbox": [
           {
            "marker": {
             "colorbar": {
              "outlinewidth": 0,
              "ticks": ""
             }
            },
            "type": "scattermapbox"
           }
          ],
          "scatterpolar": [
           {
            "marker": {
             "colorbar": {
              "outlinewidth": 0,
              "ticks": ""
             }
            },
            "type": "scatterpolar"
           }
          ],
          "scatterpolargl": [
           {
            "marker": {
             "colorbar": {
              "outlinewidth": 0,
              "ticks": ""
             }
            },
            "type": "scatterpolargl"
           }
          ],
          "scatterternary": [
           {
            "marker": {
             "colorbar": {
              "outlinewidth": 0,
              "ticks": ""
             }
            },
            "type": "scatterternary"
           }
          ],
          "surface": [
           {
            "colorbar": {
             "outlinewidth": 0,
             "ticks": ""
            },
            "colorscale": [
             [
              0,
              "#0d0887"
             ],
             [
              0.1111111111111111,
              "#46039f"
             ],
             [
              0.2222222222222222,
              "#7201a8"
             ],
             [
              0.3333333333333333,
              "#9c179e"
             ],
             [
              0.4444444444444444,
              "#bd3786"
             ],
             [
              0.5555555555555556,
              "#d8576b"
             ],
             [
              0.6666666666666666,
              "#ed7953"
             ],
             [
              0.7777777777777778,
              "#fb9f3a"
             ],
             [
              0.8888888888888888,
              "#fdca26"
             ],
             [
              1,
              "#f0f921"
             ]
            ],
            "type": "surface"
           }
          ],
          "table": [
           {
            "cells": {
             "fill": {
              "color": "#EBF0F8"
             },
             "line": {
              "color": "white"
             }
            },
            "header": {
             "fill": {
              "color": "#C8D4E3"
             },
             "line": {
              "color": "white"
             }
            },
            "type": "table"
           }
          ]
         },
         "layout": {
          "annotationdefaults": {
           "arrowcolor": "#2a3f5f",
           "arrowhead": 0,
           "arrowwidth": 1
          },
          "autotypenumbers": "strict",
          "coloraxis": {
           "colorbar": {
            "outlinewidth": 0,
            "ticks": ""
           }
          },
          "colorscale": {
           "diverging": [
            [
             0,
             "#8e0152"
            ],
            [
             0.1,
             "#c51b7d"
            ],
            [
             0.2,
             "#de77ae"
            ],
            [
             0.3,
             "#f1b6da"
            ],
            [
             0.4,
             "#fde0ef"
            ],
            [
             0.5,
             "#f7f7f7"
            ],
            [
             0.6,
             "#e6f5d0"
            ],
            [
             0.7,
             "#b8e186"
            ],
            [
             0.8,
             "#7fbc41"
            ],
            [
             0.9,
             "#4d9221"
            ],
            [
             1,
             "#276419"
            ]
           ],
           "sequential": [
            [
             0,
             "#0d0887"
            ],
            [
             0.1111111111111111,
             "#46039f"
            ],
            [
             0.2222222222222222,
             "#7201a8"
            ],
            [
             0.3333333333333333,
             "#9c179e"
            ],
            [
             0.4444444444444444,
             "#bd3786"
            ],
            [
             0.5555555555555556,
             "#d8576b"
            ],
            [
             0.6666666666666666,
             "#ed7953"
            ],
            [
             0.7777777777777778,
             "#fb9f3a"
            ],
            [
             0.8888888888888888,
             "#fdca26"
            ],
            [
             1,
             "#f0f921"
            ]
           ],
           "sequentialminus": [
            [
             0,
             "#0d0887"
            ],
            [
             0.1111111111111111,
             "#46039f"
            ],
            [
             0.2222222222222222,
             "#7201a8"
            ],
            [
             0.3333333333333333,
             "#9c179e"
            ],
            [
             0.4444444444444444,
             "#bd3786"
            ],
            [
             0.5555555555555556,
             "#d8576b"
            ],
            [
             0.6666666666666666,
             "#ed7953"
            ],
            [
             0.7777777777777778,
             "#fb9f3a"
            ],
            [
             0.8888888888888888,
             "#fdca26"
            ],
            [
             1,
             "#f0f921"
            ]
           ]
          },
          "colorway": [
           "#636efa",
           "#EF553B",
           "#00cc96",
           "#ab63fa",
           "#FFA15A",
           "#19d3f3",
           "#FF6692",
           "#B6E880",
           "#FF97FF",
           "#FECB52"
          ],
          "font": {
           "color": "#2a3f5f"
          },
          "geo": {
           "bgcolor": "white",
           "lakecolor": "white",
           "landcolor": "#E5ECF6",
           "showlakes": true,
           "showland": true,
           "subunitcolor": "white"
          },
          "hoverlabel": {
           "align": "left"
          },
          "hovermode": "closest",
          "mapbox": {
           "style": "light"
          },
          "paper_bgcolor": "white",
          "plot_bgcolor": "#E5ECF6",
          "polar": {
           "angularaxis": {
            "gridcolor": "white",
            "linecolor": "white",
            "ticks": ""
           },
           "bgcolor": "#E5ECF6",
           "radialaxis": {
            "gridcolor": "white",
            "linecolor": "white",
            "ticks": ""
           }
          },
          "scene": {
           "xaxis": {
            "backgroundcolor": "#E5ECF6",
            "gridcolor": "white",
            "gridwidth": 2,
            "linecolor": "white",
            "showbackground": true,
            "ticks": "",
            "zerolinecolor": "white"
           },
           "yaxis": {
            "backgroundcolor": "#E5ECF6",
            "gridcolor": "white",
            "gridwidth": 2,
            "linecolor": "white",
            "showbackground": true,
            "ticks": "",
            "zerolinecolor": "white"
           },
           "zaxis": {
            "backgroundcolor": "#E5ECF6",
            "gridcolor": "white",
            "gridwidth": 2,
            "linecolor": "white",
            "showbackground": true,
            "ticks": "",
            "zerolinecolor": "white"
           }
          },
          "shapedefaults": {
           "line": {
            "color": "#2a3f5f"
           }
          },
          "ternary": {
           "aaxis": {
            "gridcolor": "white",
            "linecolor": "white",
            "ticks": ""
           },
           "baxis": {
            "gridcolor": "white",
            "linecolor": "white",
            "ticks": ""
           },
           "bgcolor": "#E5ECF6",
           "caxis": {
            "gridcolor": "white",
            "linecolor": "white",
            "ticks": ""
           }
          },
          "title": {
           "x": 0.05
          },
          "xaxis": {
           "automargin": true,
           "gridcolor": "white",
           "linecolor": "white",
           "ticks": "",
           "title": {
            "standoff": 15
           },
           "zerolinecolor": "white",
           "zerolinewidth": 2
          },
          "yaxis": {
           "automargin": true,
           "gridcolor": "white",
           "linecolor": "white",
           "ticks": "",
           "title": {
            "standoff": 15
           },
           "zerolinecolor": "white",
           "zerolinewidth": 2
          }
         }
        },
        "title": {
         "text": "Comparison between original open price vs predicted open price"
        },
        "xaxis": {
         "anchor": "y",
         "domain": [
          0,
          1
         ],
         "title": {
          "text": "Date"
         }
        },
        "yaxis": {
         "anchor": "x",
         "domain": [
          0,
          1
         ],
         "title": {
          "text": "Price"
         }
        }
       }
      }
     },
     "metadata": {},
     "output_type": "display_data"
    }
   ],
   "source": [
    "from plotly import express as px\n",
    "# Filter the dates\n",
    "start_date = '2023-06-13'\n",
    "df_filtered = df[df['Date'] >= start_date]\n",
    "dates_col = df_filtered['Date'].values\n",
    "\n",
    "# Flatten the arrays\n",
    "testY_flat = testYInv.flatten()\n",
    "testPredict_flat = testPredictInv.flatten()\n",
    "\n",
    "# Create a DataFrame that contains the necessary data\n",
    "df_plot = pd.DataFrame({\n",
    "    'Date': dates_col,\n",
    "    'Actual Open Price': testY_flat,\n",
    "    'Predicted Open Price': testPredict_flat\n",
    "})\n",
    "\n",
    "# Melt the DataFrame to have 'Actual Open Price' and 'Predicted Open Price' in the same column\n",
    "df_plot_melt = df_plot.melt(id_vars='Date', value_vars=['Actual Open Price', 'Predicted Open Price'], var_name='Type', value_name='Price')\n",
    "\n",
    "# Create the line plots\n",
    "fig = px.line(df_plot_melt, x='Date', y='Price', color='Type', \n",
    "              color_discrete_map={'Actual Open Price':'green', 'Predicted Open Price':'red'})\n",
    "\n",
    "fig.update_layout(title_text='Comparison between original open price vs predicted open price',\n",
    "                  plot_bgcolor='white', font_size=13, font_color='black', legend_title_text='Open Price')\n",
    "\n",
    "# Show the plot\n",
    "fig.show()"
   ]
  },
  {
   "cell_type": "code",
   "execution_count": 20,
   "metadata": {},
   "outputs": [
    {
     "name": "stdout",
     "output_type": "stream",
     "text": [
      "136\n",
      "136\n",
      "136\n",
      "          dates    Actual_Open_price     Predicted_Open_price\n",
      "0    2023-06-13          3260.000000              3254.078369\n",
      "1    2023-06-14          3243.699951              3255.633545\n",
      "2    2023-06-15          3245.300049              3251.609375\n",
      "3    2023-06-16          3197.000000              3246.900635\n",
      "4    2023-06-19          3190.000000              3246.801758\n",
      "5    2023-06-20          3214.000000              3225.837158\n",
      "6    2023-06-21          3250.000000              3167.328369\n",
      "7    2023-06-22          3260.000000              3207.807129\n",
      "8    2023-06-23          3237.300049              3229.829590\n",
      "9    2023-06-26          3205.000000              3245.683838\n",
      "10   2023-06-27          3202.000000              3251.331543\n",
      "11   2023-06-28          3208.000000              3243.370605\n",
      "12   2023-06-30          3220.000000              3212.554688\n",
      "13   2023-07-03          3314.300049              3205.668945\n",
      "14   2023-07-04          3290.000000              3236.399658\n",
      "15   2023-07-05          3320.000000              3281.346191\n",
      "16   2023-07-06          3306.550049              3295.794189\n",
      "17   2023-07-07          3302.000000              3310.079346\n",
      "18   2023-07-10          3324.750000              3322.961426\n",
      "19   2023-07-11          3295.000000              3322.788086\n",
      "20   2023-07-12          3280.949951              3316.402588\n",
      "21   2023-07-13          3284.000000              3299.728271\n",
      "22   2023-07-14          3365.000000              3323.291992\n",
      "23   2023-07-17          3510.000000              3340.134521\n",
      "24   2023-07-18          3476.000000              3391.074463\n",
      "25   2023-07-19          3500.000000              3484.306152\n",
      "26   2023-07-20          3453.100098              3525.355957\n",
      "27   2023-07-21          3404.050049              3528.848389\n",
      "28   2023-07-24          3381.000000              3493.681152\n",
      "29   2023-07-25          3397.500000              3441.579102\n",
      "30   2023-07-26          3400.350098              3396.415771\n",
      "31   2023-07-27          3394.949951              3400.514893\n",
      "32   2023-07-28          3385.000000              3402.750244\n",
      "33   2023-07-31          3364.399902              3401.902588\n",
      "34   2023-08-01          3415.000000              3394.051025\n",
      "35   2023-08-02          3434.949951              3384.348389\n",
      "36   2023-08-03          3420.000000              3422.867188\n",
      "37   2023-08-04          3401.250000              3443.890869\n",
      "38   2023-08-07          3453.949951              3431.426270\n",
      "39   2023-08-08          3484.050049              3422.949463\n",
      "40   2023-08-09          3464.899902              3457.296143\n",
      "41   2023-08-10          3450.000000              3477.523682\n",
      "42   2023-08-11          3438.100098              3472.185059\n",
      "43   2023-08-14          3440.699951              3456.330566\n",
      "44   2023-08-16          3450.000000              3466.101318\n",
      "45   2023-08-17          3455.000000              3478.050781\n",
      "46   2023-08-18          3410.000000              3463.708008\n",
      "47   2023-08-21          3375.000000              3450.378662\n",
      "48   2023-08-22          3400.000000              3423.630859\n",
      "49   2023-08-23          3388.000000              3389.377686\n",
      "50   2023-08-24          3408.000000              3397.703369\n",
      "51   2023-08-25          3375.000000              3394.179199\n",
      "52   2023-08-28          3394.000000              3396.985596\n",
      "53   2023-08-29          3381.050049              3391.668945\n",
      "54   2023-08-30          3398.000000              3379.186523\n",
      "55   2023-08-31          3401.000000              3383.615967\n",
      "56   2023-09-01          3366.000000              3387.834473\n",
      "57   2023-09-04          3378.000000              3393.201904\n",
      "58   2023-09-05          3420.000000              3381.873047\n",
      "59   2023-09-06          3434.000000              3393.890381\n",
      "60   2023-09-07          3430.800049              3420.089600\n",
      "61   2023-09-08          3455.250000              3434.352539\n",
      "62   2023-09-11          3462.000000              3438.781982\n",
      "63   2023-09-12          3492.000000              3455.562988\n",
      "64   2023-09-13          3571.100098              3469.659424\n",
      "65   2023-09-14          3570.050049              3508.544922\n",
      "66   2023-09-15          3567.850098              3564.261719\n",
      "67   2023-09-18          3580.050049              3577.423340\n",
      "68   2023-09-20          3580.000000              3584.803467\n",
      "69   2023-09-21          3588.550049              3601.261719\n",
      "70   2023-09-22          3584.000000              3606.514893\n",
      "71   2023-09-25          3602.500000              3601.888184\n",
      "72   2023-09-26          3567.600098              3588.398438\n",
      "73   2023-09-27          3590.000000              3601.268311\n",
      "74   2023-09-28          3600.000000              3588.748047\n",
      "75   2023-09-29          3537.199951              3582.112305\n",
      "76   2023-10-03          3534.199951              3581.309814\n",
      "77   2023-10-04          3486.300049              3554.155029\n",
      "78   2023-10-05          3554.000000              3534.041260\n",
      "79   2023-10-06          3591.000000              3525.979980\n",
      "80   2023-10-09          3645.050049              3553.962402\n",
      "81   2023-10-10          3640.050049              3606.689209\n",
      "82   2023-10-11          3650.000000              3630.485840\n",
      "83   2023-10-12          3575.000000              3649.053711\n",
      "84   2023-10-13          3530.000000              3643.148193\n",
      "85   2023-10-16          3566.000000              3639.336670\n",
      "86   2023-10-17          3530.000000              3579.399170\n",
      "87   2023-10-18          3511.000000              3557.443848\n",
      "88   2023-10-19          3469.500000              3537.686523\n",
      "89   2023-10-20          3450.399902              3514.716797\n",
      "90   2023-10-23          3473.000000              3494.357422\n",
      "91   2023-10-25          3390.500000              3471.965820\n",
      "92   2023-10-26          3368.050049              3465.784912\n",
      "93   2023-10-27          3350.000000              3420.909912\n",
      "94   2023-10-30          3350.000000              3385.338135\n",
      "95   2023-10-31          3399.000000              3354.112061\n",
      "96   2023-11-01          3355.000000              3360.685059\n",
      "97   2023-11-02          3343.199951              3369.561035\n",
      "98   2023-11-03          3382.000000              3366.419189\n",
      "99   2023-11-06          3375.000000              3350.286377\n",
      "100  2023-11-07          3378.000000              3366.688477\n",
      "101  2023-11-08          3371.449951              3372.534180\n",
      "102  2023-11-09          3390.100098              3384.219971\n",
      "103  2023-11-10          3338.000000              3385.915039\n",
      "104  2023-11-13          3356.000000              3379.640381\n",
      "105  2023-11-15          3383.100098              3356.513672\n",
      "106  2023-11-16          3430.050049              3344.548828\n",
      "107  2023-11-17          3497.850098              3369.616699\n",
      "108  2023-11-20          3491.250000              3431.830811\n",
      "109  2023-11-21          3519.600098              3497.544434\n",
      "110  2023-11-22          3500.000000              3518.096436\n",
      "111  2023-11-23          3530.000000              3523.426270\n",
      "112  2023-11-24          3494.250000              3524.559570\n",
      "113  2023-11-28          3457.100098              3520.407715\n",
      "114  2023-11-29          3481.000000              3508.991699\n",
      "115  2023-11-30          3499.449951              3478.725586\n",
      "116  2023-12-01          3500.000000              3483.252441\n",
      "117  2023-12-04          3544.649902              3508.950684\n",
      "118  2023-12-05          3538.000000              3508.905762\n",
      "119  2023-12-06          3532.600098              3519.294678\n",
      "120  2023-12-07          3605.000000              3533.029541\n",
      "121  2023-12-08          3633.000000              3554.036621\n",
      "122  2023-12-11          3622.899902              3599.268799\n",
      "123  2023-12-12          3638.949951              3624.940918\n",
      "124  2023-12-13          3643.550049              3637.910156\n",
      "125  2023-12-14          3630.000000              3649.879639\n",
      "126  2023-12-15          3666.699951              3654.975098\n",
      "127  2023-12-18          3858.100098              3640.594971\n",
      "128  2023-12-19          3845.000000              3720.288818\n",
      "129  2023-12-20          3827.250000              3823.777832\n",
      "130  2023-12-21          3756.250000              3850.807861\n",
      "131  2023-12-22          3800.000000              3815.348877\n",
      "132  2023-12-26          3819.850098              3803.981689\n",
      "133  2023-12-27          3799.000000              3790.075439\n",
      "134  2023-12-28          3824.000000              3807.734375\n",
      "135  2023-12-29          3792.000000              3804.675049\n"
     ]
    }
   ],
   "source": [
    "import pandas as pd\n",
    "\n",
    "testyinvflat=testYInv.flatten()\n",
    "\n",
    "print(len(testyinvflat))\n",
    "print(len(testPredictInv))\n",
    "start_date = '2023-06-13'\n",
    "df_filtered = df[df['Date'] >= start_date]\n",
    "dates_col = df_filtered['Date'].values\n",
    "print(len(dates_col))\n",
    "# Create a DataFrame with actual and predicted values\n",
    "df_result = pd.DataFrame({\n",
    "    'dates': dates_col,\n",
    "    '  Actual_Open_price': testyinvflat,\n",
    "    '   Predicted_Open_price': testPredictInv.flatten()\n",
    "})\n",
    "pd.set_option('display.max_rows', None)#so full table gets displayed instead of truncated\n",
    "print(df_result)"
   ]
  }
 ],
 "metadata": {
  "kernelspec": {
   "display_name": "Python 3",
   "language": "python",
   "name": "python3"
  },
  "language_info": {
   "codemirror_mode": {
    "name": "ipython",
    "version": 3
   },
   "file_extension": ".py",
   "mimetype": "text/x-python",
   "name": "python",
   "nbconvert_exporter": "python",
   "pygments_lexer": "ipython3",
   "version": "3.12.0"
  }
 },
 "nbformat": 4,
 "nbformat_minor": 2
}
