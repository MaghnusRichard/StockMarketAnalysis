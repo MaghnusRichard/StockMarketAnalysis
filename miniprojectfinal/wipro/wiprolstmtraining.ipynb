{
 "cells": [
  {
   "cell_type": "markdown",
   "metadata": {},
   "source": [
    "## Step 3: Training on the merged dataset\n",
    "\n",
    "**Objectives**\n",
    "\n",
    "- 4.1. Importing the dataset\n",
    "- 4.2. Creating a function to preprocess the dataset\n",
    "- 4.3. Preproccessing the dataset for LSTM\n",
    "- 4.4. Building the LSTM model\n",
    "- 4.5. Testing the model\n"
   ]
  },
  {
   "cell_type": "code",
   "execution_count": 1,
   "metadata": {},
   "outputs": [],
   "source": [
    "import pandas as pd\n",
    "import numpy as np\n",
    "from sklearn.preprocessing import MinMaxScaler\n",
    "from sklearn.metrics import mean_squared_error\n",
    "import matplotlib.pyplot as plt"
   ]
  },
  {
   "cell_type": "markdown",
   "metadata": {},
   "source": [
    "### 4.1. Importing the dataset\n"
   ]
  },
  {
   "cell_type": "code",
   "execution_count": 2,
   "metadata": {},
   "outputs": [],
   "source": [
    "#csvFilePath = 'wipro_merged.csv'\n",
    "df = pd.read_csv('wipro_merged.csv')\n"
   ]
  },
  {
   "cell_type": "markdown",
   "metadata": {},
   "source": [
    "### 4.2. Creating a function to preprocess the dataset\n",
    "\n",
    "The `createDataset` function is designed to prepare data for training a time-series prediction model. It takes the input features (`dataset`), the target variable (`target`), and an optional parameter `lookBack`, which determines how many past time steps the model should consider. The function then iterates through the dataset, creating pairs of input sequences (`dataX`) and corresponding target values (`dataY`). For each iteration, a window of time steps equal to `lookBack` is taken from the dataset, and this window becomes a sequence in `dataX`. The target value corresponding to the last time step in the window is added to `dataY`. The function returns two arrays suitable for training a model, where each row in `dataX` represents a sequence of past observations, and the corresponding element in `dataY` is the target value to be predicted. This kind of dataset preparation is particularly useful for training models like Long Short-Term Memory (LSTM) networks, which can capture temporal dependencies in sequential data.\n"
   ]
  },
  {
   "cell_type": "markdown",
   "metadata": {},
   "source": [
    "Absolutely! Let's walk through the first 3 iterations of the `createDataset` function with the provided information:\n",
    "\n",
    "**Inputs:**\n",
    "\n",
    "- `dataset`: List containing closing prices (assuming these are the values you provided):\n",
    "  ```\n",
    "  dataset = [633.47, 633.5, 632.5, 642.5, 650, 647.5, 650.5, 639.95, 645]\n",
    "  ```\n",
    "- `target`: Same list as `dataset` (assuming target values are also closing prices on the next day).\n",
    "- `lookBack`: We'll use 3 (considering past 3 opening prices for prediction).\n",
    "\n",
    "**Iteration 1 (i=0):**\n",
    "\n",
    "- `a = dataset[0:(0 + 3), :]`: This takes the first 3 elements from `dataset`: `a = [633.47, 633.5, 632.5]`.\n",
    "- `dataX.append(a)`: Adds this past data chunk to `dataX`: `dataX = [[633.47, 633.5, 632.5]]`.\n",
    "- `dataY.append(target[0 + 3])`: Retrieves the target value (4th element): `dataY.append(642.5)`.\n",
    "\n",
    "**Iteration 2 (i=1):**\n",
    "\n",
    "- `a = dataset[1:(1 + 3), :]`: Takes elements from index 1 to 3 (exclusive): `a = [633.5, 632.5, 642.5]`.\n",
    "- `dataX.append(a)`: Adds this past data chunk to `dataX`: `dataX = [[633.47, 633.5, 632.5], [633.5, 632.5, 642.5]]`.\n",
    "- `dataY.append(target[1 + 3])`: Retrieves the target value (5th element): `dataY.append(650)`.\n",
    "\n",
    "**Iteration 3 (i=2):**\n",
    "\n",
    "- `a = dataset[2:(2 + 3), :]`: Takes elements from index 2 to 4 (exclusive): `a = [632.5, 642.5, 650]`.\n",
    "- `dataX.append(a)`: Adds this past data chunk to `dataX`: `dataX = [[633.47, 633.5, 632.5], [633.5, 632.5, 642.5], [632.5, 642.5, 650]]`.\n",
    "- `dataY.append(target[2 + 3])`: Retrieves the target value (6th element): `dataY.append(647.5)`.\n",
    "\n",
    "**After 3 Iterations:**\n",
    "\n",
    "- `dataX`: List of lists containing past data chunks:\n",
    "  ```\n",
    "  dataX = [[633.47, 633.5, 632.5], [633.5, 632.5, 642.5], [632.5, 642.5, 650]]\n",
    "  ```\n",
    "- `dataY`: Single list containing target values (closing prices on the next day) corresponding to each chunk in `dataX`:\n",
    "  ```\n",
    "  dataY = [642.5, 650, 647.5]\n",
    "  ```\n",
    "\n",
    "**Note:** The loop would continue for all remaining elements in `dataset` following the same pattern. However, keep in mind that since `len(dataset)` (2714) is much larger than `lookBack` (3), the loop will iterate 2714 - 3 = 2711 times to create all the data chunks and target pairs.\n"
   ]
  },
  {
   "cell_type": "code",
   "execution_count": 3,
   "metadata": {},
   "outputs": [],
   "source": [
    "def createDataset(dataset, target, lookBack=1):\n",
    "    dataX, dataY = [], [] #datax with past values and datay with values to be predicted\n",
    "    for i in range(len(dataset) - lookBack):\n",
    "        a = dataset[i:(i + lookBack), :]\n",
    "        dataX.append(a)\n",
    "        dataY.append(target[i + lookBack])\n",
    "    return np.array(dataX), np.array(dataY)\n",
    "    \n",
    "#enddef"
   ]
  },
  {
   "cell_type": "markdown",
   "metadata": {},
   "source": [
    "### 4.3. Preproccessing the dataset for LSTM\n",
    "\n",
    "This section prepares data for training a LSTM network. It first extracts the features and the target variable (closing stock prices) from a DataFrame. Then it uses Min-Max scaling to normalize these features and the target variable, ensuring they fall within the range of 0 to 1. It utilizes the `createDataset` function, section 4.2, to structure the data into sequences suitable for training the LSTM model. The sequences represent past observations, and the corresponding targets are the next time step's closing prices to predict. Finally, the dataset gets divided into training and testing sets, and their dimensions are adjusted to fit the LSTM model's input requirements. The resulting `trainX`, `testX`, `trainY`, and `testY` are now ready for training and evaluating the LSTM model's performance in predicting future stock prices based on historical patterns.\n"
   ]
  },
  {
   "cell_type": "code",
   "execution_count": 4,
   "metadata": {},
   "outputs": [
    {
     "data": {
      "text/plain": [
       "\" when you access trainX.shape[0], you're getting the first dimension of the trainX array, which is the number of rows.\\n In the context of machine learning, each row typically represents a \\nseparate sample in your dataset, so trainX.shape[0] is the total number of samples/rows in your trainX dataset\\nlookback is the number of values in the stacked array trainX.shape[2] is the number of features in the dataset\\n\""
      ]
     },
     "execution_count": 4,
     "metadata": {},
     "output_type": "execute_result"
    }
   ],
   "source": [
    "features = df.drop(['Date', 'Open'], axis=1).values#axis =1means col drop this will have all columns except date and Open of all rows in array\n",
    "target = df['Open'].values  #all the open values in an array\n",
    "\n",
    "scalerFeatures = MinMaxScaler(feature_range=(0, 1))# This line creates a MinMaxScaler object.\n",
    "scalerTarget = MinMaxScaler(feature_range=(0, 1))\n",
    "\n",
    "featuresScaled = scalerFeatures.fit_transform(features)\n",
    "targetScaled = scalerTarget.fit_transform(target.reshape(-1, 1))#target.reshape(-1, 1): This reshapes the target variable into a 2D array with one column and as many rows as \n",
    "#necessary The -1 in the reshape function indicates that the number of rows should be inferred based on the length of the target variable.\n",
    "#print(target)\n",
    "'''why we are using reshape(-1,1) for target is because target is a 1d array and MinMaxScaler's fit_transform expects a 2d array \n",
    "by using (-1,1)means that we want numpy to calculate the correct number of rows for a new array that has exactly one column.\n",
    " The -1 is a placeholder that means \"whatever dimension is needed. it needs to be reshaped into a 2D array before being passed to fit_transform. \n",
    " That's why target.reshape(-1, 1) is used'''\n",
    "#print(featuresScaled[:5])\n",
    "\n",
    "lookBack = 3\n",
    "X, y = createDataset(featuresScaled, targetScaled, lookBack)\n",
    "\n",
    "\n",
    "trainSize = int(len(X) * 0.95) # len(X)is 2710 now its 90% training and 5% testing\n",
    "testSize = len(X) - trainSize\n",
    "trainX, testX = X[0:trainSize, :], X[trainSize:len(X), :]\n",
    "trainY, testY = y[0:trainSize], y[trainSize:len(y)]\n",
    "\n",
    "trainX = np.reshape(trainX, (trainX.shape[0], lookBack, trainX.shape[2]))#this is reshaping the trainX,trainY from 2d to 3d array\n",
    "testX = np.reshape(testX, (testX.shape[0], lookBack, testX.shape[2]))\n",
    "#trainX.shape[0] is the number of rows in the trainX array, lookBack is the number of columns, and trainX.shape[2] is the number of features in the dataset.\n",
    "''' when you access trainX.shape[0], you're getting the first dimension of the trainX array, which is the number of rows.\n",
    " In the context of machine learning, each row typically represents a \n",
    "separate sample in your dataset, so trainX.shape[0] is the total number of samples/rows in your trainX dataset\n",
    "lookback is the number of values in the stacked array trainX.shape[2] is the number of features in the dataset\n",
    "'''\n"
   ]
  },
  {
   "cell_type": "code",
   "execution_count": 5,
   "metadata": {},
   "outputs": [
    {
     "name": "stdout",
     "output_type": "stream",
     "text": [
      "(2710, 3, 9)\n"
     ]
    }
   ],
   "source": [
    "X_combined = np.concatenate((trainX,testX), axis=0)\n",
    "print(X_combined.shape)"
   ]
  },
  {
   "cell_type": "markdown",
   "metadata": {},
   "source": [
    "### 4.4. Building the LSTM model\n"
   ]
  },
  {
   "cell_type": "code",
   "execution_count": 6,
   "metadata": {},
   "outputs": [
    {
     "name": "stderr",
     "output_type": "stream",
     "text": [
      "c:\\Users\\tebym\\AppData\\Local\\Programs\\Python\\Python312\\Lib\\site-packages\\keras\\src\\layers\\rnn\\rnn.py:204: UserWarning: Do not pass an `input_shape`/`input_dim` argument to a layer. When using Sequential models, prefer using an `Input(shape)` object as the first layer in the model instead.\n",
      "  super().__init__(**kwargs)\n"
     ]
    },
    {
     "data": {
      "text/html": [
       "<pre style=\"white-space:pre;overflow-x:auto;line-height:normal;font-family:Menlo,'DejaVu Sans Mono',consolas,'Courier New',monospace\"><span style=\"font-weight: bold\">Model: \"sequential\"</span>\n",
       "</pre>\n"
      ],
      "text/plain": [
       "\u001b[1mModel: \"sequential\"\u001b[0m\n"
      ]
     },
     "metadata": {},
     "output_type": "display_data"
    },
    {
     "data": {
      "text/html": [
       "<pre style=\"white-space:pre;overflow-x:auto;line-height:normal;font-family:Menlo,'DejaVu Sans Mono',consolas,'Courier New',monospace\">┏━━━━━━━━━━━━━━━━━━━━━━━━━━━━━━━━━┳━━━━━━━━━━━━━━━━━━━━━━━━┳━━━━━━━━━━━━━━━┓\n",
       "┃<span style=\"font-weight: bold\"> Layer (type)                    </span>┃<span style=\"font-weight: bold\"> Output Shape           </span>┃<span style=\"font-weight: bold\">       Param # </span>┃\n",
       "┡━━━━━━━━━━━━━━━━━━━━━━━━━━━━━━━━━╇━━━━━━━━━━━━━━━━━━━━━━━━╇━━━━━━━━━━━━━━━┩\n",
       "│ lstm (<span style=\"color: #0087ff; text-decoration-color: #0087ff\">LSTM</span>)                     │ (<span style=\"color: #00d7ff; text-decoration-color: #00d7ff\">None</span>, <span style=\"color: #00af00; text-decoration-color: #00af00\">3</span>, <span style=\"color: #00af00; text-decoration-color: #00af00\">100</span>)         │        <span style=\"color: #00af00; text-decoration-color: #00af00\">44,000</span> │\n",
       "├─────────────────────────────────┼────────────────────────┼───────────────┤\n",
       "│ dropout (<span style=\"color: #0087ff; text-decoration-color: #0087ff\">Dropout</span>)               │ (<span style=\"color: #00d7ff; text-decoration-color: #00d7ff\">None</span>, <span style=\"color: #00af00; text-decoration-color: #00af00\">3</span>, <span style=\"color: #00af00; text-decoration-color: #00af00\">100</span>)         │             <span style=\"color: #00af00; text-decoration-color: #00af00\">0</span> │\n",
       "├─────────────────────────────────┼────────────────────────┼───────────────┤\n",
       "│ lstm_1 (<span style=\"color: #0087ff; text-decoration-color: #0087ff\">LSTM</span>)                   │ (<span style=\"color: #00d7ff; text-decoration-color: #00d7ff\">None</span>, <span style=\"color: #00af00; text-decoration-color: #00af00\">3</span>, <span style=\"color: #00af00; text-decoration-color: #00af00\">80</span>)          │        <span style=\"color: #00af00; text-decoration-color: #00af00\">57,920</span> │\n",
       "├─────────────────────────────────┼────────────────────────┼───────────────┤\n",
       "│ dropout_1 (<span style=\"color: #0087ff; text-decoration-color: #0087ff\">Dropout</span>)             │ (<span style=\"color: #00d7ff; text-decoration-color: #00d7ff\">None</span>, <span style=\"color: #00af00; text-decoration-color: #00af00\">3</span>, <span style=\"color: #00af00; text-decoration-color: #00af00\">80</span>)          │             <span style=\"color: #00af00; text-decoration-color: #00af00\">0</span> │\n",
       "├─────────────────────────────────┼────────────────────────┼───────────────┤\n",
       "│ lstm_2 (<span style=\"color: #0087ff; text-decoration-color: #0087ff\">LSTM</span>)                   │ (<span style=\"color: #00d7ff; text-decoration-color: #00d7ff\">None</span>, <span style=\"color: #00af00; text-decoration-color: #00af00\">3</span>, <span style=\"color: #00af00; text-decoration-color: #00af00\">50</span>)          │        <span style=\"color: #00af00; text-decoration-color: #00af00\">26,200</span> │\n",
       "├─────────────────────────────────┼────────────────────────┼───────────────┤\n",
       "│ dropout_2 (<span style=\"color: #0087ff; text-decoration-color: #0087ff\">Dropout</span>)             │ (<span style=\"color: #00d7ff; text-decoration-color: #00d7ff\">None</span>, <span style=\"color: #00af00; text-decoration-color: #00af00\">3</span>, <span style=\"color: #00af00; text-decoration-color: #00af00\">50</span>)          │             <span style=\"color: #00af00; text-decoration-color: #00af00\">0</span> │\n",
       "├─────────────────────────────────┼────────────────────────┼───────────────┤\n",
       "│ lstm_3 (<span style=\"color: #0087ff; text-decoration-color: #0087ff\">LSTM</span>)                   │ (<span style=\"color: #00d7ff; text-decoration-color: #00d7ff\">None</span>, <span style=\"color: #00af00; text-decoration-color: #00af00\">30</span>)             │         <span style=\"color: #00af00; text-decoration-color: #00af00\">9,720</span> │\n",
       "├─────────────────────────────────┼────────────────────────┼───────────────┤\n",
       "│ dropout_3 (<span style=\"color: #0087ff; text-decoration-color: #0087ff\">Dropout</span>)             │ (<span style=\"color: #00d7ff; text-decoration-color: #00d7ff\">None</span>, <span style=\"color: #00af00; text-decoration-color: #00af00\">30</span>)             │             <span style=\"color: #00af00; text-decoration-color: #00af00\">0</span> │\n",
       "├─────────────────────────────────┼────────────────────────┼───────────────┤\n",
       "│ dense (<span style=\"color: #0087ff; text-decoration-color: #0087ff\">Dense</span>)                   │ (<span style=\"color: #00d7ff; text-decoration-color: #00d7ff\">None</span>, <span style=\"color: #00af00; text-decoration-color: #00af00\">1</span>)              │            <span style=\"color: #00af00; text-decoration-color: #00af00\">31</span> │\n",
       "└─────────────────────────────────┴────────────────────────┴───────────────┘\n",
       "</pre>\n"
      ],
      "text/plain": [
       "┏━━━━━━━━━━━━━━━━━━━━━━━━━━━━━━━━━┳━━━━━━━━━━━━━━━━━━━━━━━━┳━━━━━━━━━━━━━━━┓\n",
       "┃\u001b[1m \u001b[0m\u001b[1mLayer (type)                   \u001b[0m\u001b[1m \u001b[0m┃\u001b[1m \u001b[0m\u001b[1mOutput Shape          \u001b[0m\u001b[1m \u001b[0m┃\u001b[1m \u001b[0m\u001b[1m      Param #\u001b[0m\u001b[1m \u001b[0m┃\n",
       "┡━━━━━━━━━━━━━━━━━━━━━━━━━━━━━━━━━╇━━━━━━━━━━━━━━━━━━━━━━━━╇━━━━━━━━━━━━━━━┩\n",
       "│ lstm (\u001b[38;5;33mLSTM\u001b[0m)                     │ (\u001b[38;5;45mNone\u001b[0m, \u001b[38;5;34m3\u001b[0m, \u001b[38;5;34m100\u001b[0m)         │        \u001b[38;5;34m44,000\u001b[0m │\n",
       "├─────────────────────────────────┼────────────────────────┼───────────────┤\n",
       "│ dropout (\u001b[38;5;33mDropout\u001b[0m)               │ (\u001b[38;5;45mNone\u001b[0m, \u001b[38;5;34m3\u001b[0m, \u001b[38;5;34m100\u001b[0m)         │             \u001b[38;5;34m0\u001b[0m │\n",
       "├─────────────────────────────────┼────────────────────────┼───────────────┤\n",
       "│ lstm_1 (\u001b[38;5;33mLSTM\u001b[0m)                   │ (\u001b[38;5;45mNone\u001b[0m, \u001b[38;5;34m3\u001b[0m, \u001b[38;5;34m80\u001b[0m)          │        \u001b[38;5;34m57,920\u001b[0m │\n",
       "├─────────────────────────────────┼────────────────────────┼───────────────┤\n",
       "│ dropout_1 (\u001b[38;5;33mDropout\u001b[0m)             │ (\u001b[38;5;45mNone\u001b[0m, \u001b[38;5;34m3\u001b[0m, \u001b[38;5;34m80\u001b[0m)          │             \u001b[38;5;34m0\u001b[0m │\n",
       "├─────────────────────────────────┼────────────────────────┼───────────────┤\n",
       "│ lstm_2 (\u001b[38;5;33mLSTM\u001b[0m)                   │ (\u001b[38;5;45mNone\u001b[0m, \u001b[38;5;34m3\u001b[0m, \u001b[38;5;34m50\u001b[0m)          │        \u001b[38;5;34m26,200\u001b[0m │\n",
       "├─────────────────────────────────┼────────────────────────┼───────────────┤\n",
       "│ dropout_2 (\u001b[38;5;33mDropout\u001b[0m)             │ (\u001b[38;5;45mNone\u001b[0m, \u001b[38;5;34m3\u001b[0m, \u001b[38;5;34m50\u001b[0m)          │             \u001b[38;5;34m0\u001b[0m │\n",
       "├─────────────────────────────────┼────────────────────────┼───────────────┤\n",
       "│ lstm_3 (\u001b[38;5;33mLSTM\u001b[0m)                   │ (\u001b[38;5;45mNone\u001b[0m, \u001b[38;5;34m30\u001b[0m)             │         \u001b[38;5;34m9,720\u001b[0m │\n",
       "├─────────────────────────────────┼────────────────────────┼───────────────┤\n",
       "│ dropout_3 (\u001b[38;5;33mDropout\u001b[0m)             │ (\u001b[38;5;45mNone\u001b[0m, \u001b[38;5;34m30\u001b[0m)             │             \u001b[38;5;34m0\u001b[0m │\n",
       "├─────────────────────────────────┼────────────────────────┼───────────────┤\n",
       "│ dense (\u001b[38;5;33mDense\u001b[0m)                   │ (\u001b[38;5;45mNone\u001b[0m, \u001b[38;5;34m1\u001b[0m)              │            \u001b[38;5;34m31\u001b[0m │\n",
       "└─────────────────────────────────┴────────────────────────┴───────────────┘\n"
      ]
     },
     "metadata": {},
     "output_type": "display_data"
    },
    {
     "data": {
      "text/html": [
       "<pre style=\"white-space:pre;overflow-x:auto;line-height:normal;font-family:Menlo,'DejaVu Sans Mono',consolas,'Courier New',monospace\"><span style=\"font-weight: bold\"> Total params: </span><span style=\"color: #00af00; text-decoration-color: #00af00\">137,871</span> (538.56 KB)\n",
       "</pre>\n"
      ],
      "text/plain": [
       "\u001b[1m Total params: \u001b[0m\u001b[38;5;34m137,871\u001b[0m (538.56 KB)\n"
      ]
     },
     "metadata": {},
     "output_type": "display_data"
    },
    {
     "data": {
      "text/html": [
       "<pre style=\"white-space:pre;overflow-x:auto;line-height:normal;font-family:Menlo,'DejaVu Sans Mono',consolas,'Courier New',monospace\"><span style=\"font-weight: bold\"> Trainable params: </span><span style=\"color: #00af00; text-decoration-color: #00af00\">137,871</span> (538.56 KB)\n",
       "</pre>\n"
      ],
      "text/plain": [
       "\u001b[1m Trainable params: \u001b[0m\u001b[38;5;34m137,871\u001b[0m (538.56 KB)\n"
      ]
     },
     "metadata": {},
     "output_type": "display_data"
    },
    {
     "data": {
      "text/html": [
       "<pre style=\"white-space:pre;overflow-x:auto;line-height:normal;font-family:Menlo,'DejaVu Sans Mono',consolas,'Courier New',monospace\"><span style=\"font-weight: bold\"> Non-trainable params: </span><span style=\"color: #00af00; text-decoration-color: #00af00\">0</span> (0.00 B)\n",
       "</pre>\n"
      ],
      "text/plain": [
       "\u001b[1m Non-trainable params: \u001b[0m\u001b[38;5;34m0\u001b[0m (0.00 B)\n"
      ]
     },
     "metadata": {},
     "output_type": "display_data"
    },
    {
     "name": "stdout",
     "output_type": "stream",
     "text": [
      "Epoch 1/25\n",
      "\u001b[1m65/65\u001b[0m \u001b[32m━━━━━━━━━━━━━━━━━━━━\u001b[0m\u001b[37m\u001b[0m \u001b[1m8s\u001b[0m 22ms/step - loss: 0.0196 - val_loss: 0.0032\n",
      "Epoch 2/25\n",
      "\u001b[1m65/65\u001b[0m \u001b[32m━━━━━━━━━━━━━━━━━━━━\u001b[0m\u001b[37m\u001b[0m \u001b[1m1s\u001b[0m 11ms/step - loss: 0.0014 - val_loss: 5.0369e-04\n",
      "Epoch 3/25\n",
      "\u001b[1m65/65\u001b[0m \u001b[32m━━━━━━━━━━━━━━━━━━━━\u001b[0m\u001b[37m\u001b[0m \u001b[1m1s\u001b[0m 11ms/step - loss: 0.0010 - val_loss: 0.0019\n",
      "Epoch 4/25\n",
      "\u001b[1m65/65\u001b[0m \u001b[32m━━━━━━━━━━━━━━━━━━━━\u001b[0m\u001b[37m\u001b[0m \u001b[1m1s\u001b[0m 11ms/step - loss: 9.0221e-04 - val_loss: 0.0047\n",
      "Epoch 5/25\n",
      "\u001b[1m65/65\u001b[0m \u001b[32m━━━━━━━━━━━━━━━━━━━━\u001b[0m\u001b[37m\u001b[0m \u001b[1m1s\u001b[0m 12ms/step - loss: 8.2714e-04 - val_loss: 0.0033\n",
      "Epoch 6/25\n",
      "\u001b[1m65/65\u001b[0m \u001b[32m━━━━━━━━━━━━━━━━━━━━\u001b[0m\u001b[37m\u001b[0m \u001b[1m1s\u001b[0m 11ms/step - loss: 6.4633e-04 - val_loss: 0.0030\n",
      "Epoch 7/25\n",
      "\u001b[1m65/65\u001b[0m \u001b[32m━━━━━━━━━━━━━━━━━━━━\u001b[0m\u001b[37m\u001b[0m \u001b[1m1s\u001b[0m 11ms/step - loss: 6.9640e-04 - val_loss: 0.0011\n",
      "Epoch 8/25\n",
      "\u001b[1m65/65\u001b[0m \u001b[32m━━━━━━━━━━━━━━━━━━━━\u001b[0m\u001b[37m\u001b[0m \u001b[1m1s\u001b[0m 11ms/step - loss: 6.1252e-04 - val_loss: 0.0011\n",
      "Epoch 9/25\n",
      "\u001b[1m65/65\u001b[0m \u001b[32m━━━━━━━━━━━━━━━━━━━━\u001b[0m\u001b[37m\u001b[0m \u001b[1m1s\u001b[0m 11ms/step - loss: 6.2914e-04 - val_loss: 0.0018\n",
      "Epoch 10/25\n",
      "\u001b[1m65/65\u001b[0m \u001b[32m━━━━━━━━━━━━━━━━━━━━\u001b[0m\u001b[37m\u001b[0m \u001b[1m1s\u001b[0m 13ms/step - loss: 4.8055e-04 - val_loss: 0.0029\n",
      "Epoch 11/25\n",
      "\u001b[1m65/65\u001b[0m \u001b[32m━━━━━━━━━━━━━━━━━━━━\u001b[0m\u001b[37m\u001b[0m \u001b[1m1s\u001b[0m 12ms/step - loss: 6.6951e-04 - val_loss: 0.0031\n",
      "Epoch 12/25\n",
      "\u001b[1m65/65\u001b[0m \u001b[32m━━━━━━━━━━━━━━━━━━━━\u001b[0m\u001b[37m\u001b[0m \u001b[1m1s\u001b[0m 11ms/step - loss: 5.9510e-04 - val_loss: 0.0028\n",
      "Epoch 13/25\n",
      "\u001b[1m65/65\u001b[0m \u001b[32m━━━━━━━━━━━━━━━━━━━━\u001b[0m\u001b[37m\u001b[0m \u001b[1m1s\u001b[0m 12ms/step - loss: 4.9465e-04 - val_loss: 0.0031\n",
      "Epoch 14/25\n",
      "\u001b[1m65/65\u001b[0m \u001b[32m━━━━━━━━━━━━━━━━━━━━\u001b[0m\u001b[37m\u001b[0m \u001b[1m1s\u001b[0m 13ms/step - loss: 5.8896e-04 - val_loss: 0.0072\n",
      "Epoch 15/25\n",
      "\u001b[1m65/65\u001b[0m \u001b[32m━━━━━━━━━━━━━━━━━━━━\u001b[0m\u001b[37m\u001b[0m \u001b[1m1s\u001b[0m 12ms/step - loss: 5.1314e-04 - val_loss: 0.0041\n",
      "Epoch 16/25\n",
      "\u001b[1m65/65\u001b[0m \u001b[32m━━━━━━━━━━━━━━━━━━━━\u001b[0m\u001b[37m\u001b[0m \u001b[1m1s\u001b[0m 11ms/step - loss: 5.6622e-04 - val_loss: 0.0054\n",
      "Epoch 17/25\n",
      "\u001b[1m65/65\u001b[0m \u001b[32m━━━━━━━━━━━━━━━━━━━━\u001b[0m\u001b[37m\u001b[0m \u001b[1m1s\u001b[0m 12ms/step - loss: 4.8049e-04 - val_loss: 0.0048\n",
      "Epoch 18/25\n",
      "\u001b[1m65/65\u001b[0m \u001b[32m━━━━━━━━━━━━━━━━━━━━\u001b[0m\u001b[37m\u001b[0m \u001b[1m1s\u001b[0m 12ms/step - loss: 4.4884e-04 - val_loss: 0.0018\n",
      "Epoch 19/25\n",
      "\u001b[1m65/65\u001b[0m \u001b[32m━━━━━━━━━━━━━━━━━━━━\u001b[0m\u001b[37m\u001b[0m \u001b[1m1s\u001b[0m 11ms/step - loss: 3.6230e-04 - val_loss: 0.0024\n",
      "Epoch 20/25\n",
      "\u001b[1m65/65\u001b[0m \u001b[32m━━━━━━━━━━━━━━━━━━━━\u001b[0m\u001b[37m\u001b[0m \u001b[1m1s\u001b[0m 12ms/step - loss: 3.1823e-04 - val_loss: 0.0016\n",
      "Epoch 21/25\n",
      "\u001b[1m65/65\u001b[0m \u001b[32m━━━━━━━━━━━━━━━━━━━━\u001b[0m\u001b[37m\u001b[0m \u001b[1m1s\u001b[0m 11ms/step - loss: 4.1728e-04 - val_loss: 0.0016\n",
      "Epoch 22/25\n",
      "\u001b[1m65/65\u001b[0m \u001b[32m━━━━━━━━━━━━━━━━━━━━\u001b[0m\u001b[37m\u001b[0m \u001b[1m1s\u001b[0m 12ms/step - loss: 3.7622e-04 - val_loss: 0.0030\n",
      "Epoch 23/25\n",
      "\u001b[1m65/65\u001b[0m \u001b[32m━━━━━━━━━━━━━━━━━━━━\u001b[0m\u001b[37m\u001b[0m \u001b[1m1s\u001b[0m 14ms/step - loss: 2.9099e-04 - val_loss: 0.0020\n",
      "Epoch 24/25\n",
      "\u001b[1m65/65\u001b[0m \u001b[32m━━━━━━━━━━━━━━━━━━━━\u001b[0m\u001b[37m\u001b[0m \u001b[1m1s\u001b[0m 13ms/step - loss: 3.4900e-04 - val_loss: 0.0016\n",
      "Epoch 25/25\n",
      "\u001b[1m65/65\u001b[0m \u001b[32m━━━━━━━━━━━━━━━━━━━━\u001b[0m\u001b[37m\u001b[0m \u001b[1m1s\u001b[0m 12ms/step - loss: 4.0653e-04 - val_loss: 0.0036\n"
     ]
    },
    {
     "data": {
      "text/plain": [
       "<keras.src.callbacks.history.History at 0x22d406309e0>"
      ]
     },
     "execution_count": 6,
     "metadata": {},
     "output_type": "execute_result"
    }
   ],
   "source": [
    "\n",
    "from keras.models import Sequential\n",
    "from keras.layers import LSTM, Dropout, Dense\n",
    "\n",
    "import tensorflow as tf\n",
    "\n",
    "# Hyperparameters\n",
    "\n",
    "np.random.seed(21)\n",
    "tf.random.set_seed(42)\n",
    "\n",
    "batchSize = 32\n",
    "epoch = 25\n",
    "\n",
    "neurons = [100, 80, 50, 30]  # LSTM units in each layer, matching code1\n",
    "\n",
    "# LSTM architecture\n",
    "model = Sequential()\n",
    "\n",
    "# First LSTM layer with Dropout regularisation\n",
    "model.add(LSTM(units=neurons[0], return_sequences=True, input_shape=(lookBack, features.shape[1])))\n",
    "model.add(Dropout(0.3))\n",
    "\n",
    "# Second LSTM layer with Dropout regularisation\n",
    "model.add(LSTM(units=neurons[1], return_sequences=True))\n",
    "model.add(Dropout(0.1))\n",
    "\n",
    "# Third LSTM layer with Dropout regularisation\n",
    "model.add(LSTM(units=neurons[2], return_sequences=True))\n",
    "model.add(Dropout(0.2))\n",
    "\n",
    "# Fourth LSTM layer with Dropout regularisation\n",
    "model.add(LSTM(units=neurons[3]))\n",
    "model.add(Dropout(0.3))\n",
    "\n",
    "# Output layer\n",
    "model.add(Dense(units=1))\n",
    "model.summary()\n",
    "\n",
    "# Compile the model\n",
    "model.compile(loss='mean_squared_error', optimizer='adam')\n",
    "from keras.callbacks import Callback\n",
    "\n",
    "\n",
    "class CustomEarlyStopping(Callback):\n",
    "    def __init__(self, baseline):\n",
    "        super(CustomEarlyStopping, self).__init__()\n",
    "        self.baseline = baseline\n",
    "\n",
    "    def on_epoch_end(self, epoch, logs=None):\n",
    "        current = logs.get('val_loss')\n",
    "        if np.less(current, self.baseline):\n",
    "            self.model.stop_training = True\n",
    "            print(f\"Epoch {epoch+1}: early stopping as val_loss has reached below baseline\")\n",
    "\n",
    "\n",
    "early_stop = CustomEarlyStopping(baseline=0.00049999)\n",
    "model.fit(trainX, trainY, epochs=epoch, batch_size=batchSize, verbose=1, validation_split=0.2, callbacks=[early_stop])\n",
    "#model.fit(trainX, trainY, epochs=epoch, batch_size=batchSize, verbose=1, validation_split=0.2)\n"
   ]
  },
  {
   "cell_type": "markdown",
   "metadata": {},
   "source": [
    "### 4.5. Testing the model\n",
    "\n",
    "- 4.5.1. Running prediction over the training set and testing set\n",
    "- 4.5.2. Calculating the score and accuracy of the model\n",
    "- 4.5.3. Visualizing the data\n"
   ]
  },
  {
   "cell_type": "markdown",
   "metadata": {},
   "source": [
    "#### 4.5.1. Running prediction over the training set and testing set\n"
   ]
  },
  {
   "cell_type": "code",
   "execution_count": 12,
   "metadata": {},
   "outputs": [
    {
     "name": "stdout",
     "output_type": "stream",
     "text": [
      "\u001b[1m81/81\u001b[0m \u001b[32m━━━━━━━━━━━━━━━━━━━━\u001b[0m\u001b[37m\u001b[0m \u001b[1m0s\u001b[0m 4ms/step\n",
      "\u001b[1m5/5\u001b[0m \u001b[32m━━━━━━━━━━━━━━━━━━━━\u001b[0m\u001b[37m\u001b[0m \u001b[1m0s\u001b[0m 4ms/step \n"
     ]
    },
    {
     "data": {
      "text/plain": [
       "'after this , trainPredictInv, trainYInv, testPredictInv, and testYInv will \\ncontain the predictions and actual values in their original scale,'"
      ]
     },
     "execution_count": 12,
     "metadata": {},
     "output_type": "execute_result"
    }
   ],
   "source": [
    "trainPredict = model.predict(trainX)#predicted values from your model for training data\n",
    "testPredict = model.predict(testX)#predicted values from your model for testing data\n",
    "\n",
    "trainPredictInv = scalerTarget.inverse_transform(trainPredict)#inverse transform to get the original values\n",
    "trainYInv = scalerTarget.inverse_transform(np.reshape(trainY, (trainY.shape[0], 1)))\n",
    "testPredictInv = scalerTarget.inverse_transform(testPredict)\n",
    "testYInv = scalerTarget.inverse_transform(np.reshape(testY, (testY.shape[0], 1)))\n",
    "\n",
    "'''after this , trainPredictInv, trainYInv, testPredictInv, and testYInv will \n",
    "contain the predictions and actual values in their original scale,'''"
   ]
  },
  {
   "cell_type": "markdown",
   "metadata": {},
   "source": [
    "The variables `trainYInv` and `testYInv` contain the original values that your model tried to predict. These are the actual values in their original scale.\n",
    "\n",
    "Here's a brief explanation of what each variable represents:\n",
    "\n",
    "- `trainPredict`: The predicted values from your model for the training data, in the scaled form.\n",
    "- `testPredict`: The predicted values from your model for the test data, in the scaled form.\n",
    "- `trainPredictInv`: The predicted values from your model for the training data, inverse transformed to get the original values.\n",
    "- `testPredictInv`: The predicted values from your model for the test data, inverse transformed to get the original values.\n",
    "- `trainYInv`: The actual values for the training data in their original scale. These are the values that your model tried to predict.\n",
    "- `testYInv`: The actual values for the test data in their original scale. These are the values that your model tried to predict.\n",
    "\n",
    "So, if you want to see the original values that your model tried to predict, you should look at `trainYInv` and `testYInv`.\n"
   ]
  },
  {
   "cell_type": "markdown",
   "metadata": {},
   "source": [
    "#### 4.5.2. Calculating the score and accuracy of the model\n"
   ]
  },
  {
   "cell_type": "code",
   "execution_count": 13,
   "metadata": {},
   "outputs": [
    {
     "name": "stdout",
     "output_type": "stream",
     "text": [
      "Training RMSE: 17.176994626270954\n",
      "Testing RMSE: 9.285514387343891\n",
      "Training Accuracy: 93.90%\n",
      "Testing Accuracy: 97.73%\n"
     ]
    }
   ],
   "source": [
    "trainScore = np.sqrt(mean_squared_error(trainYInv[:, 0], trainPredictInv[:, 0]))\n",
    "print(f'Training RMSE: {trainScore}')\n",
    "testScore = np.sqrt(mean_squared_error(testYInv[:, 0], testPredictInv[:, 0]))\n",
    "print(f'Testing RMSE: {testScore}')\n",
    "trainAccuracy = 100 - (trainScore / np.mean(trainYInv) * 100)\n",
    "testAccuracy = 100 - (testScore / np.mean(testYInv) * 100)\n",
    "print(f'Training Accuracy: {trainAccuracy:.2f}%')\n",
    "print(f'Testing Accuracy: {testAccuracy:.2f}%')"
   ]
  },
  {
   "cell_type": "markdown",
   "metadata": {},
   "source": [
    "#### 4.5.3. Visualizing the data\n",
    "\n",
    "- On the x-axis, the dates are displayed after every 30 days\n",
    "- Test set is appended to the training set to better visualize if the prediction looks good\n"
   ]
  },
  {
   "cell_type": "code",
   "execution_count": 14,
   "metadata": {},
   "outputs": [
    {
     "data": {
      "image/png": "[encoded data removed]",
      "text/plain": [
       "<Figure size 2000x1000 with 1 Axes>"
      ]
     },
     "metadata": {},
     "output_type": "display_data"
    }
   ],
   "source": [
    "dates = df['Date'].values\n",
    "sampleInterval = 60\n",
    "sampledDates = dates[::sampleInterval]\n",
    "\n",
    "plt.figure(figsize=(20, 10))\n",
    "plt.plot(dates[:len(trainY)], trainY, label='Actual Train')\n",
    "plt.plot(dates[:len(trainPredict)], trainPredict, label='Predicted Train')\n",
    "plt.plot(dates[len(trainY):len(trainY) + len(testY)], testY, label='Actual Test')\n",
    "plt.plot(dates[len(trainPredict):len(trainPredict) + len(testPredict)], testPredict, label='Predicted Test')\n",
    "\n",
    "plt.xticks(sampledDates, rotation=90)\n",
    "\n",
    "plt.legend()\n",
    "plt.show()"
   ]
  },
  {
   "cell_type": "code",
   "execution_count": 16,
   "metadata": {},
   "outputs": [
    {
     "data": {
      "application/vnd.plotly.v1+json": {
       "config": {
        "plotlyServerURL": "https://plot.ly"
       },
       "data": [
        {
         "hovertemplate": "Type=Actual Open Price<br>Date=%{x}<br>Price=%{y}<extra></extra>",
         "legendgroup": "Actual Open Price",
         "line": {
          "color": "green",
          "dash": "solid"
         },
         "marker": {
          "symbol": "circle"
         },
         "mode": "lines",
         "name": "Actual Open Price",
         "orientation": "v",
         "showlegend": true,
         "type": "scatter",
         "x": [
          "2023-06-13",
          "2023-06-14",
          "2023-06-15",
          "2023-06-16",
          "2023-06-19",
          "2023-06-20",
          "2023-06-21",
          "2023-06-22",
          "2023-06-23",
          "2023-06-26",
          "2023-06-27",
          "2023-06-28",
          "2023-06-30",
          "2023-07-03",
          "2023-07-04",
          "2023-07-05",
          "2023-07-06",
          "2023-07-07",
          "2023-07-10",
          "2023-07-11",
          "2023-07-12",
          "2023-07-13",
          "2023-07-14",
          "2023-07-17",
          "2023-07-18",
          "2023-07-19",
          "2023-07-20",
          "2023-07-21",
          "2023-07-24",
          "2023-07-25",
          "2023-07-26",
          "2023-07-27",
          "2023-07-28",
          "2023-07-31",
          "2023-08-01",
          "2023-08-02",
          "2023-08-03",
          "2023-08-04",
          "2023-08-07",
          "2023-08-08",
          "2023-08-09",
          "2023-08-10",
          "2023-08-11",
          "2023-08-14",
          "2023-08-16",
          "2023-08-17",
          "2023-08-18",
          "2023-08-21",
          "2023-08-22",
          "2023-08-23",
          "2023-08-24",
          "2023-08-25",
          "2023-08-28",
          "2023-08-29",
          "2023-08-30",
          "2023-08-31",
          "2023-09-01",
          "2023-09-04",
          "2023-09-05",
          "2023-09-06",
          "2023-09-07",
          "2023-09-08",
          "2023-09-11",
          "2023-09-12",
          "2023-09-13",
          "2023-09-14",
          "2023-09-15",
          "2023-09-18",
          "2023-09-20",
          "2023-09-21",
          "2023-09-22",
          "2023-09-25",
          "2023-09-26",
          "2023-09-27",
          "2023-09-28",
          "2023-09-29",
          "2023-10-03",
          "2023-10-04",
          "2023-10-05",
          "2023-10-06",
          "2023-10-09",
          "2023-10-10",
          "2023-10-11",
          "2023-10-12",
          "2023-10-13",
          "2023-10-16",
          "2023-10-17",
          "2023-10-18",
          "2023-10-19",
          "2023-10-20",
          "2023-10-23",
          "2023-10-25",
          "2023-10-26",
          "2023-10-27",
          "2023-10-30",
          "2023-10-31",
          "2023-11-01",
          "2023-11-02",
          "2023-11-03",
          "2023-11-06",
          "2023-11-07",
          "2023-11-08",
          "2023-11-09",
          "2023-11-10",
          "2023-11-13",
          "2023-11-15",
          "2023-11-16",
          "2023-11-17",
          "2023-11-20",
          "2023-11-21",
          "2023-11-22",
          "2023-11-23",
          "2023-11-24",
          "2023-11-28",
          "2023-11-29",
          "2023-11-30",
          "2023-12-01",
          "2023-12-04",
          "2023-12-05",
          "2023-12-06",
          "2023-12-07",
          "2023-12-08",
          "2023-12-11",
          "2023-12-12",
          "2023-12-13",
          "2023-12-14",
          "2023-12-15",
          "2023-12-18",
          "2023-12-19",
          "2023-12-20",
          "2023-12-21",
          "2023-12-22",
          "2023-12-26",
          "2023-12-27",
          "2023-12-28",
          "2023-12-29"
         ],
         "xaxis": "x",
         "y": [
          397.9500122070313,
          396.2999877929688,
          397.1000061035156,
          385.54998779296875,
          382,
          381.7999877929688,
          384.25,
          386,
          382.2999877929688,
          380,
          384.25,
          383.75,
          385,
          393.8999938964844,
          393.75,
          394.1000061035156,
          394.5,
          395,
          395.8500061035156,
          390,
          393.8999938964844,
          391.8500061035156,
          394.75,
          407,
          418,
          420,
          418.5,
          405,
          406.2999877929688,
          405.5,
          403.5,
          403.99999999999994,
          401.0499877929688,
          399.74999999999994,
          405.5,
          405.8999938964844,
          402,
          400.8500061035156,
          409.9500122070313,
          412.3999938964844,
          415.5,
          417.1000061035156,
          418.6499938964844,
          413.25,
          414.1499938964844,
          418.6499938964844,
          415.04998779296875,
          411.7999877929688,
          415,
          417.25,
          418.75,
          410,
          411.45001220703136,
          409.64999389648443,
          410,
          408,
          407.9500122070313,
          418,
          435.7999877929688,
          433.75000000000006,
          429.9500122070313,
          433.4500122070313,
          433,
          437.1000061035157,
          434.9500122070313,
          438.3999938964844,
          439.7999877929688,
          441.0499877929688,
          434.25,
          429.8999938964844,
          424.3999938964844,
          418.5,
          416.7999877929688,
          412.24999999999994,
          416.49999999999994,
          405,
          406.4500122070313,
          402.70001220703136,
          407.9500122070313,
          408,
          404.2000122070313,
          406.3999938964844,
          409,
          421.75,
          411.8999938964844,
          411,
          411.7000122070313,
          409,
          391.9500122070313,
          395.0499877929688,
          390.8500061035156,
          384.3999938964844,
          378.7999877929688,
          379.0499877929688,
          384,
          383.2000122070313,
          383.8500061035156,
          383.7999877929688,
          386,
          386,
          384.8999938964844,
          384.6000061035156,
          383.00000000000006,
          380.2999877929688,
          382.6000061035156,
          385.54998779296875,
          391.6499938964844,
          398,
          393.2000122070313,
          402.6000061035156,
          402.5,
          400.5,
          402.5,
          397,
          398,
          406.95001220703136,
          413.75,
          412.7000122070313,
          407.3999938964844,
          406.75,
          420,
          418.7999877929688,
          420,
          420.7000122070313,
          423.54998779296875,
          423.5,
          436.0499877929688,
          446,
          445.6000061035157,
          441.99999999999994,
          428.8999938964844,
          435.2999877929688,
          454,
          468.5,
          472.5499877929688,
          470.9500122070313
         ],
         "yaxis": "y"
        },
        {
         "hovertemplate": "Type=Predicted Open Price<br>Date=%{x}<br>Price=%{y}<extra></extra>",
         "legendgroup": "Predicted Open Price",
         "line": {
          "color": "red",
          "dash": "solid"
         },
         "marker": {
          "symbol": "circle"
         },
         "mode": "lines",
         "name": "Predicted Open Price",
         "orientation": "v",
         "showlegend": true,
         "type": "scatter",
         "x": [
          "2023-06-13",
          "2023-06-14",
          "2023-06-15",
          "2023-06-16",
          "2023-06-19",
          "2023-06-20",
          "2023-06-21",
          "2023-06-22",
          "2023-06-23",
          "2023-06-26",
          "2023-06-27",
          "2023-06-28",
          "2023-06-30",
          "2023-07-03",
          "2023-07-04",
          "2023-07-05",
          "2023-07-06",
          "2023-07-07",
          "2023-07-10",
          "2023-07-11",
          "2023-07-12",
          "2023-07-13",
          "2023-07-14",
          "2023-07-17",
          "2023-07-18",
          "2023-07-19",
          "2023-07-20",
          "2023-07-21",
          "2023-07-24",
          "2023-07-25",
          "2023-07-26",
          "2023-07-27",
          "2023-07-28",
          "2023-07-31",
          "2023-08-01",
          "2023-08-02",
          "2023-08-03",
          "2023-08-04",
          "2023-08-07",
          "2023-08-08",
          "2023-08-09",
          "2023-08-10",
          "2023-08-11",
          "2023-08-14",
          "2023-08-16",
          "2023-08-17",
          "2023-08-18",
          "2023-08-21",
          "2023-08-22",
          "2023-08-23",
          "2023-08-24",
          "2023-08-25",
          "2023-08-28",
          "2023-08-29",
          "2023-08-30",
          "2023-08-31",
          "2023-09-01",
          "2023-09-04",
          "2023-09-05",
          "2023-09-06",
          "2023-09-07",
          "2023-09-08",
          "2023-09-11",
          "2023-09-12",
          "2023-09-13",
          "2023-09-14",
          "2023-09-15",
          "2023-09-18",
          "2023-09-20",
          "2023-09-21",
          "2023-09-22",
          "2023-09-25",
          "2023-09-26",
          "2023-09-27",
          "2023-09-28",
          "2023-09-29",
          "2023-10-03",
          "2023-10-04",
          "2023-10-05",
          "2023-10-06",
          "2023-10-09",
          "2023-10-10",
          "2023-10-11",
          "2023-10-12",
          "2023-10-13",
          "2023-10-16",
          "2023-10-17",
          "2023-10-18",
          "2023-10-19",
          "2023-10-20",
          "2023-10-23",
          "2023-10-25",
          "2023-10-26",
          "2023-10-27",
          "2023-10-30",
          "2023-10-31",
          "2023-11-01",
          "2023-11-02",
          "2023-11-03",
          "2023-11-06",
          "2023-11-07",
          "2023-11-08",
          "2023-11-09",
          "2023-11-10",
          "2023-11-13",
          "2023-11-15",
          "2023-11-16",
          "2023-11-17",
          "2023-11-20",
          "2023-11-21",
          "2023-11-22",
          "2023-11-23",
          "2023-11-24",
          "2023-11-28",
          "2023-11-29",
          "2023-11-30",
          "2023-12-01",
          "2023-12-04",
          "2023-12-05",
          "2023-12-06",
          "2023-12-07",
          "2023-12-08",
          "2023-12-11",
          "2023-12-12",
          "2023-12-13",
          "2023-12-14",
          "2023-12-15",
          "2023-12-18",
          "2023-12-19",
          "2023-12-20",
          "2023-12-21",
          "2023-12-22",
          "2023-12-26",
          "2023-12-27",
          "2023-12-28",
          "2023-12-29"
         ],
         "xaxis": "x",
         "y": [
          395.9168701171875,
          393.7756652832031,
          392.98162841796875,
          392.4538269042969,
          390.5801086425781,
          385.3038024902344,
          379.0572204589844,
          378.17352294921875,
          380.36614990234375,
          380.94354248046875,
          378.8175048828125,
          376.58795166015625,
          376.40728759765625,
          377.55633544921875,
          381.43011474609375,
          386.20611572265625,
          389.66259765625,
          391.4414367675781,
          390.88018798828125,
          391.46380615234375,
          390.28759765625,
          388.0370178222656,
          388.2335205078125,
          389.8104553222656,
          394.1520080566406,
          401.3583679199219,
          411.0439147949219,
          410.5182189941406,
          409.80609130859375,
          408.7745361328125,
          401.61688232421875,
          399.7314758300781,
          398.058837890625,
          398.0374755859375,
          397.2378845214844,
          397.33367919921875,
          400.1219787597656,
          400.3664855957031,
          398.14105224609375,
          398.9490966796875,
          404.53936767578125,
          408.2260437011719,
          410.99212646484375,
          412.1672668457031,
          412.2461853027344,
          410.5531005859375,
          410.5644836425781,
          412.25994873046875,
          410.86444091796875,
          408.5987243652344,
          410.3620300292969,
          411.0347595214844,
          410.1338806152344,
          407.938232421875,
          404.7747802734375,
          404.53924560546875,
          404.400634765625,
          404.6956787109375,
          408.0579833984375,
          416.2714538574219,
          425.33099365234375,
          426.4048156738281,
          424.8318176269531,
          425.47161865234375,
          426.3940124511719,
          428.4588928222656,
          429.08197021484375,
          430.7008056640625,
          432.8232421875,
          432.5482177734375,
          428.6405029296875,
          424.0753479003906,
          419.41058349609375,
          413.4642028808594,
          409.99169921875,
          408.9445495605469,
          407.4972229003906,
          403.2740478515625,
          401.3018493652344,
          401.1004638671875,
          401.1313171386719,
          403.2194519042969,
          403.2711486816406,
          403.8966369628906,
          407.68695068359375,
          412.8678894042969,
          410.5073547363281,
          406.5697326660156,
          406.0544128417969,
          404.3097839355469,
          397.4980163574219,
          387.4342956542969,
          386.4319763183594,
          381.2149658203125,
          378.5154113769531,
          376.4248046875,
          378.7200622558594,
          378.7641906738281,
          378.700439453125,
          379.4733581542969,
          380.5553894042969,
          381.019287109375,
          381.08551025390625,
          380.43353271484375,
          379.1355285644531,
          377.6901550292969,
          377.83367919921875,
          382.22412109375,
          388.6695251464844,
          392.34814453125,
          393.58807373046875,
          395.4454345703125,
          397.1058044433594,
          397.0952453613281,
          396.75390625,
          394.600830078125,
          396.734375,
          403.02911376953125,
          405.8940734863281,
          404.57720947265625,
          404.47991943359375,
          405.6883544921875,
          412.4512634277344,
          414.8091125488281,
          415.9655456542969,
          416.0946960449219,
          418.18157958984375,
          421.2694396972656,
          431.62823486328125,
          438.003662109375,
          437.5717468261719,
          432.6573181152344,
          431.86785888671875,
          437.757080078125,
          453.0367126464844,
          458.92279052734375
         ],
         "yaxis": "y"
        }
       ],
       "layout": {
        "font": {
         "color": "black",
         "size": 13
        },
        "legend": {
         "title": {
          "text": "Open Price"
         },
         "tracegroupgap": 0
        },
        "margin": {
         "t": 60
        },
        "plot_bgcolor": "white",
        "template": {
         "data": {
          "bar": [
           {
            "error_x": {
             "color": "#2a3f5f"
            },
            "error_y": {
             "color": "#2a3f5f"
            },
            "marker": {
             "line": {
              "color": "#E5ECF6",
              "width": 0.5
             },
             "pattern": {
              "fillmode": "overlay",
              "size": 10,
              "solidity": 0.2
             }
            },
            "type": "bar"
           }
          ],
          "barpolar": [
           {
            "marker": {
             "line": {
              "color": "#E5ECF6",
              "width": 0.5
             },
             "pattern": {
              "fillmode": "overlay",
              "size": 10,
              "solidity": 0.2
             }
            },
            "type": "barpolar"
           }
          ],
          "carpet": [
           {
            "aaxis": {
             "endlinecolor": "#2a3f5f",
             "gridcolor": "white",
             "linecolor": "white",
             "minorgridcolor": "white",
             "startlinecolor": "#2a3f5f"
            },
            "baxis": {
             "endlinecolor": "#2a3f5f",
             "gridcolor": "white",
             "linecolor": "white",
             "minorgridcolor": "white",
             "startlinecolor": "#2a3f5f"
            },
            "type": "carpet"
           }
          ],
          "choropleth": [
           {
            "colorbar": {
             "outlinewidth": 0,
             "ticks": ""
            },
            "type": "choropleth"
           }
          ],
          "contour": [
           {
            "colorbar": {
             "outlinewidth": 0,
             "ticks": ""
            },
            "colorscale": [
             [
              0,
              "#0d0887"
             ],
             [
              0.1111111111111111,
              "#46039f"
             ],
             [
              0.2222222222222222,
              "#7201a8"
             ],
             [
              0.3333333333333333,
              "#9c179e"
             ],
             [
              0.4444444444444444,
              "#bd3786"
             ],
             [
              0.5555555555555556,
              "#d8576b"
             ],
             [
              0.6666666666666666,
              "#ed7953"
             ],
             [
              0.7777777777777778,
              "#fb9f3a"
             ],
             [
              0.8888888888888888,
              "#fdca26"
             ],
             [
              1,
              "#f0f921"
             ]
            ],
            "type": "contour"
           }
          ],
          "contourcarpet": [
           {
            "colorbar": {
             "outlinewidth": 0,
             "ticks": ""
            },
            "type": "contourcarpet"
           }
          ],
          "heatmap": [
           {
            "colorbar": {
             "outlinewidth": 0,
             "ticks": ""
            },
            "colorscale": [
             [
              0,
              "#0d0887"
             ],
             [
              0.1111111111111111,
              "#46039f"
             ],
             [
              0.2222222222222222,
              "#7201a8"
             ],
             [
              0.3333333333333333,
              "#9c179e"
             ],
             [
              0.4444444444444444,
              "#bd3786"
             ],
             [
              0.5555555555555556,
              "#d8576b"
             ],
             [
              0.6666666666666666,
              "#ed7953"
             ],
             [
              0.7777777777777778,
              "#fb9f3a"
             ],
             [
              0.8888888888888888,
              "#fdca26"
             ],
             [
              1,
              "#f0f921"
             ]
            ],
            "type": "heatmap"
           }
          ],
          "heatmapgl": [
           {
            "colorbar": {
             "outlinewidth": 0,
             "ticks": ""
            },
            "colorscale": [
             [
              0,
              "#0d0887"
             ],
             [
              0.1111111111111111,
              "#46039f"
             ],
             [
              0.2222222222222222,
              "#7201a8"
             ],
             [
              0.3333333333333333,
              "#9c179e"
             ],
             [
              0.4444444444444444,
              "#bd3786"
             ],
             [
              0.5555555555555556,
              "#d8576b"
             ],
             [
              0.6666666666666666,
              "#ed7953"
             ],
             [
              0.7777777777777778,
              "#fb9f3a"
             ],
             [
              0.8888888888888888,
              "#fdca26"
             ],
             [
              1,
              "#f0f921"
             ]
            ],
            "type": "heatmapgl"
           }
          ],
          "histogram": [
           {
            "marker": {
             "pattern": {
              "fillmode": "overlay",
              "size": 10,
              "solidity": 0.2
             }
            },
            "type": "histogram"
           }
          ],
          "histogram2d": [
           {
            "colorbar": {
             "outlinewidth": 0,
             "ticks": ""
            },
            "colorscale": [
             [
              0,
              "#0d0887"
             ],
             [
              0.1111111111111111,
              "#46039f"
             ],
             [
              0.2222222222222222,
              "#7201a8"
             ],
             [
              0.3333333333333333,
              "#9c179e"
             ],
             [
              0.4444444444444444,
              "#bd3786"
             ],
             [
              0.5555555555555556,
              "#d8576b"
             ],
             [
              0.6666666666666666,
              "#ed7953"
             ],
             [
              0.7777777777777778,
              "#fb9f3a"
             ],
             [
              0.8888888888888888,
              "#fdca26"
             ],
             [
              1,
              "#f0f921"
             ]
            ],
            "type": "histogram2d"
           }
          ],
          "histogram2dcontour": [
           {
            "colorbar": {
             "outlinewidth": 0,
             "ticks": ""
            },
            "colorscale": [
             [
              0,
              "#0d0887"
             ],
             [
              0.1111111111111111,
              "#46039f"
             ],
             [
              0.2222222222222222,
              "#7201a8"
             ],
             [
              0.3333333333333333,
              "#9c179e"
             ],
             [
              0.4444444444444444,
              "#bd3786"
             ],
             [
              0.5555555555555556,
              "#d8576b"
             ],
             [
              0.6666666666666666,
              "#ed7953"
             ],
             [
              0.7777777777777778,
              "#fb9f3a"
             ],
             [
              0.8888888888888888,
              "#fdca26"
             ],
             [
              1,
              "#f0f921"
             ]
            ],
            "type": "histogram2dcontour"
           }
          ],
          "mesh3d": [
           {
            "colorbar": {
             "outlinewidth": 0,
             "ticks": ""
            },
            "type": "mesh3d"
           }
          ],
          "parcoords": [
           {
            "line": {
             "colorbar": {
              "outlinewidth": 0,
              "ticks": ""
             }
            },
            "type": "parcoords"
           }
          ],
          "pie": [
           {
            "automargin": true,
            "type": "pie"
           }
          ],
          "scatter": [
           {
            "fillpattern": {
             "fillmode": "overlay",
             "size": 10,
             "solidity": 0.2
            },
            "type": "scatter"
           }
          ],
          "scatter3d": [
           {
            "line": {
             "colorbar": {
              "outlinewidth": 0,
              "ticks": ""
             }
            },
            "marker": {
             "colorbar": {
              "outlinewidth": 0,
              "ticks": ""
             }
            },
            "type": "scatter3d"
           }
          ],
          "scattercarpet": [
           {
            "marker": {
             "colorbar": {
              "outlinewidth": 0,
              "ticks": ""
             }
            },
            "type": "scattercarpet"
           }
          ],
          "scattergeo": [
           {
            "marker": {
             "colorbar": {
              "outlinewidth": 0,
              "ticks": ""
             }
            },
            "type": "scattergeo"
           }
          ],
          "scattergl": [
           {
            "marker": {
             "colorbar": {
              "outlinewidth": 0,
              "ticks": ""
             }
            },
            "type": "scattergl"
           }
          ],
          "scattermapbox": [
           {
            "marker": {
             "colorbar": {
              "outlinewidth": 0,
              "ticks": ""
             }
            },
            "type": "scattermapbox"
           }
          ],
          "scatterpolar": [
           {
            "marker": {
             "colorbar": {
              "outlinewidth": 0,
              "ticks": ""
             }
            },
            "type": "scatterpolar"
           }
          ],
          "scatterpolargl": [
           {
            "marker": {
             "colorbar": {
              "outlinewidth": 0,
              "ticks": ""
             }
            },
            "type": "scatterpolargl"
           }
          ],
          "scatterternary": [
           {
            "marker": {
             "colorbar": {
              "outlinewidth": 0,
              "ticks": ""
             }
            },
            "type": "scatterternary"
           }
          ],
          "surface": [
           {
            "colorbar": {
             "outlinewidth": 0,
             "ticks": ""
            },
            "colorscale": [
             [
              0,
              "#0d0887"
             ],
             [
              0.1111111111111111,
              "#46039f"
             ],
             [
              0.2222222222222222,
              "#7201a8"
             ],
             [
              0.3333333333333333,
              "#9c179e"
             ],
             [
              0.4444444444444444,
              "#bd3786"
             ],
             [
              0.5555555555555556,
              "#d8576b"
             ],
             [
              0.6666666666666666,
              "#ed7953"
             ],
             [
              0.7777777777777778,
              "#fb9f3a"
             ],
             [
              0.8888888888888888,
              "#fdca26"
             ],
             [
              1,
              "#f0f921"
             ]
            ],
            "type": "surface"
           }
          ],
          "table": [
           {
            "cells": {
             "fill": {
              "color": "#EBF0F8"
             },
             "line": {
              "color": "white"
             }
            },
            "header": {
             "fill": {
              "color": "#C8D4E3"
             },
             "line": {
              "color": "white"
             }
            },
            "type": "table"
           }
          ]
         },
         "layout": {
          "annotationdefaults": {
           "arrowcolor": "#2a3f5f",
           "arrowhead": 0,
           "arrowwidth": 1
          },
          "autotypenumbers": "strict",
          "coloraxis": {
           "colorbar": {
            "outlinewidth": 0,
            "ticks": ""
           }
          },
          "colorscale": {
           "diverging": [
            [
             0,
             "#8e0152"
            ],
            [
             0.1,
             "#c51b7d"
            ],
            [
             0.2,
             "#de77ae"
            ],
            [
             0.3,
             "#f1b6da"
            ],
            [
             0.4,
             "#fde0ef"
            ],
            [
             0.5,
             "#f7f7f7"
            ],
            [
             0.6,
             "#e6f5d0"
            ],
            [
             0.7,
             "#b8e186"
            ],
            [
             0.8,
             "#7fbc41"
            ],
            [
             0.9,
             "#4d9221"
            ],
            [
             1,
             "#276419"
            ]
           ],
           "sequential": [
            [
             0,
             "#0d0887"
            ],
            [
             0.1111111111111111,
             "#46039f"
            ],
            [
             0.2222222222222222,
             "#7201a8"
            ],
            [
             0.3333333333333333,
             "#9c179e"
            ],
            [
             0.4444444444444444,
             "#bd3786"
            ],
            [
             0.5555555555555556,
             "#d8576b"
            ],
            [
             0.6666666666666666,
             "#ed7953"
            ],
            [
             0.7777777777777778,
             "#fb9f3a"
            ],
            [
             0.8888888888888888,
             "#fdca26"
            ],
            [
             1,
             "#f0f921"
            ]
           ],
           "sequentialminus": [
            [
             0,
             "#0d0887"
            ],
            [
             0.1111111111111111,
             "#46039f"
            ],
            [
             0.2222222222222222,
             "#7201a8"
            ],
            [
             0.3333333333333333,
             "#9c179e"
            ],
            [
             0.4444444444444444,
             "#bd3786"
            ],
            [
             0.5555555555555556,
             "#d8576b"
            ],
            [
             0.6666666666666666,
             "#ed7953"
            ],
            [
             0.7777777777777778,
             "#fb9f3a"
            ],
            [
             0.8888888888888888,
             "#fdca26"
            ],
            [
             1,
             "#f0f921"
            ]
           ]
          },
          "colorway": [
           "#636efa",
           "#EF553B",
           "#00cc96",
           "#ab63fa",
           "#FFA15A",
           "#19d3f3",
           "#FF6692",
           "#B6E880",
           "#FF97FF",
           "#FECB52"
          ],
          "font": {
           "color": "#2a3f5f"
          },
          "geo": {
           "bgcolor": "white",
           "lakecolor": "white",
           "landcolor": "#E5ECF6",
           "showlakes": true,
           "showland": true,
           "subunitcolor": "white"
          },
          "hoverlabel": {
           "align": "left"
          },
          "hovermode": "closest",
          "mapbox": {
           "style": "light"
          },
          "paper_bgcolor": "white",
          "plot_bgcolor": "#E5ECF6",
          "polar": {
           "angularaxis": {
            "gridcolor": "white",
            "linecolor": "white",
            "ticks": ""
           },
           "bgcolor": "#E5ECF6",
           "radialaxis": {
            "gridcolor": "white",
            "linecolor": "white",
            "ticks": ""
           }
          },
          "scene": {
           "xaxis": {
            "backgroundcolor": "#E5ECF6",
            "gridcolor": "white",
            "gridwidth": 2,
            "linecolor": "white",
            "showbackground": true,
            "ticks": "",
            "zerolinecolor": "white"
           },
           "yaxis": {
            "backgroundcolor": "#E5ECF6",
            "gridcolor": "white",
            "gridwidth": 2,
            "linecolor": "white",
            "showbackground": true,
            "ticks": "",
            "zerolinecolor": "white"
           },
           "zaxis": {
            "backgroundcolor": "#E5ECF6",
            "gridcolor": "white",
            "gridwidth": 2,
            "linecolor": "white",
            "showbackground": true,
            "ticks": "",
            "zerolinecolor": "white"
           }
          },
          "shapedefaults": {
           "line": {
            "color": "#2a3f5f"
           }
          },
          "ternary": {
           "aaxis": {
            "gridcolor": "white",
            "linecolor": "white",
            "ticks": ""
           },
           "baxis": {
            "gridcolor": "white",
            "linecolor": "white",
            "ticks": ""
           },
           "bgcolor": "#E5ECF6",
           "caxis": {
            "gridcolor": "white",
            "linecolor": "white",
            "ticks": ""
           }
          },
          "title": {
           "x": 0.05
          },
          "xaxis": {
           "automargin": true,
           "gridcolor": "white",
           "linecolor": "white",
           "ticks": "",
           "title": {
            "standoff": 15
           },
           "zerolinecolor": "white",
           "zerolinewidth": 2
          },
          "yaxis": {
           "automargin": true,
           "gridcolor": "white",
           "linecolor": "white",
           "ticks": "",
           "title": {
            "standoff": 15
           },
           "zerolinecolor": "white",
           "zerolinewidth": 2
          }
         }
        },
        "title": {
         "text": "Comparison between original open price vs predicted open price"
        },
        "xaxis": {
         "anchor": "y",
         "domain": [
          0,
          1
         ],
         "title": {
          "text": "Date"
         }
        },
        "yaxis": {
         "anchor": "x",
         "domain": [
          0,
          1
         ],
         "title": {
          "text": "Price"
         }
        }
       }
      }
     },
     "metadata": {},
     "output_type": "display_data"
    }
   ],
   "source": [
    "import plotly.express as px\n",
    "# Filter the dates\n",
    "start_date = '2023-06-13'\n",
    "df_filtered = df[df['Date'] >= start_date]\n",
    "dates_col = df_filtered['Date'].values\n",
    "\n",
    "# Flatten the arrays\n",
    "testY_flat = testYInv.flatten()\n",
    "testPredict_flat = testPredictInv.flatten()\n",
    "\n",
    "# Create a DataFrame that contains the necessary data\n",
    "df_plot = pd.DataFrame({\n",
    "    'Date': dates_col,\n",
    "    'Actual Open Price': testY_flat,\n",
    "    'Predicted Open Price': testPredict_flat\n",
    "})\n",
    "\n",
    "# Melt the DataFrame to have 'Actual Open Price' and 'Predicted Open Price' in the same column\n",
    "df_plot_melt = df_plot.melt(id_vars='Date', value_vars=['Actual Open Price', 'Predicted Open Price'], var_name='Type', value_name='Price')\n",
    "\n",
    "# Create the line plots\n",
    "fig = px.line(df_plot_melt, x='Date', y='Price', color='Type', \n",
    "              color_discrete_map={'Actual Open Price':'green', 'Predicted Open Price':'red'})\n",
    "\n",
    "fig.update_layout(title_text='Comparison between original open price vs predicted open price',\n",
    "                  plot_bgcolor='white', font_size=13, font_color='black', legend_title_text='Open Price')\n",
    "\n",
    "# Show the plot\n",
    "fig.show()"
   ]
  },
  {
   "cell_type": "code",
   "execution_count": 17,
   "metadata": {},
   "outputs": [
    {
     "name": "stdout",
     "output_type": "stream",
     "text": [
      "136\n",
      "136\n",
      "136\n",
      "          dates    Actual_Open_price     Predicted_Open_price\n",
      "0    2023-06-13           397.950012               395.916870\n",
      "1    2023-06-14           396.299988               393.775665\n",
      "2    2023-06-15           397.100006               392.981628\n",
      "3    2023-06-16           385.549988               392.453827\n",
      "4    2023-06-19           382.000000               390.580109\n",
      "5    2023-06-20           381.799988               385.303802\n",
      "6    2023-06-21           384.250000               379.057220\n",
      "7    2023-06-22           386.000000               378.173523\n",
      "8    2023-06-23           382.299988               380.366150\n",
      "9    2023-06-26           380.000000               380.943542\n",
      "10   2023-06-27           384.250000               378.817505\n",
      "11   2023-06-28           383.750000               376.587952\n",
      "12   2023-06-30           385.000000               376.407288\n",
      "13   2023-07-03           393.899994               377.556335\n",
      "14   2023-07-04           393.750000               381.430115\n",
      "15   2023-07-05           394.100006               386.206116\n",
      "16   2023-07-06           394.500000               389.662598\n",
      "17   2023-07-07           395.000000               391.441437\n",
      "18   2023-07-10           395.850006               390.880188\n",
      "19   2023-07-11           390.000000               391.463806\n",
      "20   2023-07-12           393.899994               390.287598\n",
      "21   2023-07-13           391.850006               388.037018\n",
      "22   2023-07-14           394.750000               388.233521\n",
      "23   2023-07-17           407.000000               389.810455\n",
      "24   2023-07-18           418.000000               394.152008\n",
      "25   2023-07-19           420.000000               401.358368\n",
      "26   2023-07-20           418.500000               411.043915\n",
      "27   2023-07-21           405.000000               410.518219\n",
      "28   2023-07-24           406.299988               409.806091\n",
      "29   2023-07-25           405.500000               408.774536\n",
      "30   2023-07-26           403.500000               401.616882\n",
      "31   2023-07-27           404.000000               399.731476\n",
      "32   2023-07-28           401.049988               398.058838\n",
      "33   2023-07-31           399.750000               398.037476\n",
      "34   2023-08-01           405.500000               397.237885\n",
      "35   2023-08-02           405.899994               397.333679\n",
      "36   2023-08-03           402.000000               400.121979\n",
      "37   2023-08-04           400.850006               400.366486\n",
      "38   2023-08-07           409.950012               398.141052\n",
      "39   2023-08-08           412.399994               398.949097\n",
      "40   2023-08-09           415.500000               404.539368\n",
      "41   2023-08-10           417.100006               408.226044\n",
      "42   2023-08-11           418.649994               410.992126\n",
      "43   2023-08-14           413.250000               412.167267\n",
      "44   2023-08-16           414.149994               412.246185\n",
      "45   2023-08-17           418.649994               410.553101\n",
      "46   2023-08-18           415.049988               410.564484\n",
      "47   2023-08-21           411.799988               412.259949\n",
      "48   2023-08-22           415.000000               410.864441\n",
      "49   2023-08-23           417.250000               408.598724\n",
      "50   2023-08-24           418.750000               410.362030\n",
      "51   2023-08-25           410.000000               411.034760\n",
      "52   2023-08-28           411.450012               410.133881\n",
      "53   2023-08-29           409.649994               407.938232\n",
      "54   2023-08-30           410.000000               404.774780\n",
      "55   2023-08-31           408.000000               404.539246\n",
      "56   2023-09-01           407.950012               404.400635\n",
      "57   2023-09-04           418.000000               404.695679\n",
      "58   2023-09-05           435.799988               408.057983\n",
      "59   2023-09-06           433.750000               416.271454\n",
      "60   2023-09-07           429.950012               425.330994\n",
      "61   2023-09-08           433.450012               426.404816\n",
      "62   2023-09-11           433.000000               424.831818\n",
      "63   2023-09-12           437.100006               425.471619\n",
      "64   2023-09-13           434.950012               426.394012\n",
      "65   2023-09-14           438.399994               428.458893\n",
      "66   2023-09-15           439.799988               429.081970\n",
      "67   2023-09-18           441.049988               430.700806\n",
      "68   2023-09-20           434.250000               432.823242\n",
      "69   2023-09-21           429.899994               432.548218\n",
      "70   2023-09-22           424.399994               428.640503\n",
      "71   2023-09-25           418.500000               424.075348\n",
      "72   2023-09-26           416.799988               419.410583\n",
      "73   2023-09-27           412.250000               413.464203\n",
      "74   2023-09-28           416.500000               409.991699\n",
      "75   2023-09-29           405.000000               408.944550\n",
      "76   2023-10-03           406.450012               407.497223\n",
      "77   2023-10-04           402.700012               403.274048\n",
      "78   2023-10-05           407.950012               401.301849\n",
      "79   2023-10-06           408.000000               401.100464\n",
      "80   2023-10-09           404.200012               401.131317\n",
      "81   2023-10-10           406.399994               403.219452\n",
      "82   2023-10-11           409.000000               403.271149\n",
      "83   2023-10-12           421.750000               403.896637\n",
      "84   2023-10-13           411.899994               407.686951\n",
      "85   2023-10-16           411.000000               412.867889\n",
      "86   2023-10-17           411.700012               410.507355\n",
      "87   2023-10-18           409.000000               406.569733\n",
      "88   2023-10-19           391.950012               406.054413\n",
      "89   2023-10-20           395.049988               404.309784\n",
      "90   2023-10-23           390.850006               397.498016\n",
      "91   2023-10-25           384.399994               387.434296\n",
      "92   2023-10-26           378.799988               386.431976\n",
      "93   2023-10-27           379.049988               381.214966\n",
      "94   2023-10-30           384.000000               378.515411\n",
      "95   2023-10-31           383.200012               376.424805\n",
      "96   2023-11-01           383.850006               378.720062\n",
      "97   2023-11-02           383.799988               378.764191\n",
      "98   2023-11-03           386.000000               378.700439\n",
      "99   2023-11-06           386.000000               379.473358\n",
      "100  2023-11-07           384.899994               380.555389\n",
      "101  2023-11-08           384.600006               381.019287\n",
      "102  2023-11-09           383.000000               381.085510\n",
      "103  2023-11-10           380.299988               380.433533\n",
      "104  2023-11-13           382.600006               379.135529\n",
      "105  2023-11-15           385.549988               377.690155\n",
      "106  2023-11-16           391.649994               377.833679\n",
      "107  2023-11-17           398.000000               382.224121\n",
      "108  2023-11-20           393.200012               388.669525\n",
      "109  2023-11-21           402.600006               392.348145\n",
      "110  2023-11-22           402.500000               393.588074\n",
      "111  2023-11-23           400.500000               395.445435\n",
      "112  2023-11-24           402.500000               397.105804\n",
      "113  2023-11-28           397.000000               397.095245\n",
      "114  2023-11-29           398.000000               396.753906\n",
      "115  2023-11-30           406.950012               394.600830\n",
      "116  2023-12-01           413.750000               396.734375\n",
      "117  2023-12-04           412.700012               403.029114\n",
      "118  2023-12-05           407.399994               405.894073\n",
      "119  2023-12-06           406.750000               404.577209\n",
      "120  2023-12-07           420.000000               404.479919\n",
      "121  2023-12-08           418.799988               405.688354\n",
      "122  2023-12-11           420.000000               412.451263\n",
      "123  2023-12-12           420.700012               414.809113\n",
      "124  2023-12-13           423.549988               415.965546\n",
      "125  2023-12-14           423.500000               416.094696\n",
      "126  2023-12-15           436.049988               418.181580\n",
      "127  2023-12-18           446.000000               421.269440\n",
      "128  2023-12-19           445.600006               431.628235\n",
      "129  2023-12-20           442.000000               438.003662\n",
      "130  2023-12-21           428.899994               437.571747\n",
      "131  2023-12-22           435.299988               432.657318\n",
      "132  2023-12-26           454.000000               431.867859\n",
      "133  2023-12-27           468.500000               437.757080\n",
      "134  2023-12-28           472.549988               453.036713\n",
      "135  2023-12-29           470.950012               458.922791\n"
     ]
    }
   ],
   "source": [
    "testyinvflat=testYInv.flatten()\n",
    "\n",
    "print(len(testyinvflat))\n",
    "print(len(testPredictInv))\n",
    "start_date = '2023-06-13'\n",
    "df_filtered = df[df['Date'] >= start_date]\n",
    "dates_col = df_filtered['Date'].values\n",
    "print(len(dates_col))\n",
    "# Create a DataFrame with actual and predicted values\n",
    "df_result = pd.DataFrame({\n",
    "    'dates': dates_col,\n",
    "    '  Actual_Open_price': testyinvflat,\n",
    "    '   Predicted_Open_price': testPredictInv.flatten()\n",
    "})\n",
    "pd.set_option('display.max_rows', None)#so full table gets displayed instead of truncated\n",
    "print(df_result)"
   ]
  }
 ],
 "metadata": {
  "kernelspec": {
   "display_name": "Python 3",
   "language": "python",
   "name": "python3"
  },
  "language_info": {
   "codemirror_mode": {
    "name": "ipython",
    "version": 3
   },
   "file_extension": ".py",
   "mimetype": "text/x-python",
   "name": "python",
   "nbconvert_exporter": "python",
   "pygments_lexer": "ipython3",
   "version": "3.12.0"
  }
 },
 "nbformat": 4,
 "nbformat_minor": 2
}
