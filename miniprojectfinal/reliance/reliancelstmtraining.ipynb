{
 "cells": [
  {
   "cell_type": "markdown",
   "metadata": {},
   "source": [
    "## Step 3: Training on the merged dataset\n",
    "\n",
    "**Objectives**\n",
    "\n",
    "- 4.1. Importing the dataset\n",
    "- 4.2. Creating a function to preprocess the dataset\n",
    "- 4.3. Preproccessing the dataset for LSTM\n",
    "- 4.4. Building the LSTM model\n",
    "- 4.5. Testing the model\n"
   ]
  },
  {
   "cell_type": "code",
   "execution_count": 2,
   "metadata": {},
   "outputs": [],
   "source": [
    "import pandas as pd\n",
    "import numpy as np\n",
    "from sklearn.preprocessing import MinMaxScaler\n",
    "from sklearn.metrics import mean_squared_error\n",
    "import matplotlib.pyplot as plt"
   ]
  },
  {
   "cell_type": "markdown",
   "metadata": {},
   "source": [
    "### 4.1. Importing the dataset\n"
   ]
  },
  {
   "cell_type": "code",
   "execution_count": 25,
   "metadata": {},
   "outputs": [],
   "source": [
    "#csvFilePath = 'reliance_merged.csv'\n",
    "df = pd.read_csv('reliance_merged.csv')\n"
   ]
  },
  {
   "cell_type": "markdown",
   "metadata": {},
   "source": [
    "### 4.2. Creating a function to preprocess the dataset\n",
    "\n",
    "The `createDataset` function is designed to prepare data for training a time-series prediction model. It takes the input features (`dataset`), the target variable (`target`), and an optional parameter `lookBack`, which determines how many past time steps the model should consider. The function then iterates through the dataset, creating pairs of input sequences (`dataX`) and corresponding target values (`dataY`). For each iteration, a window of time steps equal to `lookBack` is taken from the dataset, and this window becomes a sequence in `dataX`. The target value corresponding to the last time step in the window is added to `dataY`. The function returns two arrays suitable for training a model, where each row in `dataX` represents a sequence of past observations, and the corresponding element in `dataY` is the target value to be predicted. This kind of dataset preparation is particularly useful for training models like Long Short-Term Memory (LSTM) networks, which can capture temporal dependencies in sequential data.\n"
   ]
  },
  {
   "cell_type": "markdown",
   "metadata": {},
   "source": [
    "Absolutely! Let's walk through the first 3 iterations of the `createDataset` function with the provided information:\n",
    "\n",
    "**Inputs:**\n",
    "\n",
    "- `dataset`: List containing closing prices (assuming these are the values you provided):\n",
    "  ```\n",
    "  dataset = [633.47, 633.5, 632.5, 642.5, 650, 647.5, 650.5, 639.95, 645]\n",
    "  ```\n",
    "- `target`: Same list as `dataset` (assuming target values are also closing prices on the next day).\n",
    "- `lookBack`: We'll use 3 (considering past 3 opening prices for prediction).\n",
    "\n",
    "**Iteration 1 (i=0):**\n",
    "\n",
    "- `a = dataset[0:(0 + 3), :]`: This takes the first 3 elements from `dataset`: `a = [633.47, 633.5, 632.5]`.\n",
    "- `dataX.append(a)`: Adds this past data chunk to `dataX`: `dataX = [[633.47, 633.5, 632.5]]`.\n",
    "- `dataY.append(target[0 + 3])`: Retrieves the target value (4th element): `dataY.append(642.5)`.\n",
    "\n",
    "**Iteration 2 (i=1):**\n",
    "\n",
    "- `a = dataset[1:(1 + 3), :]`: Takes elements from index 1 to 3 (exclusive): `a = [633.5, 632.5, 642.5]`.\n",
    "- `dataX.append(a)`: Adds this past data chunk to `dataX`: `dataX = [[633.47, 633.5, 632.5], [633.5, 632.5, 642.5]]`.\n",
    "- `dataY.append(target[1 + 3])`: Retrieves the target value (5th element): `dataY.append(650)`.\n",
    "\n",
    "**Iteration 3 (i=2):**\n",
    "\n",
    "- `a = dataset[2:(2 + 3), :]`: Takes elements from index 2 to 4 (exclusive): `a = [632.5, 642.5, 650]`.\n",
    "- `dataX.append(a)`: Adds this past data chunk to `dataX`: `dataX = [[633.47, 633.5, 632.5], [633.5, 632.5, 642.5], [632.5, 642.5, 650]]`.\n",
    "- `dataY.append(target[2 + 3])`: Retrieves the target value (6th element): `dataY.append(647.5)`.\n",
    "\n",
    "**After 3 Iterations:**\n",
    "\n",
    "- `dataX`: List of lists containing past data chunks:\n",
    "  ```\n",
    "  dataX = [[633.47, 633.5, 632.5], [633.5, 632.5, 642.5], [632.5, 642.5, 650]]\n",
    "  ```\n",
    "- `dataY`: Single list containing target values (closing prices on the next day) corresponding to each chunk in `dataX`:\n",
    "  ```\n",
    "  dataY = [642.5, 650, 647.5]\n",
    "  ```\n",
    "\n",
    "**Note:** The loop would continue for all remaining elements in `dataset` following the same pattern. However, keep in mind that since `len(dataset)` (2714) is much larger than `lookBack` (3), the loop will iterate 2714 - 3 = 2711 times to create all the data chunks and target pairs.\n"
   ]
  },
  {
   "cell_type": "code",
   "execution_count": 26,
   "metadata": {},
   "outputs": [],
   "source": [
    "def createDataset(dataset, target, lookBack=1):\n",
    "    dataX, dataY = [], [] #datax with past values and datay with values to be predicted\n",
    "    for i in range(len(dataset) - lookBack):\n",
    "        a = dataset[i:(i + lookBack), :]\n",
    "        dataX.append(a)\n",
    "        dataY.append(target[i + lookBack])\n",
    "    return np.array(dataX), np.array(dataY)\n",
    "    \n",
    "#enddef"
   ]
  },
  {
   "cell_type": "markdown",
   "metadata": {},
   "source": [
    "### 4.3. Preproccessing the dataset for LSTM\n",
    "\n",
    "This section prepares data for training a LSTM network. It first extracts the features and the target variable (closing stock prices) from a DataFrame. Then it uses Min-Max scaling to normalize these features and the target variable, ensuring they fall within the range of 0 to 1. It utilizes the `createDataset` function, section 4.2, to structure the data into sequences suitable for training the LSTM model. The sequences represent past observations, and the corresponding targets are the next time step's closing prices to predict. Finally, the dataset gets divided into training and testing sets, and their dimensions are adjusted to fit the LSTM model's input requirements. The resulting `trainX`, `testX`, `trainY`, and `testY` are now ready for training and evaluating the LSTM model's performance in predicting future stock prices based on historical patterns.\n"
   ]
  },
  {
   "cell_type": "code",
   "execution_count": 30,
   "metadata": {},
   "outputs": [
    {
     "data": {
      "text/plain": [
       "\" when you access trainX.shape[0], you're getting the first dimension of the trainX array, which is the number of rows.\\n In the context of machine learning, each row typically represents a \\nseparate sample in your dataset, so trainX.shape[0] is the total number of samples/rows in your trainX dataset\\nlookback is the number of values in the stacked array trainX.shape[2] is the number of features in the dataset\\n\""
      ]
     },
     "execution_count": 30,
     "metadata": {},
     "output_type": "execute_result"
    }
   ],
   "source": [
    "features = df.drop(['Date', 'Open'], axis=1).values#axis =1means col drop this will have all columns except date and Open of all rows in array\n",
    "target = df['Open'].values  #all the open values in an array\n",
    "\n",
    "scalerFeatures = MinMaxScaler(feature_range=(0, 1))# This line creates a MinMaxScaler object.\n",
    "scalerTarget = MinMaxScaler(feature_range=(0, 1))\n",
    "\n",
    "featuresScaled = scalerFeatures.fit_transform(features)\n",
    "targetScaled = scalerTarget.fit_transform(target.reshape(-1, 1))#target.reshape(-1, 1): This reshapes the target variable into a 2D array with one column and as many rows as \n",
    "#necessary The -1 in the reshape function indicates that the number of rows should be inferred based on the length of the target variable.\n",
    "#print(target)\n",
    "'''why we are using reshape(-1,1) for target is because target is a 1d array and MinMaxScaler's fit_transform expects a 2d array \n",
    "by using (-1,1)means that we want numpy to calculate the correct number of rows for a new array that has exactly one column.\n",
    " The -1 is a placeholder that means \"whatever dimension is needed. it needs to be reshaped into a 2D array before being passed to fit_transform. \n",
    " That's why target.reshape(-1, 1) is used'''\n",
    "#print(featuresScaled[:5])\n",
    "\n",
    "lookBack = 5\n",
    "X, y = createDataset(featuresScaled, targetScaled, lookBack)\n",
    "\n",
    "\n",
    "trainSize = int(len(X) * 0.95) # len(X)is 2710 now its 90% training and 5% testing\n",
    "testSize = len(X) - trainSize\n",
    "trainX, testX = X[0:trainSize, :], X[trainSize:len(X), :]\n",
    "trainY, testY = y[0:trainSize], y[trainSize:len(y)]\n",
    "\n",
    "trainX = np.reshape(trainX, (trainX.shape[0], lookBack, trainX.shape[2]))#this is reshaping the trainX,trainY from 2d to 3d array\n",
    "testX = np.reshape(testX, (testX.shape[0], lookBack, testX.shape[2]))\n",
    "#trainX.shape[0] is the number of rows in the trainX array, lookBack is the number of columns, and trainX.shape[2] is the number of features in the dataset.\n",
    "''' when you access trainX.shape[0], you're getting the first dimension of the trainX array, which is the number of rows.\n",
    " In the context of machine learning, each row typically represents a \n",
    "separate sample in your dataset, so trainX.shape[0] is the total number of samples/rows in your trainX dataset\n",
    "lookback is the number of values in the stacked array trainX.shape[2] is the number of features in the dataset\n",
    "'''\n"
   ]
  },
  {
   "cell_type": "code",
   "execution_count": 28,
   "metadata": {},
   "outputs": [
    {
     "name": "stdout",
     "output_type": "stream",
     "text": [
      "(2706, 7, 9)\n"
     ]
    }
   ],
   "source": [
    "X_combined = np.concatenate((trainX,testX), axis=0)\n",
    "print(X_combined.shape)"
   ]
  },
  {
   "cell_type": "markdown",
   "metadata": {},
   "source": [
    "### 4.4. Building the LSTM model\n"
   ]
  },
  {
   "cell_type": "code",
   "execution_count": 32,
   "metadata": {},
   "outputs": [
    {
     "data": {
      "text/html": [
       "<pre style=\"white-space:pre;overflow-x:auto;line-height:normal;font-family:Menlo,'DejaVu Sans Mono',consolas,'Courier New',monospace\"><span style=\"font-weight: bold\">Model: \"sequential_6\"</span>\n",
       "</pre>\n"
      ],
      "text/plain": [
       "\u001b[1mModel: \"sequential_6\"\u001b[0m\n"
      ]
     },
     "metadata": {},
     "output_type": "display_data"
    },
    {
     "data": {
      "text/html": [
       "<pre style=\"white-space:pre;overflow-x:auto;line-height:normal;font-family:Menlo,'DejaVu Sans Mono',consolas,'Courier New',monospace\">┏━━━━━━━━━━━━━━━━━━━━━━━━━━━━━━━━━┳━━━━━━━━━━━━━━━━━━━━━━━━┳━━━━━━━━━━━━━━━┓\n",
       "┃<span style=\"font-weight: bold\"> Layer (type)                    </span>┃<span style=\"font-weight: bold\"> Output Shape           </span>┃<span style=\"font-weight: bold\">       Param # </span>┃\n",
       "┡━━━━━━━━━━━━━━━━━━━━━━━━━━━━━━━━━╇━━━━━━━━━━━━━━━━━━━━━━━━╇━━━━━━━━━━━━━━━┩\n",
       "│ lstm_24 (<span style=\"color: #0087ff; text-decoration-color: #0087ff\">LSTM</span>)                  │ (<span style=\"color: #00d7ff; text-decoration-color: #00d7ff\">None</span>, <span style=\"color: #00af00; text-decoration-color: #00af00\">5</span>, <span style=\"color: #00af00; text-decoration-color: #00af00\">100</span>)         │        <span style=\"color: #00af00; text-decoration-color: #00af00\">44,000</span> │\n",
       "├─────────────────────────────────┼────────────────────────┼───────────────┤\n",
       "│ dropout_24 (<span style=\"color: #0087ff; text-decoration-color: #0087ff\">Dropout</span>)            │ (<span style=\"color: #00d7ff; text-decoration-color: #00d7ff\">None</span>, <span style=\"color: #00af00; text-decoration-color: #00af00\">5</span>, <span style=\"color: #00af00; text-decoration-color: #00af00\">100</span>)         │             <span style=\"color: #00af00; text-decoration-color: #00af00\">0</span> │\n",
       "├─────────────────────────────────┼────────────────────────┼───────────────┤\n",
       "│ lstm_25 (<span style=\"color: #0087ff; text-decoration-color: #0087ff\">LSTM</span>)                  │ (<span style=\"color: #00d7ff; text-decoration-color: #00d7ff\">None</span>, <span style=\"color: #00af00; text-decoration-color: #00af00\">5</span>, <span style=\"color: #00af00; text-decoration-color: #00af00\">80</span>)          │        <span style=\"color: #00af00; text-decoration-color: #00af00\">57,920</span> │\n",
       "├─────────────────────────────────┼────────────────────────┼───────────────┤\n",
       "│ dropout_25 (<span style=\"color: #0087ff; text-decoration-color: #0087ff\">Dropout</span>)            │ (<span style=\"color: #00d7ff; text-decoration-color: #00d7ff\">None</span>, <span style=\"color: #00af00; text-decoration-color: #00af00\">5</span>, <span style=\"color: #00af00; text-decoration-color: #00af00\">80</span>)          │             <span style=\"color: #00af00; text-decoration-color: #00af00\">0</span> │\n",
       "├─────────────────────────────────┼────────────────────────┼───────────────┤\n",
       "│ lstm_26 (<span style=\"color: #0087ff; text-decoration-color: #0087ff\">LSTM</span>)                  │ (<span style=\"color: #00d7ff; text-decoration-color: #00d7ff\">None</span>, <span style=\"color: #00af00; text-decoration-color: #00af00\">5</span>, <span style=\"color: #00af00; text-decoration-color: #00af00\">50</span>)          │        <span style=\"color: #00af00; text-decoration-color: #00af00\">26,200</span> │\n",
       "├─────────────────────────────────┼────────────────────────┼───────────────┤\n",
       "│ dropout_26 (<span style=\"color: #0087ff; text-decoration-color: #0087ff\">Dropout</span>)            │ (<span style=\"color: #00d7ff; text-decoration-color: #00d7ff\">None</span>, <span style=\"color: #00af00; text-decoration-color: #00af00\">5</span>, <span style=\"color: #00af00; text-decoration-color: #00af00\">50</span>)          │             <span style=\"color: #00af00; text-decoration-color: #00af00\">0</span> │\n",
       "├─────────────────────────────────┼────────────────────────┼───────────────┤\n",
       "│ lstm_27 (<span style=\"color: #0087ff; text-decoration-color: #0087ff\">LSTM</span>)                  │ (<span style=\"color: #00d7ff; text-decoration-color: #00d7ff\">None</span>, <span style=\"color: #00af00; text-decoration-color: #00af00\">30</span>)             │         <span style=\"color: #00af00; text-decoration-color: #00af00\">9,720</span> │\n",
       "├─────────────────────────────────┼────────────────────────┼───────────────┤\n",
       "│ dropout_27 (<span style=\"color: #0087ff; text-decoration-color: #0087ff\">Dropout</span>)            │ (<span style=\"color: #00d7ff; text-decoration-color: #00d7ff\">None</span>, <span style=\"color: #00af00; text-decoration-color: #00af00\">30</span>)             │             <span style=\"color: #00af00; text-decoration-color: #00af00\">0</span> │\n",
       "├─────────────────────────────────┼────────────────────────┼───────────────┤\n",
       "│ dense_6 (<span style=\"color: #0087ff; text-decoration-color: #0087ff\">Dense</span>)                 │ (<span style=\"color: #00d7ff; text-decoration-color: #00d7ff\">None</span>, <span style=\"color: #00af00; text-decoration-color: #00af00\">1</span>)              │            <span style=\"color: #00af00; text-decoration-color: #00af00\">31</span> │\n",
       "└─────────────────────────────────┴────────────────────────┴───────────────┘\n",
       "</pre>\n"
      ],
      "text/plain": [
       "┏━━━━━━━━━━━━━━━━━━━━━━━━━━━━━━━━━┳━━━━━━━━━━━━━━━━━━━━━━━━┳━━━━━━━━━━━━━━━┓\n",
       "┃\u001b[1m \u001b[0m\u001b[1mLayer (type)                   \u001b[0m\u001b[1m \u001b[0m┃\u001b[1m \u001b[0m\u001b[1mOutput Shape          \u001b[0m\u001b[1m \u001b[0m┃\u001b[1m \u001b[0m\u001b[1m      Param #\u001b[0m\u001b[1m \u001b[0m┃\n",
       "┡━━━━━━━━━━━━━━━━━━━━━━━━━━━━━━━━━╇━━━━━━━━━━━━━━━━━━━━━━━━╇━━━━━━━━━━━━━━━┩\n",
       "│ lstm_24 (\u001b[38;5;33mLSTM\u001b[0m)                  │ (\u001b[38;5;45mNone\u001b[0m, \u001b[38;5;34m5\u001b[0m, \u001b[38;5;34m100\u001b[0m)         │        \u001b[38;5;34m44,000\u001b[0m │\n",
       "├─────────────────────────────────┼────────────────────────┼───────────────┤\n",
       "│ dropout_24 (\u001b[38;5;33mDropout\u001b[0m)            │ (\u001b[38;5;45mNone\u001b[0m, \u001b[38;5;34m5\u001b[0m, \u001b[38;5;34m100\u001b[0m)         │             \u001b[38;5;34m0\u001b[0m │\n",
       "├─────────────────────────────────┼────────────────────────┼───────────────┤\n",
       "│ lstm_25 (\u001b[38;5;33mLSTM\u001b[0m)                  │ (\u001b[38;5;45mNone\u001b[0m, \u001b[38;5;34m5\u001b[0m, \u001b[38;5;34m80\u001b[0m)          │        \u001b[38;5;34m57,920\u001b[0m │\n",
       "├─────────────────────────────────┼────────────────────────┼───────────────┤\n",
       "│ dropout_25 (\u001b[38;5;33mDropout\u001b[0m)            │ (\u001b[38;5;45mNone\u001b[0m, \u001b[38;5;34m5\u001b[0m, \u001b[38;5;34m80\u001b[0m)          │             \u001b[38;5;34m0\u001b[0m │\n",
       "├─────────────────────────────────┼────────────────────────┼───────────────┤\n",
       "│ lstm_26 (\u001b[38;5;33mLSTM\u001b[0m)                  │ (\u001b[38;5;45mNone\u001b[0m, \u001b[38;5;34m5\u001b[0m, \u001b[38;5;34m50\u001b[0m)          │        \u001b[38;5;34m26,200\u001b[0m │\n",
       "├─────────────────────────────────┼────────────────────────┼───────────────┤\n",
       "│ dropout_26 (\u001b[38;5;33mDropout\u001b[0m)            │ (\u001b[38;5;45mNone\u001b[0m, \u001b[38;5;34m5\u001b[0m, \u001b[38;5;34m50\u001b[0m)          │             \u001b[38;5;34m0\u001b[0m │\n",
       "├─────────────────────────────────┼────────────────────────┼───────────────┤\n",
       "│ lstm_27 (\u001b[38;5;33mLSTM\u001b[0m)                  │ (\u001b[38;5;45mNone\u001b[0m, \u001b[38;5;34m30\u001b[0m)             │         \u001b[38;5;34m9,720\u001b[0m │\n",
       "├─────────────────────────────────┼────────────────────────┼───────────────┤\n",
       "│ dropout_27 (\u001b[38;5;33mDropout\u001b[0m)            │ (\u001b[38;5;45mNone\u001b[0m, \u001b[38;5;34m30\u001b[0m)             │             \u001b[38;5;34m0\u001b[0m │\n",
       "├─────────────────────────────────┼────────────────────────┼───────────────┤\n",
       "│ dense_6 (\u001b[38;5;33mDense\u001b[0m)                 │ (\u001b[38;5;45mNone\u001b[0m, \u001b[38;5;34m1\u001b[0m)              │            \u001b[38;5;34m31\u001b[0m │\n",
       "└─────────────────────────────────┴────────────────────────┴───────────────┘\n"
      ]
     },
     "metadata": {},
     "output_type": "display_data"
    },
    {
     "data": {
      "text/html": [
       "<pre style=\"white-space:pre;overflow-x:auto;line-height:normal;font-family:Menlo,'DejaVu Sans Mono',consolas,'Courier New',monospace\"><span style=\"font-weight: bold\"> Total params: </span><span style=\"color: #00af00; text-decoration-color: #00af00\">137,871</span> (538.56 KB)\n",
       "</pre>\n"
      ],
      "text/plain": [
       "\u001b[1m Total params: \u001b[0m\u001b[38;5;34m137,871\u001b[0m (538.56 KB)\n"
      ]
     },
     "metadata": {},
     "output_type": "display_data"
    },
    {
     "data": {
      "text/html": [
       "<pre style=\"white-space:pre;overflow-x:auto;line-height:normal;font-family:Menlo,'DejaVu Sans Mono',consolas,'Courier New',monospace\"><span style=\"font-weight: bold\"> Trainable params: </span><span style=\"color: #00af00; text-decoration-color: #00af00\">137,871</span> (538.56 KB)\n",
       "</pre>\n"
      ],
      "text/plain": [
       "\u001b[1m Trainable params: \u001b[0m\u001b[38;5;34m137,871\u001b[0m (538.56 KB)\n"
      ]
     },
     "metadata": {},
     "output_type": "display_data"
    },
    {
     "data": {
      "text/html": [
       "<pre style=\"white-space:pre;overflow-x:auto;line-height:normal;font-family:Menlo,'DejaVu Sans Mono',consolas,'Courier New',monospace\"><span style=\"font-weight: bold\"> Non-trainable params: </span><span style=\"color: #00af00; text-decoration-color: #00af00\">0</span> (0.00 B)\n",
       "</pre>\n"
      ],
      "text/plain": [
       "\u001b[1m Non-trainable params: \u001b[0m\u001b[38;5;34m0\u001b[0m (0.00 B)\n"
      ]
     },
     "metadata": {},
     "output_type": "display_data"
    },
    {
     "name": "stdout",
     "output_type": "stream",
     "text": [
      "Epoch 1/25\n",
      "\u001b[1m69/69\u001b[0m \u001b[32m━━━━━━━━━━━━━━━━━━━━\u001b[0m\u001b[37m\u001b[0m \u001b[1m11s\u001b[0m 41ms/step - loss: 0.0304 - val_loss: 0.0086\n",
      "Epoch 2/25\n",
      "\u001b[1m69/69\u001b[0m \u001b[32m━━━━━━━━━━━━━━━━━━━━\u001b[0m\u001b[37m\u001b[0m \u001b[1m2s\u001b[0m 32ms/step - loss: 0.0025 - val_loss: 9.9260e-04\n",
      "Epoch 3/25\n",
      "\u001b[1m69/69\u001b[0m \u001b[32m━━━━━━━━━━━━━━━━━━━━\u001b[0m\u001b[37m\u001b[0m \u001b[1m2s\u001b[0m 32ms/step - loss: 0.0020 - val_loss: 0.0012\n",
      "Epoch 4/25\n",
      "\u001b[1m69/69\u001b[0m \u001b[32m━━━━━━━━━━━━━━━━━━━━\u001b[0m\u001b[37m\u001b[0m \u001b[1m2s\u001b[0m 31ms/step - loss: 0.0018 - val_loss: 0.0045\n",
      "Epoch 5/25\n",
      "\u001b[1m69/69\u001b[0m \u001b[32m━━━━━━━━━━━━━━━━━━━━\u001b[0m\u001b[37m\u001b[0m \u001b[1m2s\u001b[0m 33ms/step - loss: 0.0018 - val_loss: 0.0040\n",
      "Epoch 6/25\n",
      "\u001b[1m69/69\u001b[0m \u001b[32m━━━━━━━━━━━━━━━━━━━━\u001b[0m\u001b[37m\u001b[0m \u001b[1m2s\u001b[0m 29ms/step - loss: 0.0016 - val_loss: 0.0041\n",
      "Epoch 7/25\n",
      "\u001b[1m69/69\u001b[0m \u001b[32m━━━━━━━━━━━━━━━━━━━━\u001b[0m\u001b[37m\u001b[0m \u001b[1m2s\u001b[0m 31ms/step - loss: 0.0014 - val_loss: 9.3429e-04\n",
      "Epoch 8/25\n",
      "\u001b[1m68/69\u001b[0m \u001b[32m━━━━━━━━━━━━━━━━━━━\u001b[0m\u001b[37m━\u001b[0m \u001b[1m0s\u001b[0m 27ms/step - loss: 0.0016Epoch 8: early stopping as val_loss has reached below baseline\n",
      "\u001b[1m69/69\u001b[0m \u001b[32m━━━━━━━━━━━━━━━━━━━━\u001b[0m\u001b[37m\u001b[0m \u001b[1m2s\u001b[0m 32ms/step - loss: 0.0016 - val_loss: 7.7980e-04\n"
     ]
    },
    {
     "data": {
      "text/plain": [
       "<keras.src.callbacks.history.History at 0x195a7befa10>"
      ]
     },
     "execution_count": 32,
     "metadata": {},
     "output_type": "execute_result"
    }
   ],
   "source": [
    "\n",
    "from keras.models import Sequential\n",
    "from keras.layers import LSTM, Dropout, Dense\n",
    "\n",
    "import tensorflow as tf\n",
    "\n",
    "# Hyperparameters\n",
    "\n",
    "np.random.seed(21)\n",
    "tf.random.set_seed(42)\n",
    "\n",
    "batchSize = 30\n",
    "epoch = 25\n",
    "\n",
    "neurons = [100, 80, 50, 30]  # LSTM units in each layer, matching code1\n",
    "\n",
    "# LSTM architecture\n",
    "model = Sequential()\n",
    "\n",
    "# First LSTM layer with Dropout regularisation\n",
    "model.add(LSTM(units=neurons[0], return_sequences=True, input_shape=(lookBack, features.shape[1])))\n",
    "model.add(Dropout(0.3))\n",
    "\n",
    "# Second LSTM layer with Dropout regularisation\n",
    "model.add(LSTM(units=neurons[1], return_sequences=True))\n",
    "model.add(Dropout(0.1))\n",
    "\n",
    "# Third LSTM layer with Dropout regularisation\n",
    "model.add(LSTM(units=neurons[2], return_sequences=True))\n",
    "model.add(Dropout(0.2))\n",
    "\n",
    "# Fourth LSTM layer with Dropout regularisation\n",
    "model.add(LSTM(units=neurons[3]))\n",
    "model.add(Dropout(0.3))\n",
    "\n",
    "# Output layer\n",
    "model.add(Dense(units=1))\n",
    "model.summary()\n",
    "\n",
    "# Compile the model\n",
    "model.compile(loss='mean_squared_error', optimizer='adam')\n",
    "from keras.callbacks import Callback\n",
    "\n",
    "\n",
    "class CustomEarlyStopping(Callback):\n",
    "    def __init__(self, baseline):\n",
    "        super(CustomEarlyStopping, self).__init__()\n",
    "        self.baseline = baseline\n",
    "\n",
    "    def on_epoch_end(self, epoch, logs=None):\n",
    "        current = logs.get('val_loss')\n",
    "        if np.less(current, self.baseline):\n",
    "            self.model.stop_training = True\n",
    "            print(f\"Epoch {epoch+1}: early stopping as val_loss has reached below baseline\")\n",
    "\n",
    "\n",
    "early_stop = CustomEarlyStopping(baseline=0.00089999)\n",
    "model.fit(trainX, trainY, epochs=epoch, batch_size=batchSize, verbose=1, validation_split=0.2, callbacks=[early_stop])\n",
    "#model.fit(trainX, trainY, epochs=epoch, batch_size=batchSize, verbose=1, validation_split=0.2)\n"
   ]
  },
  {
   "cell_type": "markdown",
   "metadata": {},
   "source": [
    "### 4.5. Testing the model\n",
    "\n",
    "- 4.5.1. Running prediction over the training set and testing set\n",
    "- 4.5.2. Calculating the score and accuracy of the model\n",
    "- 4.5.3. Visualizing the data\n"
   ]
  },
  {
   "cell_type": "markdown",
   "metadata": {},
   "source": [
    "#### 4.5.1. Running prediction over the training set and testing set\n"
   ]
  },
  {
   "cell_type": "code",
   "execution_count": 33,
   "metadata": {},
   "outputs": [
    {
     "name": "stdout",
     "output_type": "stream",
     "text": [
      "\u001b[1m81/81\u001b[0m \u001b[32m━━━━━━━━━━━━━━━━━━━━\u001b[0m\u001b[37m\u001b[0m \u001b[1m4s\u001b[0m 28ms/step\n",
      "\u001b[1m5/5\u001b[0m \u001b[32m━━━━━━━━━━━━━━━━━━━━\u001b[0m\u001b[37m\u001b[0m \u001b[1m0s\u001b[0m 10ms/step\n"
     ]
    },
    {
     "data": {
      "text/plain": [
       "'after this , trainPredictInv, trainYInv, testPredictInv, and testYInv will \\ncontain the predictions and actual values in their original scale,'"
      ]
     },
     "execution_count": 33,
     "metadata": {},
     "output_type": "execute_result"
    }
   ],
   "source": [
    "trainPredict = model.predict(trainX)#predicted values from your model for training data\n",
    "testPredict = model.predict(testX)#predicted values from your model for testing data\n",
    "\n",
    "trainPredictInv = scalerTarget.inverse_transform(trainPredict)#inverse transform to get the original values\n",
    "trainYInv = scalerTarget.inverse_transform(np.reshape(trainY, (trainY.shape[0], 1)))\n",
    "testPredictInv = scalerTarget.inverse_transform(testPredict)\n",
    "testYInv = scalerTarget.inverse_transform(np.reshape(testY, (testY.shape[0], 1)))\n",
    "\n",
    "'''after this , trainPredictInv, trainYInv, testPredictInv, and testYInv will \n",
    "contain the predictions and actual values in their original scale,'''"
   ]
  },
  {
   "cell_type": "markdown",
   "metadata": {},
   "source": [
    "The variables `trainYInv` and `testYInv` contain the original values that your model tried to predict. These are the actual values in their original scale.\n",
    "\n",
    "Here's a brief explanation of what each variable represents:\n",
    "\n",
    "- `trainPredict`: The predicted values from your model for the training data, in the scaled form.\n",
    "- `testPredict`: The predicted values from your model for the test data, in the scaled form.\n",
    "- `trainPredictInv`: The predicted values from your model for the training data, inverse transformed to get the original values.\n",
    "- `testPredictInv`: The predicted values from your model for the test data, inverse transformed to get the original values.\n",
    "- `trainYInv`: The actual values for the training data in their original scale. These are the values that your model tried to predict.\n",
    "- `testYInv`: The actual values for the test data in their original scale. These are the values that your model tried to predict.\n",
    "\n",
    "So, if you want to see the original values that your model tried to predict, you should look at `trainYInv` and `testYInv`.\n"
   ]
  },
  {
   "cell_type": "markdown",
   "metadata": {},
   "source": [
    "#### 4.5.2. Calculating the score and accuracy of the model\n"
   ]
  },
  {
   "cell_type": "code",
   "execution_count": 34,
   "metadata": {},
   "outputs": [
    {
     "name": "stdout",
     "output_type": "stream",
     "text": [
      "Training RMSE: 53.64943288312262\n",
      "Testing RMSE: 72.1234098853212\n",
      "Training Accuracy: 95.15%\n",
      "Testing Accuracy: 97.02%\n"
     ]
    }
   ],
   "source": [
    "trainScore = np.sqrt(mean_squared_error(trainYInv[:, 0], trainPredictInv[:, 0]))\n",
    "print(f'Training RMSE: {trainScore}')\n",
    "testScore = np.sqrt(mean_squared_error(testYInv[:, 0], testPredictInv[:, 0]))\n",
    "print(f'Testing RMSE: {testScore}')\n",
    "trainAccuracy = 100 - (trainScore / np.mean(trainYInv) * 100)\n",
    "testAccuracy = 100 - (testScore / np.mean(testYInv) * 100)\n",
    "print(f'Training Accuracy: {trainAccuracy:.2f}%')\n",
    "print(f'Testing Accuracy: {testAccuracy:.2f}%')"
   ]
  },
  {
   "cell_type": "markdown",
   "metadata": {},
   "source": [
    "#### 4.5.3. Visualizing the data\n",
    "\n",
    "- On the x-axis, the dates are displayed after every 30 days\n",
    "- Test set is appended to the training set to better visualize if the prediction looks good\n"
   ]
  },
  {
   "cell_type": "code",
   "execution_count": 35,
   "metadata": {},
   "outputs": [
    {
     "data": {
      "image/png": "[encoded data removed]",
      "text/plain": [
       "<Figure size 2000x1000 with 1 Axes>"
      ]
     },
     "metadata": {},
     "output_type": "display_data"
    }
   ],
   "source": [
    "dates = df['Date'].values\n",
    "sampleInterval = 60\n",
    "sampledDates = dates[::sampleInterval]\n",
    "\n",
    "plt.figure(figsize=(20, 10))\n",
    "plt.plot(dates[:len(trainY)], trainY, label='Actual Train')\n",
    "plt.plot(dates[:len(trainPredict)], trainPredict, label='Predicted Train')\n",
    "plt.plot(dates[len(trainY):len(trainY) + len(testY)], testY, label='Actual Test')\n",
    "plt.plot(dates[len(trainPredict):len(trainPredict) + len(testPredict)], testPredict, label='Predicted Test')\n",
    "\n",
    "plt.xticks(sampledDates, rotation=90)\n",
    "\n",
    "plt.legend()\n",
    "plt.show()"
   ]
  },
  {
   "cell_type": "code",
   "execution_count": 43,
   "metadata": {},
   "outputs": [
    {
     "name": "stdout",
     "output_type": "stream",
     "text": [
      "136\n",
      "136\n",
      "136\n"
     ]
    },
    {
     "data": {
      "application/vnd.plotly.v1+json": {
       "config": {
        "plotlyServerURL": "https://plot.ly"
       },
       "data": [
        {
         "hovertemplate": "Type=Actual Open Price<br>Date=%{x}<br>Price=%{y}<extra></extra>",
         "legendgroup": "Actual Open Price",
         "line": {
          "color": "green",
          "dash": "solid"
         },
         "marker": {
          "symbol": "circle"
         },
         "mode": "lines",
         "name": "Actual Open Price",
         "orientation": "v",
         "showlegend": true,
         "type": "scatter",
         "x": [
          "2023-06-13",
          "2023-06-14",
          "2023-06-15",
          "2023-06-16",
          "2023-06-19",
          "2023-06-20",
          "2023-06-21",
          "2023-06-22",
          "2023-06-23",
          "2023-06-26",
          "2023-06-27",
          "2023-06-28",
          "2023-06-30",
          "2023-07-03",
          "2023-07-04",
          "2023-07-05",
          "2023-07-06",
          "2023-07-07",
          "2023-07-10",
          "2023-07-11",
          "2023-07-12",
          "2023-07-13",
          "2023-07-14",
          "2023-07-17",
          "2023-07-18",
          "2023-07-19",
          "2023-07-20",
          "2023-07-21",
          "2023-07-24",
          "2023-07-25",
          "2023-07-26",
          "2023-07-27",
          "2023-07-28",
          "2023-07-31",
          "2023-08-01",
          "2023-08-02",
          "2023-08-03",
          "2023-08-04",
          "2023-08-07",
          "2023-08-08",
          "2023-08-09",
          "2023-08-10",
          "2023-08-11",
          "2023-08-14",
          "2023-08-16",
          "2023-08-17",
          "2023-08-18",
          "2023-08-21",
          "2023-08-22",
          "2023-08-23",
          "2023-08-24",
          "2023-08-25",
          "2023-08-28",
          "2023-08-29",
          "2023-08-30",
          "2023-08-31",
          "2023-09-01",
          "2023-09-04",
          "2023-09-05",
          "2023-09-06",
          "2023-09-07",
          "2023-09-08",
          "2023-09-11",
          "2023-09-12",
          "2023-09-13",
          "2023-09-14",
          "2023-09-15",
          "2023-09-18",
          "2023-09-20",
          "2023-09-21",
          "2023-09-22",
          "2023-09-25",
          "2023-09-26",
          "2023-09-27",
          "2023-09-28",
          "2023-09-29",
          "2023-10-03",
          "2023-10-04",
          "2023-10-05",
          "2023-10-06",
          "2023-10-09",
          "2023-10-10",
          "2023-10-11",
          "2023-10-12",
          "2023-10-13",
          "2023-10-16",
          "2023-10-17",
          "2023-10-18",
          "2023-10-19",
          "2023-10-20",
          "2023-10-23",
          "2023-10-25",
          "2023-10-26",
          "2023-10-27",
          "2023-10-30",
          "2023-10-31",
          "2023-11-01",
          "2023-11-02",
          "2023-11-03",
          "2023-11-06",
          "2023-11-07",
          "2023-11-08",
          "2023-11-09",
          "2023-11-10",
          "2023-11-13",
          "2023-11-15",
          "2023-11-16",
          "2023-11-17",
          "2023-11-20",
          "2023-11-21",
          "2023-11-22",
          "2023-11-23",
          "2023-11-24",
          "2023-11-28",
          "2023-11-29",
          "2023-11-30",
          "2023-12-01",
          "2023-12-04",
          "2023-12-05",
          "2023-12-06",
          "2023-12-07",
          "2023-12-08",
          "2023-12-11",
          "2023-12-12",
          "2023-12-13",
          "2023-12-14",
          "2023-12-15",
          "2023-12-18",
          "2023-12-19",
          "2023-12-20",
          "2023-12-21",
          "2023-12-22",
          "2023-12-26",
          "2023-12-27",
          "2023-12-28",
          "2023-12-29"
         ],
         "xaxis": "x",
         "y": [
          2302.88427734375,
          2326.882080078125,
          2355.310546875,
          2363.063720703125,
          2385.03125,
          2351.387939453125,
          2360.110107421875,
          2359.187255859375,
          2334.173828125,
          2313.960205078125,
          2304.31494140625,
          2319.498291015625,
          2350.326416015625,
          2361.079345703125,
          2422.874267578125,
          2408.106201171875,
          2377.693359375,
          2432.104248046875,
          2481.853759765625,
          2540.9257812500005,
          2553.2939453125,
          2569.538818359375,
          2538.2490234375,
          2535.480224609375,
          2600.090087890625,
          2612.089111328125,
          2579.9999999999995,
          2609,
          2481,
          2494,
          2485,
          2534.050048828125,
          2512.050048828125,
          2527.85009765625,
          2555,
          2509.199951171875,
          2475.300048828125,
          2498.800048828125,
          2520.9999999999995,
          2528,
          2504.85009765625,
          2524.949951171875,
          2532.449951171875,
          2539,
          2551,
          2567.10009765625,
          2531.2499999999995,
          2539.949951171875,
          2516.8999023437495,
          2524.199951171875,
          2539.89990234375,
          2455.9999999999995,
          2472,
          2452.050048828125,
          2432.0000000000005,
          2423,
          2406.550048828125,
          2412.64990234375,
          2420,
          2421.10009765625,
          2421.699951171875,
          2440,
          2452,
          2483,
          2440,
          2460,
          2468,
          2440.050048828125,
          2423.050048828125,
          2374.949951171875,
          2376,
          2350.39990234375,
          2338.550048828125,
          2343.5,
          2383,
          2341.800048828125,
          2329.949951171875,
          2309,
          2319.25,
          2317.050048828125,
          2308.10009765625,
          2306.550048828125,
          2314.449951171875,
          2343.85009765625,
          2340,
          2345,
          2356,
          2355.25,
          2312,
          2300,
          2290,
          2250.050048828125,
          2251,
          2240,
          2274,
          2328,
          2289.14990234375,
          2313.949951171875,
          2327.199951171875,
          2332.300048828125,
          2334.050048828125,
          2331.9999999999995,
          2335.85009765625,
          2305.550048828125,
          2322.89990234375,
          2340,
          2351.10009765625,
          2352.89990234375,
          2348.550048828125,
          2366,
          2375,
          2388.199951171875,
          2391.60009765625,
          2393.89990234375,
          2408,
          2394.699951171875,
          2378,
          2449.9999999999995,
          2439,
          2447.10009765625,
          2460,
          2463.85009765625,
          2455.9999999999995,
          2460,
          2422,
          2454,
          2478,
          2495.60009765625,
          2555,
          2571.050048828125,
          2526.9999999999995,
          2559.60009765625,
          2568.0000000000005,
          2582,
          2589.800048828125,
          2611.10009765625
         ],
         "yaxis": "y"
        },
        {
         "hovertemplate": "Type=Predicted Open Price<br>Date=%{x}<br>Price=%{y}<extra></extra>",
         "legendgroup": "Predicted Open Price",
         "line": {
          "color": "red",
          "dash": "solid"
         },
         "marker": {
          "symbol": "circle"
         },
         "mode": "lines",
         "name": "Predicted Open Price",
         "orientation": "v",
         "showlegend": true,
         "type": "scatter",
         "x": [
          "2023-06-13",
          "2023-06-14",
          "2023-06-15",
          "2023-06-16",
          "2023-06-19",
          "2023-06-20",
          "2023-06-21",
          "2023-06-22",
          "2023-06-23",
          "2023-06-26",
          "2023-06-27",
          "2023-06-28",
          "2023-06-30",
          "2023-07-03",
          "2023-07-04",
          "2023-07-05",
          "2023-07-06",
          "2023-07-07",
          "2023-07-10",
          "2023-07-11",
          "2023-07-12",
          "2023-07-13",
          "2023-07-14",
          "2023-07-17",
          "2023-07-18",
          "2023-07-19",
          "2023-07-20",
          "2023-07-21",
          "2023-07-24",
          "2023-07-25",
          "2023-07-26",
          "2023-07-27",
          "2023-07-28",
          "2023-07-31",
          "2023-08-01",
          "2023-08-02",
          "2023-08-03",
          "2023-08-04",
          "2023-08-07",
          "2023-08-08",
          "2023-08-09",
          "2023-08-10",
          "2023-08-11",
          "2023-08-14",
          "2023-08-16",
          "2023-08-17",
          "2023-08-18",
          "2023-08-21",
          "2023-08-22",
          "2023-08-23",
          "2023-08-24",
          "2023-08-25",
          "2023-08-28",
          "2023-08-29",
          "2023-08-30",
          "2023-08-31",
          "2023-09-01",
          "2023-09-04",
          "2023-09-05",
          "2023-09-06",
          "2023-09-07",
          "2023-09-08",
          "2023-09-11",
          "2023-09-12",
          "2023-09-13",
          "2023-09-14",
          "2023-09-15",
          "2023-09-18",
          "2023-09-20",
          "2023-09-21",
          "2023-09-22",
          "2023-09-25",
          "2023-09-26",
          "2023-09-27",
          "2023-09-28",
          "2023-09-29",
          "2023-10-03",
          "2023-10-04",
          "2023-10-05",
          "2023-10-06",
          "2023-10-09",
          "2023-10-10",
          "2023-10-11",
          "2023-10-12",
          "2023-10-13",
          "2023-10-16",
          "2023-10-17",
          "2023-10-18",
          "2023-10-19",
          "2023-10-20",
          "2023-10-23",
          "2023-10-25",
          "2023-10-26",
          "2023-10-27",
          "2023-10-30",
          "2023-10-31",
          "2023-11-01",
          "2023-11-02",
          "2023-11-03",
          "2023-11-06",
          "2023-11-07",
          "2023-11-08",
          "2023-11-09",
          "2023-11-10",
          "2023-11-13",
          "2023-11-15",
          "2023-11-16",
          "2023-11-17",
          "2023-11-20",
          "2023-11-21",
          "2023-11-22",
          "2023-11-23",
          "2023-11-24",
          "2023-11-28",
          "2023-11-29",
          "2023-11-30",
          "2023-12-01",
          "2023-12-04",
          "2023-12-05",
          "2023-12-06",
          "2023-12-07",
          "2023-12-08",
          "2023-12-11",
          "2023-12-12",
          "2023-12-13",
          "2023-12-14",
          "2023-12-15",
          "2023-12-18",
          "2023-12-19",
          "2023-12-20",
          "2023-12-21",
          "2023-12-22",
          "2023-12-26",
          "2023-12-27",
          "2023-12-28",
          "2023-12-29"
         ],
         "xaxis": "x",
         "y": [
          2292.5341796875,
          2297.496826171875,
          2298.744873046875,
          2297.89306640625,
          2306.753662109375,
          2324.67626953125,
          2336.958740234375,
          2341.4990234375,
          2344.09326171875,
          2335.539306640625,
          2332.392578125,
          2328.467041015625,
          2318.000244140625,
          2308.63427734375,
          2308.09814453125,
          2317.031982421875,
          2334.0693359375,
          2350.01171875,
          2364.6572265625,
          2368.15869140625,
          2380.406494140625,
          2404.177978515625,
          2427.56591796875,
          2455.717041015625,
          2462.346923828125,
          2463.92236328125,
          2462.468505859375,
          2469.046142578125,
          2483.446044921875,
          2488.16064453125,
          2482.38916015625,
          2466.772705078125,
          2444.467529296875,
          2430.09033203125,
          2433.671142578125,
          2442.642333984375,
          2443.123779296875,
          2445.64208984375,
          2441.664794921875,
          2431.597412109375,
          2423.394775390625,
          2426.571044921875,
          2435.82666015625,
          2438.826416015625,
          2441.294677734375,
          2447.394775390625,
          2456.76171875,
          2462.303466796875,
          2465.5439453125,
          2463.36669921875,
          2455.92236328125,
          2450.88916015625,
          2441.539794921875,
          2434.4912109375,
          2425.728759765625,
          2408.571044921875,
          2395.977783203125,
          2387.327392578125,
          2382.51220703125,
          2379.284423828125,
          2376.389892578125,
          2376.37548828125,
          2377.573486328125,
          2383.14697265625,
          2388.322021484375,
          2394.76416015625,
          2402.24462890625,
          2401.887451171875,
          2392.961181640625,
          2388.335205078125,
          2387.1826171875,
          2383.80322265625,
          2375.869140625,
          2358.211669921875,
          2341.606689453125,
          2336.080322265625,
          2330.60986328125,
          2331.283935546875,
          2332.993408203125,
          2325.649658203125,
          2318.9384765625,
          2308.3115234375,
          2305.171630859375,
          2306.02099609375,
          2305.04833984375,
          2306.4453125,
          2316.33642578125,
          2326.515625,
          2329.2529296875,
          2326.94140625,
          2324.632568359375,
          2320.509521484375,
          2308.120849609375,
          2294.147216796875,
          2283.283447265625,
          2271.11376953125,
          2267.819091796875,
          2270.502197265625,
          2286.812744140625,
          2300.416748046875,
          2300.2353515625,
          2304.482421875,
          2312.653076171875,
          2315.625244140625,
          2317.43896484375,
          2313.8359375,
          2312.705322265625,
          2309.1982421875,
          2311.978759765625,
          2322.134521484375,
          2334.89111328125,
          2337.375244140625,
          2337.41796875,
          2341.0830078125,
          2352.90380859375,
          2357.661376953125,
          2358.886962890625,
          2356.44921875,
          2354.90673828125,
          2357.068115234375,
          2359.78515625,
          2375.60888671875,
          2389.32568359375,
          2395.798583984375,
          2399.31689453125,
          2393.513916015625,
          2390.571533203125,
          2388.041015625,
          2390.27294921875,
          2403.009033203125,
          2423.068603515625,
          2438.979248046875,
          2452.66259765625,
          2462.823486328125,
          2463.529296875,
          2466.75439453125
         ],
         "yaxis": "y"
        }
       ],
       "layout": {
        "font": {
         "color": "black",
         "size": 13
        },
        "legend": {
         "title": {
          "text": "Open Price"
         },
         "tracegroupgap": 0
        },
        "margin": {
         "t": 60
        },
        "plot_bgcolor": "white",
        "template": {
         "data": {
          "bar": [
           {
            "error_x": {
             "color": "#2a3f5f"
            },
            "error_y": {
             "color": "#2a3f5f"
            },
            "marker": {
             "line": {
              "color": "#E5ECF6",
              "width": 0.5
             },
             "pattern": {
              "fillmode": "overlay",
              "size": 10,
              "solidity": 0.2
             }
            },
            "type": "bar"
           }
          ],
          "barpolar": [
           {
            "marker": {
             "line": {
              "color": "#E5ECF6",
              "width": 0.5
             },
             "pattern": {
              "fillmode": "overlay",
              "size": 10,
              "solidity": 0.2
             }
            },
            "type": "barpolar"
           }
          ],
          "carpet": [
           {
            "aaxis": {
             "endlinecolor": "#2a3f5f",
             "gridcolor": "white",
             "linecolor": "white",
             "minorgridcolor": "white",
             "startlinecolor": "#2a3f5f"
            },
            "baxis": {
             "endlinecolor": "#2a3f5f",
             "gridcolor": "white",
             "linecolor": "white",
             "minorgridcolor": "white",
             "startlinecolor": "#2a3f5f"
            },
            "type": "carpet"
           }
          ],
          "choropleth": [
           {
            "colorbar": {
             "outlinewidth": 0,
             "ticks": ""
            },
            "type": "choropleth"
           }
          ],
          "contour": [
           {
            "colorbar": {
             "outlinewidth": 0,
             "ticks": ""
            },
            "colorscale": [
             [
              0,
              "#0d0887"
             ],
             [
              0.1111111111111111,
              "#46039f"
             ],
             [
              0.2222222222222222,
              "#7201a8"
             ],
             [
              0.3333333333333333,
              "#9c179e"
             ],
             [
              0.4444444444444444,
              "#bd3786"
             ],
             [
              0.5555555555555556,
              "#d8576b"
             ],
             [
              0.6666666666666666,
              "#ed7953"
             ],
             [
              0.7777777777777778,
              "#fb9f3a"
             ],
             [
              0.8888888888888888,
              "#fdca26"
             ],
             [
              1,
              "#f0f921"
             ]
            ],
            "type": "contour"
           }
          ],
          "contourcarpet": [
           {
            "colorbar": {
             "outlinewidth": 0,
             "ticks": ""
            },
            "type": "contourcarpet"
           }
          ],
          "heatmap": [
           {
            "colorbar": {
             "outlinewidth": 0,
             "ticks": ""
            },
            "colorscale": [
             [
              0,
              "#0d0887"
             ],
             [
              0.1111111111111111,
              "#46039f"
             ],
             [
              0.2222222222222222,
              "#7201a8"
             ],
             [
              0.3333333333333333,
              "#9c179e"
             ],
             [
              0.4444444444444444,
              "#bd3786"
             ],
             [
              0.5555555555555556,
              "#d8576b"
             ],
             [
              0.6666666666666666,
              "#ed7953"
             ],
             [
              0.7777777777777778,
              "#fb9f3a"
             ],
             [
              0.8888888888888888,
              "#fdca26"
             ],
             [
              1,
              "#f0f921"
             ]
            ],
            "type": "heatmap"
           }
          ],
          "heatmapgl": [
           {
            "colorbar": {
             "outlinewidth": 0,
             "ticks": ""
            },
            "colorscale": [
             [
              0,
              "#0d0887"
             ],
             [
              0.1111111111111111,
              "#46039f"
             ],
             [
              0.2222222222222222,
              "#7201a8"
             ],
             [
              0.3333333333333333,
              "#9c179e"
             ],
             [
              0.4444444444444444,
              "#bd3786"
             ],
             [
              0.5555555555555556,
              "#d8576b"
             ],
             [
              0.6666666666666666,
              "#ed7953"
             ],
             [
              0.7777777777777778,
              "#fb9f3a"
             ],
             [
              0.8888888888888888,
              "#fdca26"
             ],
             [
              1,
              "#f0f921"
             ]
            ],
            "type": "heatmapgl"
           }
          ],
          "histogram": [
           {
            "marker": {
             "pattern": {
              "fillmode": "overlay",
              "size": 10,
              "solidity": 0.2
             }
            },
            "type": "histogram"
           }
          ],
          "histogram2d": [
           {
            "colorbar": {
             "outlinewidth": 0,
             "ticks": ""
            },
            "colorscale": [
             [
              0,
              "#0d0887"
             ],
             [
              0.1111111111111111,
              "#46039f"
             ],
             [
              0.2222222222222222,
              "#7201a8"
             ],
             [
              0.3333333333333333,
              "#9c179e"
             ],
             [
              0.4444444444444444,
              "#bd3786"
             ],
             [
              0.5555555555555556,
              "#d8576b"
             ],
             [
              0.6666666666666666,
              "#ed7953"
             ],
             [
              0.7777777777777778,
              "#fb9f3a"
             ],
             [
              0.8888888888888888,
              "#fdca26"
             ],
             [
              1,
              "#f0f921"
             ]
            ],
            "type": "histogram2d"
           }
          ],
          "histogram2dcontour": [
           {
            "colorbar": {
             "outlinewidth": 0,
             "ticks": ""
            },
            "colorscale": [
             [
              0,
              "#0d0887"
             ],
             [
              0.1111111111111111,
              "#46039f"
             ],
             [
              0.2222222222222222,
              "#7201a8"
             ],
             [
              0.3333333333333333,
              "#9c179e"
             ],
             [
              0.4444444444444444,
              "#bd3786"
             ],
             [
              0.5555555555555556,
              "#d8576b"
             ],
             [
              0.6666666666666666,
              "#ed7953"
             ],
             [
              0.7777777777777778,
              "#fb9f3a"
             ],
             [
              0.8888888888888888,
              "#fdca26"
             ],
             [
              1,
              "#f0f921"
             ]
            ],
            "type": "histogram2dcontour"
           }
          ],
          "mesh3d": [
           {
            "colorbar": {
             "outlinewidth": 0,
             "ticks": ""
            },
            "type": "mesh3d"
           }
          ],
          "parcoords": [
           {
            "line": {
             "colorbar": {
              "outlinewidth": 0,
              "ticks": ""
             }
            },
            "type": "parcoords"
           }
          ],
          "pie": [
           {
            "automargin": true,
            "type": "pie"
           }
          ],
          "scatter": [
           {
            "fillpattern": {
             "fillmode": "overlay",
             "size": 10,
             "solidity": 0.2
            },
            "type": "scatter"
           }
          ],
          "scatter3d": [
           {
            "line": {
             "colorbar": {
              "outlinewidth": 0,
              "ticks": ""
             }
            },
            "marker": {
             "colorbar": {
              "outlinewidth": 0,
              "ticks": ""
             }
            },
            "type": "scatter3d"
           }
          ],
          "scattercarpet": [
           {
            "marker": {
             "colorbar": {
              "outlinewidth": 0,
              "ticks": ""
             }
            },
            "type": "scattercarpet"
           }
          ],
          "scattergeo": [
           {
            "marker": {
             "colorbar": {
              "outlinewidth": 0,
              "ticks": ""
             }
            },
            "type": "scattergeo"
           }
          ],
          "scattergl": [
           {
            "marker": {
             "colorbar": {
              "outlinewidth": 0,
              "ticks": ""
             }
            },
            "type": "scattergl"
           }
          ],
          "scattermapbox": [
           {
            "marker": {
             "colorbar": {
              "outlinewidth": 0,
              "ticks": ""
             }
            },
            "type": "scattermapbox"
           }
          ],
          "scatterpolar": [
           {
            "marker": {
             "colorbar": {
              "outlinewidth": 0,
              "ticks": ""
             }
            },
            "type": "scatterpolar"
           }
          ],
          "scatterpolargl": [
           {
            "marker": {
             "colorbar": {
              "outlinewidth": 0,
              "ticks": ""
             }
            },
            "type": "scatterpolargl"
           }
          ],
          "scatterternary": [
           {
            "marker": {
             "colorbar": {
              "outlinewidth": 0,
              "ticks": ""
             }
            },
            "type": "scatterternary"
           }
          ],
          "surface": [
           {
            "colorbar": {
             "outlinewidth": 0,
             "ticks": ""
            },
            "colorscale": [
             [
              0,
              "#0d0887"
             ],
             [
              0.1111111111111111,
              "#46039f"
             ],
             [
              0.2222222222222222,
              "#7201a8"
             ],
             [
              0.3333333333333333,
              "#9c179e"
             ],
             [
              0.4444444444444444,
              "#bd3786"
             ],
             [
              0.5555555555555556,
              "#d8576b"
             ],
             [
              0.6666666666666666,
              "#ed7953"
             ],
             [
              0.7777777777777778,
              "#fb9f3a"
             ],
             [
              0.8888888888888888,
              "#fdca26"
             ],
             [
              1,
              "#f0f921"
             ]
            ],
            "type": "surface"
           }
          ],
          "table": [
           {
            "cells": {
             "fill": {
              "color": "#EBF0F8"
             },
             "line": {
              "color": "white"
             }
            },
            "header": {
             "fill": {
              "color": "#C8D4E3"
             },
             "line": {
              "color": "white"
             }
            },
            "type": "table"
           }
          ]
         },
         "layout": {
          "annotationdefaults": {
           "arrowcolor": "#2a3f5f",
           "arrowhead": 0,
           "arrowwidth": 1
          },
          "autotypenumbers": "strict",
          "coloraxis": {
           "colorbar": {
            "outlinewidth": 0,
            "ticks": ""
           }
          },
          "colorscale": {
           "diverging": [
            [
             0,
             "#8e0152"
            ],
            [
             0.1,
             "#c51b7d"
            ],
            [
             0.2,
             "#de77ae"
            ],
            [
             0.3,
             "#f1b6da"
            ],
            [
             0.4,
             "#fde0ef"
            ],
            [
             0.5,
             "#f7f7f7"
            ],
            [
             0.6,
             "#e6f5d0"
            ],
            [
             0.7,
             "#b8e186"
            ],
            [
             0.8,
             "#7fbc41"
            ],
            [
             0.9,
             "#4d9221"
            ],
            [
             1,
             "#276419"
            ]
           ],
           "sequential": [
            [
             0,
             "#0d0887"
            ],
            [
             0.1111111111111111,
             "#46039f"
            ],
            [
             0.2222222222222222,
             "#7201a8"
            ],
            [
             0.3333333333333333,
             "#9c179e"
            ],
            [
             0.4444444444444444,
             "#bd3786"
            ],
            [
             0.5555555555555556,
             "#d8576b"
            ],
            [
             0.6666666666666666,
             "#ed7953"
            ],
            [
             0.7777777777777778,
             "#fb9f3a"
            ],
            [
             0.8888888888888888,
             "#fdca26"
            ],
            [
             1,
             "#f0f921"
            ]
           ],
           "sequentialminus": [
            [
             0,
             "#0d0887"
            ],
            [
             0.1111111111111111,
             "#46039f"
            ],
            [
             0.2222222222222222,
             "#7201a8"
            ],
            [
             0.3333333333333333,
             "#9c179e"
            ],
            [
             0.4444444444444444,
             "#bd3786"
            ],
            [
             0.5555555555555556,
             "#d8576b"
            ],
            [
             0.6666666666666666,
             "#ed7953"
            ],
            [
             0.7777777777777778,
             "#fb9f3a"
            ],
            [
             0.8888888888888888,
             "#fdca26"
            ],
            [
             1,
             "#f0f921"
            ]
           ]
          },
          "colorway": [
           "#636efa",
           "#EF553B",
           "#00cc96",
           "#ab63fa",
           "#FFA15A",
           "#19d3f3",
           "#FF6692",
           "#B6E880",
           "#FF97FF",
           "#FECB52"
          ],
          "font": {
           "color": "#2a3f5f"
          },
          "geo": {
           "bgcolor": "white",
           "lakecolor": "white",
           "landcolor": "#E5ECF6",
           "showlakes": true,
           "showland": true,
           "subunitcolor": "white"
          },
          "hoverlabel": {
           "align": "left"
          },
          "hovermode": "closest",
          "mapbox": {
           "style": "light"
          },
          "paper_bgcolor": "white",
          "plot_bgcolor": "#E5ECF6",
          "polar": {
           "angularaxis": {
            "gridcolor": "white",
            "linecolor": "white",
            "ticks": ""
           },
           "bgcolor": "#E5ECF6",
           "radialaxis": {
            "gridcolor": "white",
            "linecolor": "white",
            "ticks": ""
           }
          },
          "scene": {
           "xaxis": {
            "backgroundcolor": "#E5ECF6",
            "gridcolor": "white",
            "gridwidth": 2,
            "linecolor": "white",
            "showbackground": true,
            "ticks": "",
            "zerolinecolor": "white"
           },
           "yaxis": {
            "backgroundcolor": "#E5ECF6",
            "gridcolor": "white",
            "gridwidth": 2,
            "linecolor": "white",
            "showbackground": true,
            "ticks": "",
            "zerolinecolor": "white"
           },
           "zaxis": {
            "backgroundcolor": "#E5ECF6",
            "gridcolor": "white",
            "gridwidth": 2,
            "linecolor": "white",
            "showbackground": true,
            "ticks": "",
            "zerolinecolor": "white"
           }
          },
          "shapedefaults": {
           "line": {
            "color": "#2a3f5f"
           }
          },
          "ternary": {
           "aaxis": {
            "gridcolor": "white",
            "linecolor": "white",
            "ticks": ""
           },
           "baxis": {
            "gridcolor": "white",
            "linecolor": "white",
            "ticks": ""
           },
           "bgcolor": "#E5ECF6",
           "caxis": {
            "gridcolor": "white",
            "linecolor": "white",
            "ticks": ""
           }
          },
          "title": {
           "x": 0.05
          },
          "xaxis": {
           "automargin": true,
           "gridcolor": "white",
           "linecolor": "white",
           "ticks": "",
           "title": {
            "standoff": 15
           },
           "zerolinecolor": "white",
           "zerolinewidth": 2
          },
          "yaxis": {
           "automargin": true,
           "gridcolor": "white",
           "linecolor": "white",
           "ticks": "",
           "title": {
            "standoff": 15
           },
           "zerolinecolor": "white",
           "zerolinewidth": 2
          }
         }
        },
        "title": {
         "text": "Comparison between original open price vs predicted open price"
        },
        "xaxis": {
         "anchor": "y",
         "domain": [
          0,
          1
         ],
         "title": {
          "text": "Date"
         }
        },
        "yaxis": {
         "anchor": "x",
         "domain": [
          0,
          1
         ],
         "title": {
          "text": "Price"
         }
        }
       }
      }
     },
     "metadata": {},
     "output_type": "display_data"
    }
   ],
   "source": [
    "import plotly.express as px\n",
    "# Filter the dates\n",
    "start_date = '2023-06-13'\n",
    "df_filtered = df[df['Date'] >= start_date]\n",
    "dates_col = df_filtered['Date'].values\n",
    "\n",
    "# Flatten the arrays\n",
    "testY_flat = testYInv.flatten()\n",
    "testPredict_flat = testPredictInv.flatten()\n",
    "#print(testPredict_flat)\n",
    "print(len(dates_col))\n",
    "print(len(testY_flat))\n",
    "print(len(testPredict_flat))\n",
    "\n",
    "# Create a DataFrame that contains the necessary data\n",
    "df_plot = pd.DataFrame({\n",
    "    'Date': dates_col,\n",
    "    'Actual Open Price': testY_flat,\n",
    "    'Predicted Open Price': testPredict_flat\n",
    "})\n",
    "\n",
    "# Melt the DataFrame to have 'Actual Open Price' and 'Predicted Open Price' in the same column\n",
    "df_plot_melt = df_plot.melt(id_vars='Date', value_vars=['Actual Open Price', 'Predicted Open Price'], var_name='Type', value_name='Price')\n",
    "\n",
    "# Create the line plots\n",
    "fig = px.line(df_plot_melt, x='Date', y='Price', color='Type', \n",
    "              color_discrete_map={'Actual Open Price':'green', 'Predicted Open Price':'red'})\n",
    "\n",
    "fig.update_layout(title_text='Comparison between original open price vs predicted open price',\n",
    "                  plot_bgcolor='white', font_size=13, font_color='black', legend_title_text='Open Price')\n",
    "\n",
    "# Show the plot\n",
    "fig.show()"
   ]
  },
  {
   "cell_type": "code",
   "execution_count": 42,
   "metadata": {},
   "outputs": [
    {
     "name": "stdout",
     "output_type": "stream",
     "text": [
      "136\n",
      "136\n",
      "136\n",
      "     Actual_Open_price   Predicted_Open_price\n",
      "0          2302.884277            2292.534180\n",
      "1          2326.882080            2297.496826\n",
      "2          2355.310547            2298.744873\n",
      "3          2363.063721            2297.893066\n",
      "4          2385.031250            2306.753662\n",
      "5          2351.387939            2324.676270\n",
      "6          2360.110107            2336.958740\n",
      "7          2359.187256            2341.499023\n",
      "8          2334.173828            2344.093262\n",
      "9          2313.960205            2335.539307\n",
      "10         2304.314941            2332.392578\n",
      "11         2319.498291            2328.467041\n",
      "12         2350.326416            2318.000244\n",
      "13         2361.079346            2308.634277\n",
      "14         2422.874268            2308.098145\n",
      "15         2408.106201            2317.031982\n",
      "16         2377.693359            2334.069336\n",
      "17         2432.104248            2350.011719\n",
      "18         2481.853760            2364.657227\n",
      "19         2540.925781            2368.158691\n",
      "20         2553.293945            2380.406494\n",
      "21         2569.538818            2404.177979\n",
      "22         2538.249023            2427.565918\n",
      "23         2535.480225            2455.717041\n",
      "24         2600.090088            2462.346924\n",
      "25         2612.089111            2463.922363\n",
      "26         2580.000000            2462.468506\n",
      "27         2609.000000            2469.046143\n",
      "28         2481.000000            2483.446045\n",
      "29         2494.000000            2488.160645\n",
      "30         2485.000000            2482.389160\n",
      "31         2534.050049            2466.772705\n",
      "32         2512.050049            2444.467529\n",
      "33         2527.850098            2430.090332\n",
      "34         2555.000000            2433.671143\n",
      "35         2509.199951            2442.642334\n",
      "36         2475.300049            2443.123779\n",
      "37         2498.800049            2445.642090\n",
      "38         2521.000000            2441.664795\n",
      "39         2528.000000            2431.597412\n",
      "40         2504.850098            2423.394775\n",
      "41         2524.949951            2426.571045\n",
      "42         2532.449951            2435.826660\n",
      "43         2539.000000            2438.826416\n",
      "44         2551.000000            2441.294678\n",
      "45         2567.100098            2447.394775\n",
      "46         2531.250000            2456.761719\n",
      "47         2539.949951            2462.303467\n",
      "48         2516.899902            2465.543945\n",
      "49         2524.199951            2463.366699\n",
      "50         2539.899902            2455.922363\n",
      "51         2456.000000            2450.889160\n",
      "52         2472.000000            2441.539795\n",
      "53         2452.050049            2434.491211\n",
      "54         2432.000000            2425.728760\n",
      "55         2423.000000            2408.571045\n",
      "56         2406.550049            2395.977783\n",
      "57         2412.649902            2387.327393\n",
      "58         2420.000000            2382.512207\n",
      "59         2421.100098            2379.284424\n",
      "60         2421.699951            2376.389893\n",
      "61         2440.000000            2376.375488\n",
      "62         2452.000000            2377.573486\n",
      "63         2483.000000            2383.146973\n",
      "64         2440.000000            2388.322021\n",
      "65         2460.000000            2394.764160\n",
      "66         2468.000000            2402.244629\n",
      "67         2440.050049            2401.887451\n",
      "68         2423.050049            2392.961182\n",
      "69         2374.949951            2388.335205\n",
      "70         2376.000000            2387.182617\n",
      "71         2350.399902            2383.803223\n",
      "72         2338.550049            2375.869141\n",
      "73         2343.500000            2358.211670\n",
      "74         2383.000000            2341.606689\n",
      "75         2341.800049            2336.080322\n",
      "76         2329.949951            2330.609863\n",
      "77         2309.000000            2331.283936\n",
      "78         2319.250000            2332.993408\n",
      "79         2317.050049            2325.649658\n",
      "80         2308.100098            2318.938477\n",
      "81         2306.550049            2308.311523\n",
      "82         2314.449951            2305.171631\n",
      "83         2343.850098            2306.020996\n",
      "84         2340.000000            2305.048340\n",
      "85         2345.000000            2306.445312\n",
      "86         2356.000000            2316.336426\n",
      "87         2355.250000            2326.515625\n",
      "88         2312.000000            2329.252930\n",
      "89         2300.000000            2326.941406\n",
      "90         2290.000000            2324.632568\n",
      "91         2250.050049            2320.509521\n",
      "92         2251.000000            2308.120850\n",
      "93         2240.000000            2294.147217\n",
      "94         2274.000000            2283.283447\n",
      "95         2328.000000            2271.113770\n",
      "96         2289.149902            2267.819092\n",
      "97         2313.949951            2270.502197\n",
      "98         2327.199951            2286.812744\n",
      "99         2332.300049            2300.416748\n",
      "100        2334.050049            2300.235352\n",
      "101        2332.000000            2304.482422\n",
      "102        2335.850098            2312.653076\n",
      "103        2305.550049            2315.625244\n",
      "104        2322.899902            2317.438965\n",
      "105        2340.000000            2313.835938\n",
      "106        2351.100098            2312.705322\n",
      "107        2352.899902            2309.198242\n",
      "108        2348.550049            2311.978760\n",
      "109        2366.000000            2322.134521\n",
      "110        2375.000000            2334.891113\n",
      "111        2388.199951            2337.375244\n",
      "112        2391.600098            2337.417969\n",
      "113        2393.899902            2341.083008\n",
      "114        2408.000000            2352.903809\n",
      "115        2394.699951            2357.661377\n",
      "116        2378.000000            2358.886963\n",
      "117        2450.000000            2356.449219\n",
      "118        2439.000000            2354.906738\n",
      "119        2447.100098            2357.068115\n",
      "120        2460.000000            2359.785156\n",
      "121        2463.850098            2375.608887\n",
      "122        2456.000000            2389.325684\n",
      "123        2460.000000            2395.798584\n",
      "124        2422.000000            2399.316895\n",
      "125        2454.000000            2393.513916\n",
      "126        2478.000000            2390.571533\n",
      "127        2495.600098            2388.041016\n",
      "128        2555.000000            2390.272949\n",
      "129        2571.050049            2403.009033\n",
      "130        2527.000000            2423.068604\n",
      "131        2559.600098            2438.979248\n",
      "132        2568.000000            2452.662598\n",
      "133        2582.000000            2462.823486\n",
      "134        2589.800049            2463.529297\n",
      "135        2611.100098            2466.754395\n"
     ]
    }
   ],
   "source": [
    "testyinvflat=testYInv.flatten()\n",
    "\n",
    "print(len(testyinvflat))\n",
    "print(len(testPredictInv))\n",
    "start_date = '2023-06-13'\n",
    "df_filtered = df[df['Date'] >= start_date]\n",
    "dates_col = df_filtered['Date'].values\n",
    "print(len(dates_col))\n",
    "# Create a DataFrame with actual and predicted values\n",
    "df_result = pd.DataFrame({\n",
    "    #'dates': dates_col,\n",
    "    '  Actual_Open_price': testyinvflat,\n",
    "    '   Predicted_Open_price': testPredictInv.flatten()\n",
    "})\n",
    "pd.set_option('display.max_rows', None)#so full table gets displayed instead of truncated\n",
    "print(df_result)"
   ]
  }
 ],
 "metadata": {
  "kernelspec": {
   "display_name": "Python 3",
   "language": "python",
   "name": "python3"
  },
  "language_info": {
   "codemirror_mode": {
    "name": "ipython",
    "version": 3
   },
   "file_extension": ".py",
   "mimetype": "text/x-python",
   "name": "python",
   "nbconvert_exporter": "python",
   "pygments_lexer": "ipython3",
   "version": "3.12.0"
  }
 },
 "nbformat": 4,
 "nbformat_minor": 2
}
