{
 "cells": [
  {
   "cell_type": "markdown",
   "metadata": {},
   "source": [
    "## Step 3: Training on the merged dataset\n",
    "\n",
    "**Objectives**\n",
    "\n",
    "- 4.1. Importing the dataset\n",
    "- 4.2. Creating a function to preprocess the dataset\n",
    "- 4.3. Preproccessing the dataset for LSTM\n",
    "- 4.4. Building the LSTM model\n",
    "- 4.5. Testing the model\n"
   ]
  },
  {
   "cell_type": "code",
   "execution_count": 5,
   "metadata": {},
   "outputs": [],
   "source": [
    "import pandas as pd\n",
    "import numpy as np\n",
    "from sklearn.preprocessing import MinMaxScaler\n",
    "from sklearn.metrics import mean_squared_error\n",
    "import matplotlib.pyplot as plt"
   ]
  },
  {
   "cell_type": "markdown",
   "metadata": {},
   "source": [
    "### 4.1. Importing the dataset\n"
   ]
  },
  {
   "cell_type": "code",
   "execution_count": 6,
   "metadata": {},
   "outputs": [],
   "source": [
    "#csvFilePath = 'infosys_merged.csv'\n",
    "df = pd.read_csv('infosys_merged.csv')\n"
   ]
  },
  {
   "cell_type": "markdown",
   "metadata": {},
   "source": [
    "### 4.2. Creating a function to preprocess the dataset\n",
    "\n",
    "The `createDataset` function is designed to prepare data for training a time-series prediction model. It takes the input features (`dataset`), the target variable (`target`), and an optional parameter `lookBack`, which determines how many past time steps the model should consider. The function then iterates through the dataset, creating pairs of input sequences (`dataX`) and corresponding target values (`dataY`). For each iteration, a window of time steps equal to `lookBack` is taken from the dataset, and this window becomes a sequence in `dataX`. The target value corresponding to the last time step in the window is added to `dataY`. The function returns two arrays suitable for training a model, where each row in `dataX` represents a sequence of past observations, and the corresponding element in `dataY` is the target value to be predicted. This kind of dataset preparation is particularly useful for training models like Long Short-Term Memory (LSTM) networks, which can capture temporal dependencies in sequential data.\n"
   ]
  },
  {
   "cell_type": "markdown",
   "metadata": {},
   "source": [
    "Absolutely! Let's walk through the first 3 iterations of the `createDataset` function with the provided information:\n",
    "\n",
    "**Inputs:**\n",
    "\n",
    "- `dataset`: List containing closing prices (assuming these are the values you provided):\n",
    "  ```\n",
    "  dataset = [633.47, 633.5, 632.5, 642.5, 650, 647.5, 650.5, 639.95, 645]\n",
    "  ```\n",
    "- `target`: Same list as `dataset` (assuming target values are also closing prices on the next day).\n",
    "- `lookBack`: We'll use 3 (considering past 3 opening prices for prediction).\n",
    "\n",
    "**Iteration 1 (i=0):**\n",
    "\n",
    "- `a = dataset[0:(0 + 3), :]`: This takes the first 3 elements from `dataset`: `a = [633.47, 633.5, 632.5]`.\n",
    "- `dataX.append(a)`: Adds this past data chunk to `dataX`: `dataX = [[633.47, 633.5, 632.5]]`.\n",
    "- `dataY.append(target[0 + 3])`: Retrieves the target value (4th element): `dataY.append(642.5)`.\n",
    "\n",
    "**Iteration 2 (i=1):**\n",
    "\n",
    "- `a = dataset[1:(1 + 3), :]`: Takes elements from index 1 to 3 (exclusive): `a = [633.5, 632.5, 642.5]`.\n",
    "- `dataX.append(a)`: Adds this past data chunk to `dataX`: `dataX = [[633.47, 633.5, 632.5], [633.5, 632.5, 642.5]]`.\n",
    "- `dataY.append(target[1 + 3])`: Retrieves the target value (5th element): `dataY.append(650)`.\n",
    "\n",
    "**Iteration 3 (i=2):**\n",
    "\n",
    "- `a = dataset[2:(2 + 3), :]`: Takes elements from index 2 to 4 (exclusive): `a = [632.5, 642.5, 650]`.\n",
    "- `dataX.append(a)`: Adds this past data chunk to `dataX`: `dataX = [[633.47, 633.5, 632.5], [633.5, 632.5, 642.5], [632.5, 642.5, 650]]`.\n",
    "- `dataY.append(target[2 + 3])`: Retrieves the target value (6th element): `dataY.append(647.5)`.\n",
    "\n",
    "**After 3 Iterations:**\n",
    "\n",
    "- `dataX`: List of lists containing past data chunks:\n",
    "  ```\n",
    "  dataX = [[633.47, 633.5, 632.5], [633.5, 632.5, 642.5], [632.5, 642.5, 650]]\n",
    "  ```\n",
    "- `dataY`: Single list containing target values (closing prices on the next day) corresponding to each chunk in `dataX`:\n",
    "  ```\n",
    "  dataY = [642.5, 650, 647.5]\n",
    "  ```\n",
    "\n",
    "**Note:** The loop would continue for all remaining elements in `dataset` following the same pattern. However, keep in mind that since `len(dataset)` (2714) is much larger than `lookBack` (3), the loop will iterate 2714 - 3 = 2711 times to create all the data chunks and target pairs.\n"
   ]
  },
  {
   "cell_type": "code",
   "execution_count": 7,
   "metadata": {},
   "outputs": [],
   "source": [
    "def createDataset(dataset, target, lookBack=1):\n",
    "    dataX, dataY = [], [] #datax with past values and datay with values to be predicted\n",
    "    for i in range(len(dataset) - lookBack):\n",
    "        a = dataset[i:(i + lookBack), :]\n",
    "        dataX.append(a)\n",
    "        dataY.append(target[i + lookBack])\n",
    "    return np.array(dataX), np.array(dataY)\n",
    "    \n",
    "#enddef"
   ]
  },
  {
   "cell_type": "markdown",
   "metadata": {},
   "source": [
    "### 4.3. Preproccessing the dataset for LSTM\n",
    "\n",
    "This section prepares data for training a LSTM network. It first extracts the features and the target variable (closing stock prices) from a DataFrame. Then it uses Min-Max scaling to normalize these features and the target variable, ensuring they fall within the range of 0 to 1. It utilizes the `createDataset` function, section 4.2, to structure the data into sequences suitable for training the LSTM model. The sequences represent past observations, and the corresponding targets are the next time step's closing prices to predict. Finally, the dataset gets divided into training and testing sets, and their dimensions are adjusted to fit the LSTM model's input requirements. The resulting `trainX`, `testX`, `trainY`, and `testY` are now ready for training and evaluating the LSTM model's performance in predicting future stock prices based on historical patterns.\n"
   ]
  },
  {
   "cell_type": "code",
   "execution_count": 8,
   "metadata": {},
   "outputs": [
    {
     "data": {
      "text/plain": [
       "\" when you access trainX.shape[0], you're getting the first dimension of the trainX array, which is the number of rows.\\n In the context of machine learning, each row typically represents a \\nseparate sample in your dataset, so trainX.shape[0] is the total number of samples/rows in your trainX dataset\\nlookback is the number of values in the stacked array trainX.shape[2] is the number of features in the dataset\\n\""
      ]
     },
     "execution_count": 8,
     "metadata": {},
     "output_type": "execute_result"
    }
   ],
   "source": [
    "features = df.drop(['Date', 'Open'], axis=1).values#axis =1means col drop this will have all columns except date and Open of all rows in array\n",
    "target = df['Open'].values  #all the open values in an array\n",
    "\n",
    "scalerFeatures = MinMaxScaler(feature_range=(0, 1))# This line creates a MinMaxScaler object.\n",
    "scalerTarget = MinMaxScaler(feature_range=(0, 1))\n",
    "\n",
    "featuresScaled = scalerFeatures.fit_transform(features)\n",
    "targetScaled = scalerTarget.fit_transform(target.reshape(-1, 1))#target.reshape(-1, 1): This reshapes the target variable into a 2D array with one column and as many rows as \n",
    "#necessary The -1 in the reshape function indicates that the number of rows should be inferred based on the length of the target variable.\n",
    "#print(target)\n",
    "'''why we are using reshape(-1,1) for target is because target is a 1d array and MinMaxScaler's fit_transform expects a 2d array \n",
    "by using (-1,1)means that we want numpy to calculate the correct number of rows for a new array that has exactly one column.\n",
    " The -1 is a placeholder that means \"whatever dimension is needed. it needs to be reshaped into a 2D array before being passed to fit_transform. \n",
    " That's why target.reshape(-1, 1) is used'''\n",
    "#print(featuresScaled[:5])\n",
    "\n",
    "lookBack = 5\n",
    "X, y = createDataset(featuresScaled, targetScaled, lookBack)\n",
    "\n",
    "\n",
    "trainSize = int(len(X) * 0.95) # len(X)is 2710 now its 90% training and 5% testing\n",
    "testSize = len(X) - trainSize\n",
    "trainX, testX = X[0:trainSize, :], X[trainSize:len(X), :]\n",
    "trainY, testY = y[0:trainSize], y[trainSize:len(y)]\n",
    "\n",
    "trainX = np.reshape(trainX, (trainX.shape[0], lookBack, trainX.shape[2]))#this is reshaping the trainX,trainY from 2d to 3d array\n",
    "testX = np.reshape(testX, (testX.shape[0], lookBack, testX.shape[2]))\n",
    "#trainX.shape[0] is the number of rows in the trainX array, lookBack is the number of columns, and trainX.shape[2] is the number of features in the dataset.\n",
    "''' when you access trainX.shape[0], you're getting the first dimension of the trainX array, which is the number of rows.\n",
    " In the context of machine learning, each row typically represents a \n",
    "separate sample in your dataset, so trainX.shape[0] is the total number of samples/rows in your trainX dataset\n",
    "lookback is the number of values in the stacked array trainX.shape[2] is the number of features in the dataset\n",
    "'''\n"
   ]
  },
  {
   "cell_type": "code",
   "execution_count": 9,
   "metadata": {},
   "outputs": [
    {
     "name": "stdout",
     "output_type": "stream",
     "text": [
      "(2708, 5, 9)\n"
     ]
    }
   ],
   "source": [
    "X_combined = np.concatenate((trainX,testX), axis=0)\n",
    "print(X_combined.shape)"
   ]
  },
  {
   "cell_type": "markdown",
   "metadata": {},
   "source": [
    "### 4.4. Building the LSTM model\n"
   ]
  },
  {
   "cell_type": "code",
   "execution_count": 26,
   "metadata": {},
   "outputs": [
    {
     "name": "stderr",
     "output_type": "stream",
     "text": [
      "c:\\Users\\tebym\\AppData\\Local\\Programs\\Python\\Python312\\Lib\\site-packages\\keras\\src\\layers\\rnn\\rnn.py:204: UserWarning:\n",
      "\n",
      "Do not pass an `input_shape`/`input_dim` argument to a layer. When using Sequential models, prefer using an `Input(shape)` object as the first layer in the model instead.\n",
      "\n"
     ]
    },
    {
     "data": {
      "text/html": [
       "<pre style=\"white-space:pre;overflow-x:auto;line-height:normal;font-family:Menlo,'DejaVu Sans Mono',consolas,'Courier New',monospace\"><span style=\"font-weight: bold\">Model: \"sequential_3\"</span>\n",
       "</pre>\n"
      ],
      "text/plain": [
       "\u001b[1mModel: \"sequential_3\"\u001b[0m\n"
      ]
     },
     "metadata": {},
     "output_type": "display_data"
    },
    {
     "data": {
      "text/html": [
       "<pre style=\"white-space:pre;overflow-x:auto;line-height:normal;font-family:Menlo,'DejaVu Sans Mono',consolas,'Courier New',monospace\">┏━━━━━━━━━━━━━━━━━━━━━━━━━━━━━━━━━┳━━━━━━━━━━━━━━━━━━━━━━━━┳━━━━━━━━━━━━━━━┓\n",
       "┃<span style=\"font-weight: bold\"> Layer (type)                    </span>┃<span style=\"font-weight: bold\"> Output Shape           </span>┃<span style=\"font-weight: bold\">       Param # </span>┃\n",
       "┡━━━━━━━━━━━━━━━━━━━━━━━━━━━━━━━━━╇━━━━━━━━━━━━━━━━━━━━━━━━╇━━━━━━━━━━━━━━━┩\n",
       "│ lstm_12 (<span style=\"color: #0087ff; text-decoration-color: #0087ff\">LSTM</span>)                  │ (<span style=\"color: #00d7ff; text-decoration-color: #00d7ff\">None</span>, <span style=\"color: #00af00; text-decoration-color: #00af00\">5</span>, <span style=\"color: #00af00; text-decoration-color: #00af00\">100</span>)         │        <span style=\"color: #00af00; text-decoration-color: #00af00\">44,000</span> │\n",
       "├─────────────────────────────────┼────────────────────────┼───────────────┤\n",
       "│ dropout_12 (<span style=\"color: #0087ff; text-decoration-color: #0087ff\">Dropout</span>)            │ (<span style=\"color: #00d7ff; text-decoration-color: #00d7ff\">None</span>, <span style=\"color: #00af00; text-decoration-color: #00af00\">5</span>, <span style=\"color: #00af00; text-decoration-color: #00af00\">100</span>)         │             <span style=\"color: #00af00; text-decoration-color: #00af00\">0</span> │\n",
       "├─────────────────────────────────┼────────────────────────┼───────────────┤\n",
       "│ lstm_13 (<span style=\"color: #0087ff; text-decoration-color: #0087ff\">LSTM</span>)                  │ (<span style=\"color: #00d7ff; text-decoration-color: #00d7ff\">None</span>, <span style=\"color: #00af00; text-decoration-color: #00af00\">5</span>, <span style=\"color: #00af00; text-decoration-color: #00af00\">80</span>)          │        <span style=\"color: #00af00; text-decoration-color: #00af00\">57,920</span> │\n",
       "├─────────────────────────────────┼────────────────────────┼───────────────┤\n",
       "│ dropout_13 (<span style=\"color: #0087ff; text-decoration-color: #0087ff\">Dropout</span>)            │ (<span style=\"color: #00d7ff; text-decoration-color: #00d7ff\">None</span>, <span style=\"color: #00af00; text-decoration-color: #00af00\">5</span>, <span style=\"color: #00af00; text-decoration-color: #00af00\">80</span>)          │             <span style=\"color: #00af00; text-decoration-color: #00af00\">0</span> │\n",
       "├─────────────────────────────────┼────────────────────────┼───────────────┤\n",
       "│ lstm_14 (<span style=\"color: #0087ff; text-decoration-color: #0087ff\">LSTM</span>)                  │ (<span style=\"color: #00d7ff; text-decoration-color: #00d7ff\">None</span>, <span style=\"color: #00af00; text-decoration-color: #00af00\">5</span>, <span style=\"color: #00af00; text-decoration-color: #00af00\">50</span>)          │        <span style=\"color: #00af00; text-decoration-color: #00af00\">26,200</span> │\n",
       "├─────────────────────────────────┼────────────────────────┼───────────────┤\n",
       "│ dropout_14 (<span style=\"color: #0087ff; text-decoration-color: #0087ff\">Dropout</span>)            │ (<span style=\"color: #00d7ff; text-decoration-color: #00d7ff\">None</span>, <span style=\"color: #00af00; text-decoration-color: #00af00\">5</span>, <span style=\"color: #00af00; text-decoration-color: #00af00\">50</span>)          │             <span style=\"color: #00af00; text-decoration-color: #00af00\">0</span> │\n",
       "├─────────────────────────────────┼────────────────────────┼───────────────┤\n",
       "│ lstm_15 (<span style=\"color: #0087ff; text-decoration-color: #0087ff\">LSTM</span>)                  │ (<span style=\"color: #00d7ff; text-decoration-color: #00d7ff\">None</span>, <span style=\"color: #00af00; text-decoration-color: #00af00\">30</span>)             │         <span style=\"color: #00af00; text-decoration-color: #00af00\">9,720</span> │\n",
       "├─────────────────────────────────┼────────────────────────┼───────────────┤\n",
       "│ dropout_15 (<span style=\"color: #0087ff; text-decoration-color: #0087ff\">Dropout</span>)            │ (<span style=\"color: #00d7ff; text-decoration-color: #00d7ff\">None</span>, <span style=\"color: #00af00; text-decoration-color: #00af00\">30</span>)             │             <span style=\"color: #00af00; text-decoration-color: #00af00\">0</span> │\n",
       "├─────────────────────────────────┼────────────────────────┼───────────────┤\n",
       "│ dense_3 (<span style=\"color: #0087ff; text-decoration-color: #0087ff\">Dense</span>)                 │ (<span style=\"color: #00d7ff; text-decoration-color: #00d7ff\">None</span>, <span style=\"color: #00af00; text-decoration-color: #00af00\">1</span>)              │            <span style=\"color: #00af00; text-decoration-color: #00af00\">31</span> │\n",
       "└─────────────────────────────────┴────────────────────────┴───────────────┘\n",
       "</pre>\n"
      ],
      "text/plain": [
       "┏━━━━━━━━━━━━━━━━━━━━━━━━━━━━━━━━━┳━━━━━━━━━━━━━━━━━━━━━━━━┳━━━━━━━━━━━━━━━┓\n",
       "┃\u001b[1m \u001b[0m\u001b[1mLayer (type)                   \u001b[0m\u001b[1m \u001b[0m┃\u001b[1m \u001b[0m\u001b[1mOutput Shape          \u001b[0m\u001b[1m \u001b[0m┃\u001b[1m \u001b[0m\u001b[1m      Param #\u001b[0m\u001b[1m \u001b[0m┃\n",
       "┡━━━━━━━━━━━━━━━━━━━━━━━━━━━━━━━━━╇━━━━━━━━━━━━━━━━━━━━━━━━╇━━━━━━━━━━━━━━━┩\n",
       "│ lstm_12 (\u001b[38;5;33mLSTM\u001b[0m)                  │ (\u001b[38;5;45mNone\u001b[0m, \u001b[38;5;34m5\u001b[0m, \u001b[38;5;34m100\u001b[0m)         │        \u001b[38;5;34m44,000\u001b[0m │\n",
       "├─────────────────────────────────┼────────────────────────┼───────────────┤\n",
       "│ dropout_12 (\u001b[38;5;33mDropout\u001b[0m)            │ (\u001b[38;5;45mNone\u001b[0m, \u001b[38;5;34m5\u001b[0m, \u001b[38;5;34m100\u001b[0m)         │             \u001b[38;5;34m0\u001b[0m │\n",
       "├─────────────────────────────────┼────────────────────────┼───────────────┤\n",
       "│ lstm_13 (\u001b[38;5;33mLSTM\u001b[0m)                  │ (\u001b[38;5;45mNone\u001b[0m, \u001b[38;5;34m5\u001b[0m, \u001b[38;5;34m80\u001b[0m)          │        \u001b[38;5;34m57,920\u001b[0m │\n",
       "├─────────────────────────────────┼────────────────────────┼───────────────┤\n",
       "│ dropout_13 (\u001b[38;5;33mDropout\u001b[0m)            │ (\u001b[38;5;45mNone\u001b[0m, \u001b[38;5;34m5\u001b[0m, \u001b[38;5;34m80\u001b[0m)          │             \u001b[38;5;34m0\u001b[0m │\n",
       "├─────────────────────────────────┼────────────────────────┼───────────────┤\n",
       "│ lstm_14 (\u001b[38;5;33mLSTM\u001b[0m)                  │ (\u001b[38;5;45mNone\u001b[0m, \u001b[38;5;34m5\u001b[0m, \u001b[38;5;34m50\u001b[0m)          │        \u001b[38;5;34m26,200\u001b[0m │\n",
       "├─────────────────────────────────┼────────────────────────┼───────────────┤\n",
       "│ dropout_14 (\u001b[38;5;33mDropout\u001b[0m)            │ (\u001b[38;5;45mNone\u001b[0m, \u001b[38;5;34m5\u001b[0m, \u001b[38;5;34m50\u001b[0m)          │             \u001b[38;5;34m0\u001b[0m │\n",
       "├─────────────────────────────────┼────────────────────────┼───────────────┤\n",
       "│ lstm_15 (\u001b[38;5;33mLSTM\u001b[0m)                  │ (\u001b[38;5;45mNone\u001b[0m, \u001b[38;5;34m30\u001b[0m)             │         \u001b[38;5;34m9,720\u001b[0m │\n",
       "├─────────────────────────────────┼────────────────────────┼───────────────┤\n",
       "│ dropout_15 (\u001b[38;5;33mDropout\u001b[0m)            │ (\u001b[38;5;45mNone\u001b[0m, \u001b[38;5;34m30\u001b[0m)             │             \u001b[38;5;34m0\u001b[0m │\n",
       "├─────────────────────────────────┼────────────────────────┼───────────────┤\n",
       "│ dense_3 (\u001b[38;5;33mDense\u001b[0m)                 │ (\u001b[38;5;45mNone\u001b[0m, \u001b[38;5;34m1\u001b[0m)              │            \u001b[38;5;34m31\u001b[0m │\n",
       "└─────────────────────────────────┴────────────────────────┴───────────────┘\n"
      ]
     },
     "metadata": {},
     "output_type": "display_data"
    },
    {
     "data": {
      "text/html": [
       "<pre style=\"white-space:pre;overflow-x:auto;line-height:normal;font-family:Menlo,'DejaVu Sans Mono',consolas,'Courier New',monospace\"><span style=\"font-weight: bold\"> Total params: </span><span style=\"color: #00af00; text-decoration-color: #00af00\">137,871</span> (538.56 KB)\n",
       "</pre>\n"
      ],
      "text/plain": [
       "\u001b[1m Total params: \u001b[0m\u001b[38;5;34m137,871\u001b[0m (538.56 KB)\n"
      ]
     },
     "metadata": {},
     "output_type": "display_data"
    },
    {
     "data": {
      "text/html": [
       "<pre style=\"white-space:pre;overflow-x:auto;line-height:normal;font-family:Menlo,'DejaVu Sans Mono',consolas,'Courier New',monospace\"><span style=\"font-weight: bold\"> Trainable params: </span><span style=\"color: #00af00; text-decoration-color: #00af00\">137,871</span> (538.56 KB)\n",
       "</pre>\n"
      ],
      "text/plain": [
       "\u001b[1m Trainable params: \u001b[0m\u001b[38;5;34m137,871\u001b[0m (538.56 KB)\n"
      ]
     },
     "metadata": {},
     "output_type": "display_data"
    },
    {
     "data": {
      "text/html": [
       "<pre style=\"white-space:pre;overflow-x:auto;line-height:normal;font-family:Menlo,'DejaVu Sans Mono',consolas,'Courier New',monospace\"><span style=\"font-weight: bold\"> Non-trainable params: </span><span style=\"color: #00af00; text-decoration-color: #00af00\">0</span> (0.00 B)\n",
       "</pre>\n"
      ],
      "text/plain": [
       "\u001b[1m Non-trainable params: \u001b[0m\u001b[38;5;34m0\u001b[0m (0.00 B)\n"
      ]
     },
     "metadata": {},
     "output_type": "display_data"
    },
    {
     "name": "stdout",
     "output_type": "stream",
     "text": [
      "Epoch 1/25\n",
      "\u001b[1m65/65\u001b[0m \u001b[32m━━━━━━━━━━━━━━━━━━━━\u001b[0m\u001b[37m\u001b[0m \u001b[1m8s\u001b[0m 23ms/step - loss: 0.0202 - val_loss: 0.0019\n",
      "Epoch 2/25\n",
      "\u001b[1m65/65\u001b[0m \u001b[32m━━━━━━━━━━━━━━━━━━━━\u001b[0m\u001b[37m\u001b[0m \u001b[1m1s\u001b[0m 13ms/step - loss: 0.0017 - val_loss: 0.0012\n",
      "Epoch 3/25\n",
      "\u001b[1m65/65\u001b[0m \u001b[32m━━━━━━━━━━━━━━━━━━━━\u001b[0m\u001b[37m\u001b[0m \u001b[1m1s\u001b[0m 13ms/step - loss: 0.0013 - val_loss: 0.0070\n",
      "Epoch 4/25\n",
      "\u001b[1m65/65\u001b[0m \u001b[32m━━━━━━━━━━━━━━━━━━━━\u001b[0m\u001b[37m\u001b[0m \u001b[1m1s\u001b[0m 14ms/step - loss: 0.0013 - val_loss: 0.0028\n",
      "Epoch 5/25\n",
      "\u001b[1m65/65\u001b[0m \u001b[32m━━━━━━━━━━━━━━━━━━━━\u001b[0m\u001b[37m\u001b[0m \u001b[1m1s\u001b[0m 14ms/step - loss: 0.0011 - val_loss: 0.0017\n",
      "Epoch 6/25\n",
      "\u001b[1m65/65\u001b[0m \u001b[32m━━━━━━━━━━━━━━━━━━━━\u001b[0m\u001b[37m\u001b[0m \u001b[1m1s\u001b[0m 13ms/step - loss: 0.0010 - val_loss: 0.0029\n",
      "Epoch 7/25\n",
      "\u001b[1m61/65\u001b[0m \u001b[32m━━━━━━━━━━━━━━━━━━\u001b[0m\u001b[37m━━\u001b[0m \u001b[1m0s\u001b[0m 11ms/step - loss: 9.4364e-04Epoch 7: early stopping as val_loss has reached below baseline\n",
      "\u001b[1m65/65\u001b[0m \u001b[32m━━━━━━━━━━━━━━━━━━━━\u001b[0m\u001b[37m\u001b[0m \u001b[1m1s\u001b[0m 12ms/step - loss: 9.3951e-04 - val_loss: 9.0114e-04\n"
     ]
    },
    {
     "data": {
      "text/plain": [
       "<keras.src.callbacks.history.History at 0x249889e70e0>"
      ]
     },
     "execution_count": 26,
     "metadata": {},
     "output_type": "execute_result"
    }
   ],
   "source": [
    "\n",
    "from keras.models import Sequential\n",
    "from keras.layers import LSTM, Dropout, Dense\n",
    "\n",
    "import tensorflow as tf\n",
    "\n",
    "# Hyperparameters\n",
    "\n",
    "np.random.seed(21)\n",
    "tf.random.set_seed(42)\n",
    "\n",
    "batchSize = 32\n",
    "epoch = 25\n",
    "\n",
    "neurons = [100, 80, 50, 30]  # LSTM units in each layer, matching code1\n",
    "\n",
    "# LSTM architecture\n",
    "model = Sequential()\n",
    "\n",
    "# First LSTM layer with Dropout regularisation\n",
    "model.add(LSTM(units=neurons[0], return_sequences=True, input_shape=(lookBack, features.shape[1])))\n",
    "model.add(Dropout(0.3))\n",
    "\n",
    "# Second LSTM layer with Dropout regularisation\n",
    "model.add(LSTM(units=neurons[1], return_sequences=True))\n",
    "model.add(Dropout(0.1))\n",
    "\n",
    "# Third LSTM layer with Dropout regularisation\n",
    "model.add(LSTM(units=neurons[2], return_sequences=True))\n",
    "model.add(Dropout(0.2))\n",
    "\n",
    "# Fourth LSTM layer with Dropout regularisation\n",
    "model.add(LSTM(units=neurons[3]))\n",
    "model.add(Dropout(0.3))\n",
    "\n",
    "# Output layer\n",
    "model.add(Dense(units=1))\n",
    "model.summary()\n",
    "\n",
    "# Compile the model\n",
    "model.compile(loss='mean_squared_error', optimizer='adam')\n",
    "from keras.callbacks import Callback\n",
    "\n",
    "\n",
    "class CustomEarlyStopping(Callback):\n",
    "    def __init__(self, baseline):\n",
    "        super(CustomEarlyStopping, self).__init__()\n",
    "        self.baseline = baseline\n",
    "\n",
    "    def on_epoch_end(self, epoch, logs=None):\n",
    "        current = logs.get('val_loss')\n",
    "        if np.less(current, self.baseline):\n",
    "            self.model.stop_training = True\n",
    "            print(f\"Epoch {epoch+1}: early stopping as val_loss has reached below baseline\")\n",
    "\n",
    "\n",
    "early_stop = CustomEarlyStopping(baseline=0.00099999)\n",
    "model.fit(trainX, trainY, epochs=epoch, batch_size=batchSize, verbose=1, validation_split=0.2, callbacks=[early_stop])\n",
    "#model.fit(trainX, trainY, epochs=epoch, batch_size=batchSize, verbose=1, validation_split=0.2)\n"
   ]
  },
  {
   "cell_type": "markdown",
   "metadata": {},
   "source": [
    "### 4.5. Testing the model\n",
    "\n",
    "- 4.5.1. Running prediction over the training set and testing set\n",
    "- 4.5.2. Calculating the score and accuracy of the model\n",
    "- 4.5.3. Visualizing the data\n"
   ]
  },
  {
   "cell_type": "markdown",
   "metadata": {},
   "source": [
    "#### 4.5.1. Running prediction over the training set and testing set\n"
   ]
  },
  {
   "cell_type": "code",
   "execution_count": 27,
   "metadata": {},
   "outputs": [
    {
     "name": "stdout",
     "output_type": "stream",
     "text": [
      "\u001b[1m81/81\u001b[0m \u001b[32m━━━━━━━━━━━━━━━━━━━━\u001b[0m\u001b[37m\u001b[0m \u001b[1m2s\u001b[0m 14ms/step\n",
      "\u001b[1m5/5\u001b[0m \u001b[32m━━━━━━━━━━━━━━━━━━━━\u001b[0m\u001b[37m\u001b[0m \u001b[1m0s\u001b[0m 4ms/step \n"
     ]
    },
    {
     "data": {
      "text/plain": [
       "'after this , trainPredictInv, trainYInv, testPredictInv, and testYInv will \\ncontain the predictions and actual values in their original scale,'"
      ]
     },
     "execution_count": 27,
     "metadata": {},
     "output_type": "execute_result"
    }
   ],
   "source": [
    "trainPredict = model.predict(trainX)#predicted values from your model for training data\n",
    "testPredict = model.predict(testX)#predicted values from your model for testing data\n",
    "\n",
    "trainPredictInv = scalerTarget.inverse_transform(trainPredict)#inverse transform to get the original values\n",
    "trainYInv = scalerTarget.inverse_transform(np.reshape(trainY, (trainY.shape[0], 1)))\n",
    "testPredictInv = scalerTarget.inverse_transform(testPredict)\n",
    "testYInv = scalerTarget.inverse_transform(np.reshape(testY, (testY.shape[0], 1)))\n",
    "\n",
    "'''after this , trainPredictInv, trainYInv, testPredictInv, and testYInv will \n",
    "contain the predictions and actual values in their original scale,'''"
   ]
  },
  {
   "cell_type": "markdown",
   "metadata": {},
   "source": [
    "The variables `trainYInv` and `testYInv` contain the original values that your model tried to predict. These are the actual values in their original scale.\n",
    "\n",
    "Here's a brief explanation of what each variable represents:\n",
    "\n",
    "- `trainPredict`: The predicted values from your model for the training data, in the scaled form.\n",
    "- `testPredict`: The predicted values from your model for the test data, in the scaled form.\n",
    "- `trainPredictInv`: The predicted values from your model for the training data, inverse transformed to get the original values.\n",
    "- `testPredictInv`: The predicted values from your model for the test data, inverse transformed to get the original values.\n",
    "- `trainYInv`: The actual values for the training data in their original scale. These are the values that your model tried to predict.\n",
    "- `testYInv`: The actual values for the test data in their original scale. These are the values that your model tried to predict.\n",
    "\n",
    "So, if you want to see the original values that your model tried to predict, you should look at `trainYInv` and `testYInv`.\n"
   ]
  },
  {
   "cell_type": "markdown",
   "metadata": {},
   "source": [
    "#### 4.5.2. Calculating the score and accuracy of the model\n"
   ]
  },
  {
   "cell_type": "code",
   "execution_count": 28,
   "metadata": {},
   "outputs": [
    {
     "name": "stdout",
     "output_type": "stream",
     "text": [
      "Training RMSE: 30.385336498487025\n",
      "Testing RMSE: 44.32108016327312\n",
      "Training Accuracy: 96.22%\n",
      "Testing Accuracy: 96.87%\n"
     ]
    }
   ],
   "source": [
    "trainScore = np.sqrt(mean_squared_error(trainYInv[:, 0], trainPredictInv[:, 0]))\n",
    "print(f'Training RMSE: {trainScore}')\n",
    "testScore = np.sqrt(mean_squared_error(testYInv[:, 0], testPredictInv[:, 0]))\n",
    "print(f'Testing RMSE: {testScore}')\n",
    "trainAccuracy = 100 - (trainScore / np.mean(trainYInv) * 100)\n",
    "testAccuracy = 100 - (testScore / np.mean(testYInv) * 100)\n",
    "print(f'Training Accuracy: {trainAccuracy:.2f}%')\n",
    "print(f'Testing Accuracy: {testAccuracy:.2f}%')"
   ]
  },
  {
   "cell_type": "markdown",
   "metadata": {},
   "source": [
    "#### 4.5.3. Visualizing the data\n",
    "\n",
    "- On the x-axis, the dates are displayed after every 30 days\n",
    "- Test set is appended to the training set to better visualize if the prediction looks good\n"
   ]
  },
  {
   "cell_type": "code",
   "execution_count": 29,
   "metadata": {},
   "outputs": [
    {
     "data": {
      "image/png": "[encoded data removed]",
      "text/plain": [
       "<Figure size 2000x1000 with 1 Axes>"
      ]
     },
     "metadata": {},
     "output_type": "display_data"
    }
   ],
   "source": [
    "dates = df['Date'].values\n",
    "sampleInterval = 60\n",
    "sampledDates = dates[::sampleInterval]\n",
    "\n",
    "plt.figure(figsize=(20, 10))\n",
    "plt.plot(dates[:len(trainY)], trainY, label='Actual Train')\n",
    "plt.plot(dates[:len(trainPredict)], trainPredict, label='Predicted Train')\n",
    "plt.plot(dates[len(trainY):len(trainY) + len(testY)], testY, label='Actual Test')\n",
    "plt.plot(dates[len(trainPredict):len(trainPredict) + len(testPredict)], testPredict, label='Predicted Test')\n",
    "\n",
    "plt.xticks(sampledDates, rotation=90)\n",
    "\n",
    "plt.legend()\n",
    "plt.show()"
   ]
  },
  {
   "cell_type": "code",
   "execution_count": 30,
   "metadata": {},
   "outputs": [
    {
     "data": {
      "application/vnd.plotly.v1+json": {
       "config": {
        "plotlyServerURL": "https://plot.ly"
       },
       "data": [
        {
         "hovertemplate": "Type=Actual Open Price<br>Date=%{x}<br>Price=%{y}<extra></extra>",
         "legendgroup": "Actual Open Price",
         "line": {
          "color": "green",
          "dash": "solid"
         },
         "marker": {
          "symbol": "circle"
         },
         "mode": "lines",
         "name": "Actual Open Price",
         "orientation": "v",
         "showlegend": true,
         "type": "scatter",
         "x": [
          "2023-06-13",
          "2023-06-14",
          "2023-06-15",
          "2023-06-16",
          "2023-06-19",
          "2023-06-20",
          "2023-06-21",
          "2023-06-22",
          "2023-06-23",
          "2023-06-26",
          "2023-06-27",
          "2023-06-28",
          "2023-06-30",
          "2023-07-03",
          "2023-07-04",
          "2023-07-05",
          "2023-07-06",
          "2023-07-07",
          "2023-07-10",
          "2023-07-11",
          "2023-07-12",
          "2023-07-13",
          "2023-07-14",
          "2023-07-17",
          "2023-07-18",
          "2023-07-19",
          "2023-07-20",
          "2023-07-21",
          "2023-07-24",
          "2023-07-25",
          "2023-07-26",
          "2023-07-27",
          "2023-07-28",
          "2023-07-31",
          "2023-08-01",
          "2023-08-02",
          "2023-08-03",
          "2023-08-04",
          "2023-08-07",
          "2023-08-08",
          "2023-08-09",
          "2023-08-10",
          "2023-08-11",
          "2023-08-14",
          "2023-08-16",
          "2023-08-17",
          "2023-08-18",
          "2023-08-21",
          "2023-08-22",
          "2023-08-23",
          "2023-08-24",
          "2023-08-25",
          "2023-08-28",
          "2023-08-29",
          "2023-08-30",
          "2023-08-31",
          "2023-09-01",
          "2023-09-04",
          "2023-09-05",
          "2023-09-06",
          "2023-09-07",
          "2023-09-08",
          "2023-09-11",
          "2023-09-12",
          "2023-09-13",
          "2023-09-14",
          "2023-09-15",
          "2023-09-18",
          "2023-09-20",
          "2023-09-21",
          "2023-09-22",
          "2023-09-25",
          "2023-09-26",
          "2023-09-27",
          "2023-09-28",
          "2023-09-29",
          "2023-10-03",
          "2023-10-04",
          "2023-10-05",
          "2023-10-06",
          "2023-10-09",
          "2023-10-10",
          "2023-10-11",
          "2023-10-12",
          "2023-10-13",
          "2023-10-16",
          "2023-10-17",
          "2023-10-18",
          "2023-10-19",
          "2023-10-20",
          "2023-10-23",
          "2023-10-25",
          "2023-10-26",
          "2023-10-27",
          "2023-10-30",
          "2023-10-31",
          "2023-11-01",
          "2023-11-02",
          "2023-11-03",
          "2023-11-06",
          "2023-11-07",
          "2023-11-08",
          "2023-11-09",
          "2023-11-10",
          "2023-11-13",
          "2023-11-15",
          "2023-11-16",
          "2023-11-17",
          "2023-11-20",
          "2023-11-21",
          "2023-11-22",
          "2023-11-23",
          "2023-11-24",
          "2023-11-28",
          "2023-11-29",
          "2023-11-30",
          "2023-12-01",
          "2023-12-04",
          "2023-12-05",
          "2023-12-06",
          "2023-12-07",
          "2023-12-08",
          "2023-12-11",
          "2023-12-12",
          "2023-12-13",
          "2023-12-14",
          "2023-12-15",
          "2023-12-18",
          "2023-12-19",
          "2023-12-20",
          "2023-12-21",
          "2023-12-22",
          "2023-12-26",
          "2023-12-27",
          "2023-12-28",
          "2023-12-29"
         ],
         "xaxis": "x",
         "y": [
          1299.9000244140625,
          1306.3499755859375,
          1293.949951171875,
          1287,
          1294,
          1294,
          1299.949951171875,
          1289.4000244140625,
          1276.449951171875,
          1270.25,
          1280,
          1290,
          1308.199951171875,
          1330,
          1344.300048828125,
          1357.8499755859375,
          1342.550048828125,
          1334,
          1336.550048828125,
          1333.449951171875,
          1351,
          1334.9000244140625,
          1380.6500244140625,
          1425.949951171875,
          1434,
          1486,
          1471,
          1320.199951171875,
          1341,
          1337,
          1343,
          1358.5999755859375,
          1353.8499755859375,
          1348.75,
          1362,
          1369.300048828125,
          1350,
          1368.9000244140625,
          1387.9000244140625,
          1392.8499755859375,
          1384,
          1391.5999755859375,
          1392,
          1371.8499755859375,
          1410.800048828125,
          1420,
          1403.699951171875,
          1389.75,
          1404.699951171875,
          1416,
          1421.5,
          1413,
          1420.0999755859375,
          1424,
          1427,
          1435.1500244140625,
          1430.949951171875,
          1443,
          1465,
          1481.9000244140625,
          1470.5999755859375,
          1463.5,
          1469.5999755859375,
          1482.5,
          1505,
          1505,
          1518,
          1504.9000244140625,
          1476.199951171875,
          1486.550048828125,
          1491.9000244140625,
          1489.8499755859375,
          1479.1500244140625,
          1456,
          1467.9000244140625,
          1432.0999755859375,
          1436.050048828125,
          1425,
          1452,
          1469.5,
          1464.9000244140625,
          1483.9000244140625,
          1497,
          1491.9000244140625,
          1405,
          1432.0999755859375,
          1440.25,
          1442,
          1426.0999755859375,
          1430,
          1425.5999755859375,
          1399,
          1355.050048828125,
          1363.6500244140625,
          1380.3499755859375,
          1379.949951171875,
          1373.050048828125,
          1370,
          1380.050048828125,
          1393.9000244140625,
          1400,
          1405,
          1395.9000244140625,
          1369.949951171875,
          1379.8499755859375,
          1399,
          1416.0999755859375,
          1441.050048828125,
          1442,
          1442,
          1436.199951171875,
          1467.9000244140625,
          1445.550048828125,
          1444,
          1451.0999755859375,
          1453.25,
          1459.9000244140625,
          1460.449951171875,
          1465.800048828125,
          1456.75,
          1472.8499755859375,
          1470.4000244140625,
          1490,
          1477.5,
          1476,
          1463.4000244140625,
          1523.050048828125,
          1567.949951171875,
          1570.0999755859375,
          1565.050048828125,
          1521.25,
          1534.949951171875,
          1535,
          1544,
          1568.949951171875,
          1541.050048828125
         ],
         "yaxis": "y"
        },
        {
         "hovertemplate": "Type=Predicted Open Price<br>Date=%{x}<br>Price=%{y}<extra></extra>",
         "legendgroup": "Predicted Open Price",
         "line": {
          "color": "red",
          "dash": "solid"
         },
         "marker": {
          "symbol": "circle"
         },
         "mode": "lines",
         "name": "Predicted Open Price",
         "orientation": "v",
         "showlegend": true,
         "type": "scatter",
         "x": [
          "2023-06-13",
          "2023-06-14",
          "2023-06-15",
          "2023-06-16",
          "2023-06-19",
          "2023-06-20",
          "2023-06-21",
          "2023-06-22",
          "2023-06-23",
          "2023-06-26",
          "2023-06-27",
          "2023-06-28",
          "2023-06-30",
          "2023-07-03",
          "2023-07-04",
          "2023-07-05",
          "2023-07-06",
          "2023-07-07",
          "2023-07-10",
          "2023-07-11",
          "2023-07-12",
          "2023-07-13",
          "2023-07-14",
          "2023-07-17",
          "2023-07-18",
          "2023-07-19",
          "2023-07-20",
          "2023-07-21",
          "2023-07-24",
          "2023-07-25",
          "2023-07-26",
          "2023-07-27",
          "2023-07-28",
          "2023-07-31",
          "2023-08-01",
          "2023-08-02",
          "2023-08-03",
          "2023-08-04",
          "2023-08-07",
          "2023-08-08",
          "2023-08-09",
          "2023-08-10",
          "2023-08-11",
          "2023-08-14",
          "2023-08-16",
          "2023-08-17",
          "2023-08-18",
          "2023-08-21",
          "2023-08-22",
          "2023-08-23",
          "2023-08-24",
          "2023-08-25",
          "2023-08-28",
          "2023-08-29",
          "2023-08-30",
          "2023-08-31",
          "2023-09-01",
          "2023-09-04",
          "2023-09-05",
          "2023-09-06",
          "2023-09-07",
          "2023-09-08",
          "2023-09-11",
          "2023-09-12",
          "2023-09-13",
          "2023-09-14",
          "2023-09-15",
          "2023-09-18",
          "2023-09-20",
          "2023-09-21",
          "2023-09-22",
          "2023-09-25",
          "2023-09-26",
          "2023-09-27",
          "2023-09-28",
          "2023-09-29",
          "2023-10-03",
          "2023-10-04",
          "2023-10-05",
          "2023-10-06",
          "2023-10-09",
          "2023-10-10",
          "2023-10-11",
          "2023-10-12",
          "2023-10-13",
          "2023-10-16",
          "2023-10-17",
          "2023-10-18",
          "2023-10-19",
          "2023-10-20",
          "2023-10-23",
          "2023-10-25",
          "2023-10-26",
          "2023-10-27",
          "2023-10-30",
          "2023-10-31",
          "2023-11-01",
          "2023-11-02",
          "2023-11-03",
          "2023-11-06",
          "2023-11-07",
          "2023-11-08",
          "2023-11-09",
          "2023-11-10",
          "2023-11-13",
          "2023-11-15",
          "2023-11-16",
          "2023-11-17",
          "2023-11-20",
          "2023-11-21",
          "2023-11-22",
          "2023-11-23",
          "2023-11-24",
          "2023-11-28",
          "2023-11-29",
          "2023-11-30",
          "2023-12-01",
          "2023-12-04",
          "2023-12-05",
          "2023-12-06",
          "2023-12-07",
          "2023-12-08",
          "2023-12-11",
          "2023-12-12",
          "2023-12-13",
          "2023-12-14",
          "2023-12-15",
          "2023-12-18",
          "2023-12-19",
          "2023-12-20",
          "2023-12-21",
          "2023-12-22",
          "2023-12-26",
          "2023-12-27",
          "2023-12-28",
          "2023-12-29"
         ],
         "xaxis": "x",
         "y": [
          1320.9920654296875,
          1323.6898193359375,
          1322.59765625,
          1321.9365234375,
          1331.8924560546875,
          1335.940673828125,
          1332.2547607421875,
          1328.8319091796875,
          1331.546875,
          1332.388916015625,
          1330.8681640625,
          1323.990966796875,
          1314.5128173828125,
          1313.1986083984375,
          1319.87109375,
          1334.63623046875,
          1352.1839599609375,
          1370.8638916015625,
          1377.1197509765625,
          1379.58447265625,
          1379.654052734375,
          1374.827392578125,
          1372.40625,
          1376.572265625,
          1388.3349609375,
          1403.6591796875,
          1432.8133544921875,
          1465.4376220703125,
          1479.864013671875,
          1483.2728271484375,
          1464.331787109375,
          1418.962890625,
          1368.7548828125,
          1377.648681640625,
          1379.520263671875,
          1386.1434326171875,
          1388.8182373046875,
          1388.51708984375,
          1392.96875,
          1399.4190673828125,
          1401.3929443359375,
          1408.30712890625,
          1418.5352783203125,
          1423.994384765625,
          1423.9808349609375,
          1423.718017578125,
          1423.5360107421875,
          1425.051025390625,
          1434.063232421875,
          1442.719482421875,
          1438.2271728515625,
          1433.77490234375,
          1438.5391845703125,
          1443.194091796875,
          1448.8787841796875,
          1452.5325927734375,
          1452.59765625,
          1455.433349609375,
          1460.9678955078125,
          1469.249267578125,
          1475.559814453125,
          1484.1270751953125,
          1494.857666015625,
          1500.344970703125,
          1500.364990234375,
          1500.1365966796875,
          1505.578369140625,
          1514.28076171875,
          1524.6934814453125,
          1527.9180908203125,
          1529.7911376953125,
          1526.91748046875,
          1518.9674072265625,
          1516.8739013671875,
          1517.109130859375,
          1511.8194580078125,
          1500.4549560546875,
          1489.0828857421875,
          1481.2015380859375,
          1472.34228515625,
          1468.3316650390625,
          1474.3583984375,
          1486.3388671875,
          1500.6353759765625,
          1507.2734375,
          1508.8685302734375,
          1508.3265380859375,
          1499.609375,
          1479.535888671875,
          1468.7459716796875,
          1472.8656005859375,
          1472.4176025390625,
          1466.8951416015625,
          1456.1541748046875,
          1444.2398681640625,
          1426.3824462890625,
          1408.591552734375,
          1404.5806884765625,
          1408.3792724609375,
          1406.368896484375,
          1406.3076171875,
          1408.98876953125,
          1418.248291015625,
          1428.3988037109375,
          1432.0008544921875,
          1427.419189453125,
          1419.808349609375,
          1415.0147705078125,
          1419.3914794921875,
          1436.383544921875,
          1457.4237060546875,
          1471.1285400390625,
          1473.79541015625,
          1475.4283447265625,
          1477.875244140625,
          1480.5462646484375,
          1479.0140380859375,
          1475.6116943359375,
          1479.7664794921875,
          1487.7020263671875,
          1488.285400390625,
          1487.5126953125,
          1491.3682861328125,
          1493.225830078125,
          1500.9512939453125,
          1504.8907470703125,
          1510.289306640625,
          1509.8380126953125,
          1510.084228515625,
          1522.06005859375,
          1555.1719970703125,
          1581.1258544921875,
          1579.5615234375,
          1570.81201171875,
          1565.664794921875,
          1563.314697265625
         ],
         "yaxis": "y"
        }
       ],
       "layout": {
        "font": {
         "color": "black",
         "size": 13
        },
        "legend": {
         "title": {
          "text": "Open Price"
         },
         "tracegroupgap": 0
        },
        "margin": {
         "t": 60
        },
        "plot_bgcolor": "white",
        "template": {
         "data": {
          "bar": [
           {
            "error_x": {
             "color": "#2a3f5f"
            },
            "error_y": {
             "color": "#2a3f5f"
            },
            "marker": {
             "line": {
              "color": "#E5ECF6",
              "width": 0.5
             },
             "pattern": {
              "fillmode": "overlay",
              "size": 10,
              "solidity": 0.2
             }
            },
            "type": "bar"
           }
          ],
          "barpolar": [
           {
            "marker": {
             "line": {
              "color": "#E5ECF6",
              "width": 0.5
             },
             "pattern": {
              "fillmode": "overlay",
              "size": 10,
              "solidity": 0.2
             }
            },
            "type": "barpolar"
           }
          ],
          "carpet": [
           {
            "aaxis": {
             "endlinecolor": "#2a3f5f",
             "gridcolor": "white",
             "linecolor": "white",
             "minorgridcolor": "white",
             "startlinecolor": "#2a3f5f"
            },
            "baxis": {
             "endlinecolor": "#2a3f5f",
             "gridcolor": "white",
             "linecolor": "white",
             "minorgridcolor": "white",
             "startlinecolor": "#2a3f5f"
            },
            "type": "carpet"
           }
          ],
          "choropleth": [
           {
            "colorbar": {
             "outlinewidth": 0,
             "ticks": ""
            },
            "type": "choropleth"
           }
          ],
          "contour": [
           {
            "colorbar": {
             "outlinewidth": 0,
             "ticks": ""
            },
            "colorscale": [
             [
              0,
              "#0d0887"
             ],
             [
              0.1111111111111111,
              "#46039f"
             ],
             [
              0.2222222222222222,
              "#7201a8"
             ],
             [
              0.3333333333333333,
              "#9c179e"
             ],
             [
              0.4444444444444444,
              "#bd3786"
             ],
             [
              0.5555555555555556,
              "#d8576b"
             ],
             [
              0.6666666666666666,
              "#ed7953"
             ],
             [
              0.7777777777777778,
              "#fb9f3a"
             ],
             [
              0.8888888888888888,
              "#fdca26"
             ],
             [
              1,
              "#f0f921"
             ]
            ],
            "type": "contour"
           }
          ],
          "contourcarpet": [
           {
            "colorbar": {
             "outlinewidth": 0,
             "ticks": ""
            },
            "type": "contourcarpet"
           }
          ],
          "heatmap": [
           {
            "colorbar": {
             "outlinewidth": 0,
             "ticks": ""
            },
            "colorscale": [
             [
              0,
              "#0d0887"
             ],
             [
              0.1111111111111111,
              "#46039f"
             ],
             [
              0.2222222222222222,
              "#7201a8"
             ],
             [
              0.3333333333333333,
              "#9c179e"
             ],
             [
              0.4444444444444444,
              "#bd3786"
             ],
             [
              0.5555555555555556,
              "#d8576b"
             ],
             [
              0.6666666666666666,
              "#ed7953"
             ],
             [
              0.7777777777777778,
              "#fb9f3a"
             ],
             [
              0.8888888888888888,
              "#fdca26"
             ],
             [
              1,
              "#f0f921"
             ]
            ],
            "type": "heatmap"
           }
          ],
          "heatmapgl": [
           {
            "colorbar": {
             "outlinewidth": 0,
             "ticks": ""
            },
            "colorscale": [
             [
              0,
              "#0d0887"
             ],
             [
              0.1111111111111111,
              "#46039f"
             ],
             [
              0.2222222222222222,
              "#7201a8"
             ],
             [
              0.3333333333333333,
              "#9c179e"
             ],
             [
              0.4444444444444444,
              "#bd3786"
             ],
             [
              0.5555555555555556,
              "#d8576b"
             ],
             [
              0.6666666666666666,
              "#ed7953"
             ],
             [
              0.7777777777777778,
              "#fb9f3a"
             ],
             [
              0.8888888888888888,
              "#fdca26"
             ],
             [
              1,
              "#f0f921"
             ]
            ],
            "type": "heatmapgl"
           }
          ],
          "histogram": [
           {
            "marker": {
             "pattern": {
              "fillmode": "overlay",
              "size": 10,
              "solidity": 0.2
             }
            },
            "type": "histogram"
           }
          ],
          "histogram2d": [
           {
            "colorbar": {
             "outlinewidth": 0,
             "ticks": ""
            },
            "colorscale": [
             [
              0,
              "#0d0887"
             ],
             [
              0.1111111111111111,
              "#46039f"
             ],
             [
              0.2222222222222222,
              "#7201a8"
             ],
             [
              0.3333333333333333,
              "#9c179e"
             ],
             [
              0.4444444444444444,
              "#bd3786"
             ],
             [
              0.5555555555555556,
              "#d8576b"
             ],
             [
              0.6666666666666666,
              "#ed7953"
             ],
             [
              0.7777777777777778,
              "#fb9f3a"
             ],
             [
              0.8888888888888888,
              "#fdca26"
             ],
             [
              1,
              "#f0f921"
             ]
            ],
            "type": "histogram2d"
           }
          ],
          "histogram2dcontour": [
           {
            "colorbar": {
             "outlinewidth": 0,
             "ticks": ""
            },
            "colorscale": [
             [
              0,
              "#0d0887"
             ],
             [
              0.1111111111111111,
              "#46039f"
             ],
             [
              0.2222222222222222,
              "#7201a8"
             ],
             [
              0.3333333333333333,
              "#9c179e"
             ],
             [
              0.4444444444444444,
              "#bd3786"
             ],
             [
              0.5555555555555556,
              "#d8576b"
             ],
             [
              0.6666666666666666,
              "#ed7953"
             ],
             [
              0.7777777777777778,
              "#fb9f3a"
             ],
             [
              0.8888888888888888,
              "#fdca26"
             ],
             [
              1,
              "#f0f921"
             ]
            ],
            "type": "histogram2dcontour"
           }
          ],
          "mesh3d": [
           {
            "colorbar": {
             "outlinewidth": 0,
             "ticks": ""
            },
            "type": "mesh3d"
           }
          ],
          "parcoords": [
           {
            "line": {
             "colorbar": {
              "outlinewidth": 0,
              "ticks": ""
             }
            },
            "type": "parcoords"
           }
          ],
          "pie": [
           {
            "automargin": true,
            "type": "pie"
           }
          ],
          "scatter": [
           {
            "fillpattern": {
             "fillmode": "overlay",
             "size": 10,
             "solidity": 0.2
            },
            "type": "scatter"
           }
          ],
          "scatter3d": [
           {
            "line": {
             "colorbar": {
              "outlinewidth": 0,
              "ticks": ""
             }
            },
            "marker": {
             "colorbar": {
              "outlinewidth": 0,
              "ticks": ""
             }
            },
            "type": "scatter3d"
           }
          ],
          "scattercarpet": [
           {
            "marker": {
             "colorbar": {
              "outlinewidth": 0,
              "ticks": ""
             }
            },
            "type": "scattercarpet"
           }
          ],
          "scattergeo": [
           {
            "marker": {
             "colorbar": {
              "outlinewidth": 0,
              "ticks": ""
             }
            },
            "type": "scattergeo"
           }
          ],
          "scattergl": [
           {
            "marker": {
             "colorbar": {
              "outlinewidth": 0,
              "ticks": ""
             }
            },
            "type": "scattergl"
           }
          ],
          "scattermapbox": [
           {
            "marker": {
             "colorbar": {
              "outlinewidth": 0,
              "ticks": ""
             }
            },
            "type": "scattermapbox"
           }
          ],
          "scatterpolar": [
           {
            "marker": {
             "colorbar": {
              "outlinewidth": 0,
              "ticks": ""
             }
            },
            "type": "scatterpolar"
           }
          ],
          "scatterpolargl": [
           {
            "marker": {
             "colorbar": {
              "outlinewidth": 0,
              "ticks": ""
             }
            },
            "type": "scatterpolargl"
           }
          ],
          "scatterternary": [
           {
            "marker": {
             "colorbar": {
              "outlinewidth": 0,
              "ticks": ""
             }
            },
            "type": "scatterternary"
           }
          ],
          "surface": [
           {
            "colorbar": {
             "outlinewidth": 0,
             "ticks": ""
            },
            "colorscale": [
             [
              0,
              "#0d0887"
             ],
             [
              0.1111111111111111,
              "#46039f"
             ],
             [
              0.2222222222222222,
              "#7201a8"
             ],
             [
              0.3333333333333333,
              "#9c179e"
             ],
             [
              0.4444444444444444,
              "#bd3786"
             ],
             [
              0.5555555555555556,
              "#d8576b"
             ],
             [
              0.6666666666666666,
              "#ed7953"
             ],
             [
              0.7777777777777778,
              "#fb9f3a"
             ],
             [
              0.8888888888888888,
              "#fdca26"
             ],
             [
              1,
              "#f0f921"
             ]
            ],
            "type": "surface"
           }
          ],
          "table": [
           {
            "cells": {
             "fill": {
              "color": "#EBF0F8"
             },
             "line": {
              "color": "white"
             }
            },
            "header": {
             "fill": {
              "color": "#C8D4E3"
             },
             "line": {
              "color": "white"
             }
            },
            "type": "table"
           }
          ]
         },
         "layout": {
          "annotationdefaults": {
           "arrowcolor": "#2a3f5f",
           "arrowhead": 0,
           "arrowwidth": 1
          },
          "autotypenumbers": "strict",
          "coloraxis": {
           "colorbar": {
            "outlinewidth": 0,
            "ticks": ""
           }
          },
          "colorscale": {
           "diverging": [
            [
             0,
             "#8e0152"
            ],
            [
             0.1,
             "#c51b7d"
            ],
            [
             0.2,
             "#de77ae"
            ],
            [
             0.3,
             "#f1b6da"
            ],
            [
             0.4,
             "#fde0ef"
            ],
            [
             0.5,
             "#f7f7f7"
            ],
            [
             0.6,
             "#e6f5d0"
            ],
            [
             0.7,
             "#b8e186"
            ],
            [
             0.8,
             "#7fbc41"
            ],
            [
             0.9,
             "#4d9221"
            ],
            [
             1,
             "#276419"
            ]
           ],
           "sequential": [
            [
             0,
             "#0d0887"
            ],
            [
             0.1111111111111111,
             "#46039f"
            ],
            [
             0.2222222222222222,
             "#7201a8"
            ],
            [
             0.3333333333333333,
             "#9c179e"
            ],
            [
             0.4444444444444444,
             "#bd3786"
            ],
            [
             0.5555555555555556,
             "#d8576b"
            ],
            [
             0.6666666666666666,
             "#ed7953"
            ],
            [
             0.7777777777777778,
             "#fb9f3a"
            ],
            [
             0.8888888888888888,
             "#fdca26"
            ],
            [
             1,
             "#f0f921"
            ]
           ],
           "sequentialminus": [
            [
             0,
             "#0d0887"
            ],
            [
             0.1111111111111111,
             "#46039f"
            ],
            [
             0.2222222222222222,
             "#7201a8"
            ],
            [
             0.3333333333333333,
             "#9c179e"
            ],
            [
             0.4444444444444444,
             "#bd3786"
            ],
            [
             0.5555555555555556,
             "#d8576b"
            ],
            [
             0.6666666666666666,
             "#ed7953"
            ],
            [
             0.7777777777777778,
             "#fb9f3a"
            ],
            [
             0.8888888888888888,
             "#fdca26"
            ],
            [
             1,
             "#f0f921"
            ]
           ]
          },
          "colorway": [
           "#636efa",
           "#EF553B",
           "#00cc96",
           "#ab63fa",
           "#FFA15A",
           "#19d3f3",
           "#FF6692",
           "#B6E880",
           "#FF97FF",
           "#FECB52"
          ],
          "font": {
           "color": "#2a3f5f"
          },
          "geo": {
           "bgcolor": "white",
           "lakecolor": "white",
           "landcolor": "#E5ECF6",
           "showlakes": true,
           "showland": true,
           "subunitcolor": "white"
          },
          "hoverlabel": {
           "align": "left"
          },
          "hovermode": "closest",
          "mapbox": {
           "style": "light"
          },
          "paper_bgcolor": "white",
          "plot_bgcolor": "#E5ECF6",
          "polar": {
           "angularaxis": {
            "gridcolor": "white",
            "linecolor": "white",
            "ticks": ""
           },
           "bgcolor": "#E5ECF6",
           "radialaxis": {
            "gridcolor": "white",
            "linecolor": "white",
            "ticks": ""
           }
          },
          "scene": {
           "xaxis": {
            "backgroundcolor": "#E5ECF6",
            "gridcolor": "white",
            "gridwidth": 2,
            "linecolor": "white",
            "showbackground": true,
            "ticks": "",
            "zerolinecolor": "white"
           },
           "yaxis": {
            "backgroundcolor": "#E5ECF6",
            "gridcolor": "white",
            "gridwidth": 2,
            "linecolor": "white",
            "showbackground": true,
            "ticks": "",
            "zerolinecolor": "white"
           },
           "zaxis": {
            "backgroundcolor": "#E5ECF6",
            "gridcolor": "white",
            "gridwidth": 2,
            "linecolor": "white",
            "showbackground": true,
            "ticks": "",
            "zerolinecolor": "white"
           }
          },
          "shapedefaults": {
           "line": {
            "color": "#2a3f5f"
           }
          },
          "ternary": {
           "aaxis": {
            "gridcolor": "white",
            "linecolor": "white",
            "ticks": ""
           },
           "baxis": {
            "gridcolor": "white",
            "linecolor": "white",
            "ticks": ""
           },
           "bgcolor": "#E5ECF6",
           "caxis": {
            "gridcolor": "white",
            "linecolor": "white",
            "ticks": ""
           }
          },
          "title": {
           "x": 0.05
          },
          "xaxis": {
           "automargin": true,
           "gridcolor": "white",
           "linecolor": "white",
           "ticks": "",
           "title": {
            "standoff": 15
           },
           "zerolinecolor": "white",
           "zerolinewidth": 2
          },
          "yaxis": {
           "automargin": true,
           "gridcolor": "white",
           "linecolor": "white",
           "ticks": "",
           "title": {
            "standoff": 15
           },
           "zerolinecolor": "white",
           "zerolinewidth": 2
          }
         }
        },
        "title": {
         "text": "Comparison between original open price vs predicted open price"
        },
        "xaxis": {
         "anchor": "y",
         "domain": [
          0,
          1
         ],
         "title": {
          "text": "Date"
         }
        },
        "yaxis": {
         "anchor": "x",
         "domain": [
          0,
          1
         ],
         "title": {
          "text": "Price"
         }
        }
       }
      }
     },
     "metadata": {},
     "output_type": "display_data"
    }
   ],
   "source": [
    "import plotly.express as px\n",
    "# Filter the dates\n",
    "start_date = '2023-06-13'\n",
    "df_filtered = df[df['Date'] >= start_date]\n",
    "dates_col = df_filtered['Date'].values\n",
    "\n",
    "# Flatten the arrays\n",
    "testY_flat = testYInv.flatten()\n",
    "testPredict_flat = testPredictInv.flatten()\n",
    "\n",
    "# Create a DataFrame that contains the necessary data\n",
    "df_plot = pd.DataFrame({\n",
    "    'Date': dates_col,\n",
    "    'Actual Open Price': testY_flat,\n",
    "    'Predicted Open Price': testPredict_flat\n",
    "})\n",
    "\n",
    "# Melt the DataFrame to have 'Actual Open Price' and 'Predicted Open Price' in the same column\n",
    "df_plot_melt = df_plot.melt(id_vars='Date', value_vars=['Actual Open Price', 'Predicted Open Price'], var_name='Type', value_name='Price')\n",
    "\n",
    "# Create the line plots\n",
    "fig = px.line(df_plot_melt, x='Date', y='Price', color='Type', \n",
    "              color_discrete_map={'Actual Open Price':'green', 'Predicted Open Price':'red'})\n",
    "\n",
    "fig.update_layout(title_text='Comparison between original open price vs predicted open price',\n",
    "                  plot_bgcolor='white', font_size=13, font_color='black', legend_title_text='Open Price')\n",
    "\n",
    "# Show the plot\n",
    "fig.show()"
   ]
  },
  {
   "cell_type": "code",
   "execution_count": 15,
   "metadata": {},
   "outputs": [
    {
     "name": "stdout",
     "output_type": "stream",
     "text": [
      "136\n",
      "136\n",
      "136\n",
      "          dates    Actual_Open_price     Predicted_Open_price\n",
      "0    2023-06-13          1299.900024              1301.865234\n",
      "1    2023-06-14          1306.349976              1303.488037\n",
      "2    2023-06-15          1293.949951              1297.973022\n",
      "3    2023-06-16          1287.000000              1297.662231\n",
      "4    2023-06-19          1294.000000              1307.611694\n",
      "5    2023-06-20          1294.000000              1311.887817\n",
      "6    2023-06-21          1299.949951              1308.059570\n",
      "7    2023-06-22          1289.400024              1304.550049\n",
      "8    2023-06-23          1276.449951              1307.149536\n",
      "9    2023-06-26          1270.250000              1310.326416\n",
      "10   2023-06-27          1280.000000              1310.974976\n",
      "11   2023-06-28          1290.000000              1305.119507\n",
      "12   2023-06-30          1308.199951              1294.105713\n",
      "13   2023-07-03          1330.000000              1288.662354\n",
      "14   2023-07-04          1344.300049              1296.109375\n",
      "15   2023-07-05          1357.849976              1310.449829\n",
      "16   2023-07-06          1342.550049              1327.248535\n",
      "17   2023-07-07          1334.000000              1345.549072\n",
      "18   2023-07-10          1336.550049              1352.647705\n",
      "19   2023-07-11          1333.449951              1355.235962\n",
      "20   2023-07-12          1351.000000              1355.231567\n",
      "21   2023-07-13          1334.900024              1350.395386\n",
      "22   2023-07-14          1380.650024              1347.615234\n",
      "23   2023-07-17          1425.949951              1351.675903\n",
      "24   2023-07-18          1434.000000              1363.104004\n",
      "25   2023-07-19          1486.000000              1377.949097\n",
      "26   2023-07-20          1471.000000              1409.102905\n",
      "27   2023-07-21          1320.199951              1445.211914\n",
      "28   2023-07-24          1341.000000              1463.560425\n",
      "29   2023-07-25          1337.000000              1468.394653\n",
      "30   2023-07-26          1343.000000              1447.133789\n",
      "31   2023-07-27          1358.599976              1399.831421\n",
      "32   2023-07-28          1353.849976              1348.101929\n",
      "33   2023-07-31          1348.750000              1353.083496\n",
      "34   2023-08-01          1362.000000              1354.998291\n",
      "35   2023-08-02          1369.300049              1361.641724\n",
      "36   2023-08-03          1350.000000              1363.937378\n",
      "37   2023-08-04          1368.900024              1363.603027\n",
      "38   2023-08-07          1387.900024              1368.319214\n",
      "39   2023-08-08          1392.849976              1375.107056\n",
      "40   2023-08-09          1384.000000              1376.920166\n",
      "41   2023-08-10          1391.599976              1384.196655\n",
      "42   2023-08-11          1392.000000              1394.594971\n",
      "43   2023-08-14          1371.849976              1400.433960\n",
      "44   2023-08-16          1410.800049              1400.470093\n",
      "45   2023-08-17          1420.000000              1399.965210\n",
      "46   2023-08-18          1403.699951              1399.603760\n",
      "47   2023-08-21          1389.750000              1400.630737\n",
      "48   2023-08-22          1404.699951              1409.964478\n",
      "49   2023-08-23          1416.000000              1418.996216\n",
      "50   2023-08-24          1421.500000              1414.606079\n",
      "51   2023-08-25          1413.000000              1410.197510\n",
      "52   2023-08-28          1420.099976              1415.440430\n",
      "53   2023-08-29          1424.000000              1420.387939\n",
      "54   2023-08-30          1427.000000              1426.022095\n",
      "55   2023-08-31          1435.150024              1429.683350\n",
      "56   2023-09-01          1430.949951              1429.836548\n",
      "57   2023-09-04          1443.000000              1432.714722\n",
      "58   2023-09-05          1465.000000              1438.287109\n",
      "59   2023-09-06          1481.900024              1446.423706\n",
      "60   2023-09-07          1470.599976              1452.573486\n",
      "61   2023-09-08          1463.500000              1461.397949\n",
      "62   2023-09-11          1469.599976              1472.036011\n",
      "63   2023-09-12          1482.500000              1478.107300\n",
      "64   2023-09-13          1505.000000              1478.473389\n",
      "65   2023-09-14          1505.000000              1478.530518\n",
      "66   2023-09-15          1518.000000              1484.011230\n",
      "67   2023-09-18          1504.900024              1492.750122\n",
      "68   2023-09-20          1476.199951              1503.164307\n",
      "69   2023-09-21          1486.550049              1506.785034\n",
      "70   2023-09-22          1491.900024              1508.635132\n",
      "71   2023-09-25          1489.849976              1505.665039\n",
      "72   2023-09-26          1479.150024              1499.461548\n",
      "73   2023-09-27          1456.000000              1499.492065\n",
      "74   2023-09-28          1467.900024              1500.541748\n",
      "75   2023-09-29          1432.099976              1493.604858\n",
      "76   2023-10-03          1436.050049              1476.523071\n",
      "77   2023-10-04          1425.000000              1466.045044\n",
      "78   2023-10-05          1452.000000              1457.741455\n",
      "79   2023-10-06          1469.500000              1448.405640\n",
      "80   2023-10-09          1464.900024              1444.905640\n",
      "81   2023-10-10          1483.900024              1451.411621\n",
      "82   2023-10-11          1497.000000              1463.321289\n",
      "83   2023-10-12          1491.900024              1478.141113\n",
      "84   2023-10-13          1405.000000              1486.737915\n",
      "85   2023-10-16          1432.099976              1492.217896\n",
      "86   2023-10-17          1440.250000              1498.388062\n",
      "87   2023-10-18          1442.000000              1494.710205\n",
      "88   2023-10-19          1426.099976              1474.314331\n",
      "89   2023-10-20          1430.000000              1450.009277\n",
      "90   2023-10-23          1425.599976              1453.622681\n",
      "91   2023-10-25          1399.000000              1449.543823\n",
      "92   2023-10-26          1355.050049              1443.687622\n",
      "93   2023-10-27          1363.650024              1432.441406\n",
      "94   2023-10-30          1380.349976              1420.037109\n",
      "95   2023-10-31          1379.949951              1401.488525\n",
      "96   2023-11-01          1373.050049              1383.505859\n",
      "97   2023-11-02          1370.000000              1382.762207\n",
      "98   2023-11-03          1380.050049              1390.021606\n",
      "99   2023-11-06          1393.900024              1390.539673\n",
      "100  2023-11-07          1400.000000              1390.485596\n",
      "101  2023-11-08          1405.000000              1390.141968\n",
      "102  2023-11-09          1395.900024              1394.821899\n",
      "103  2023-11-10          1369.949951              1405.009155\n",
      "104  2023-11-13          1379.849976              1408.468628\n",
      "105  2023-11-15          1399.000000              1403.710327\n",
      "106  2023-11-16          1416.099976              1395.742920\n",
      "107  2023-11-17          1441.050049              1391.015625\n",
      "108  2023-11-20          1442.000000              1395.923584\n",
      "109  2023-11-21          1442.000000              1412.702271\n",
      "110  2023-11-22          1436.199951              1433.476196\n",
      "111  2023-11-23          1467.900024              1447.454102\n",
      "112  2023-11-24          1445.550049              1451.104004\n",
      "113  2023-11-28          1444.000000              1452.806152\n",
      "114  2023-11-29          1451.099976              1455.283936\n",
      "115  2023-11-30          1453.250000              1457.822510\n",
      "116  2023-12-01          1459.900024              1458.717285\n",
      "117  2023-12-04          1460.449951              1458.371094\n",
      "118  2023-12-05          1465.800049              1464.626709\n",
      "119  2023-12-06          1456.750000              1472.257324\n",
      "120  2023-12-07          1472.849976              1468.777466\n",
      "121  2023-12-08          1470.400024              1465.014282\n",
      "122  2023-12-11          1490.000000              1468.664307\n",
      "123  2023-12-12          1477.500000              1470.675293\n",
      "124  2023-12-13          1476.000000              1478.734863\n",
      "125  2023-12-14          1463.400024              1482.839111\n",
      "126  2023-12-15          1523.050049              1487.772827\n",
      "127  2023-12-18          1567.949951              1487.395630\n",
      "128  2023-12-19          1570.099976              1487.005127\n",
      "129  2023-12-20          1565.050049              1498.500977\n",
      "130  2023-12-21          1521.250000              1532.369141\n",
      "131  2023-12-22          1534.949951              1559.454346\n",
      "132  2023-12-26          1535.000000              1559.331665\n",
      "133  2023-12-27          1544.000000              1550.155640\n",
      "134  2023-12-28          1568.949951              1544.542847\n",
      "135  2023-12-29          1541.050049              1542.962158\n"
     ]
    }
   ],
   "source": [
    "testyinvflat=testYInv.flatten()\n",
    "\n",
    "print(len(testyinvflat))\n",
    "print(len(testPredictInv))\n",
    "start_date = '2023-06-13'\n",
    "df_filtered = df[df['Date'] >= start_date]\n",
    "dates_col = df_filtered['Date'].values\n",
    "print(len(dates_col))\n",
    "# Create a DataFrame with actual and predicted values\n",
    "df_result = pd.DataFrame({\n",
    "    'dates': dates_col,\n",
    "    '  Actual_Open_price': testyinvflat,\n",
    "    '   Predicted_Open_price': testPredictInv.flatten()\n",
    "})\n",
    "pd.set_option('display.max_rows', None)#so full table gets displayed instead of truncated\n",
    "print(df_result)"
   ]
  }
 ],
 "metadata": {
  "kernelspec": {
   "display_name": "Python 3",
   "language": "python",
   "name": "python3"
  },
  "language_info": {
   "codemirror_mode": {
    "name": "ipython",
    "version": 3
   },
   "file_extension": ".py",
   "mimetype": "text/x-python",
   "name": "python",
   "nbconvert_exporter": "python",
   "pygments_lexer": "ipython3",
   "version": "3.12.0"
  }
 },
 "nbformat": 4,
 "nbformat_minor": 2
}
